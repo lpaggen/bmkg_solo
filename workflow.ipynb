{
 "cells": [
  {
   "cell_type": "code",
   "execution_count": null,
   "metadata": {},
   "outputs": [],
   "source": [
    "from bs4 import BeautifulSoup\n",
    "import requests\n",
    "import re\n",
    "import pandas as pd \n",
    "from fuzzywuzzy import fuzz\n",
    "from rapidfuzz import process, fuzz\n",
    "from geopy.geocoders import Nominatim\n",
    "import time"
   ]
  },
  {
   "cell_type": "markdown",
   "metadata": {},
   "source": [
    "# this gets the tables from the list of all Belgian beers, and does some cleaning "
   ]
  },
  {
   "cell_type": "code",
   "execution_count": null,
   "metadata": {},
   "outputs": [],
   "source": [
    "url = \"https://fr.wikipedia.org/wiki/Liste_de_bi%C3%A8res_belges\"\n",
    "\n",
    "response = requests.get(url)\n",
    "soup = BeautifulSoup(response.text, \"html.parser\")\n",
    "\n",
    "tables = soup.find_all(\"table\", {\"class\": \"wikitable\"})\n",
    "\n",
    "def remove_wikipedia_ref(text):\n",
    "\treturn re.sub(r\"\\[\\d+\\]\", \"\", text)\n",
    "\n",
    "def remove_language_tags(text):\n",
    "\treturn re.sub(r\"\\s*\\((nl|en)\\)\", \"\", text)\n",
    "\n",
    "def remove_trailing_commas(text):\n",
    "\tcount_trailing = re.search(r\",+$\", text)\n",
    "\tif count_trailing:\n",
    "\t\treturn text[:-len(count_trailing.group())]\n",
    "\treturn text\n",
    "\n",
    "def remove_pour_and_following_text(text): # need to adjust to remove the parenthesis\n",
    "\tif \"pour\" in text:\n",
    "\t\treturn text.split(\"pour\")[0][:-1]\n",
    "\treturn text\n",
    "\n",
    "dataframes = []\n",
    "for i, table in enumerate(tables):\n",
    "    headers = [header.text.strip() for header in table.find_all(\"th\")]\n",
    "    rows = []\n",
    "    for row in table.find_all(\"tr\")[1:]: # start at 1 skip header \n",
    "        cols = row.find_all([\"td\", \"th\"])\n",
    "        cols = [col.text.strip() for col in cols]\n",
    "        cols = [remove_wikipedia_ref(col) for col in cols]\n",
    "        cols = [remove_trailing_commas(col) for col in cols]\n",
    "        cols = [remove_language_tags(col) for col in cols]\n",
    "        cols = [remove_pour_and_following_text(col) for col in cols]\n",
    "        if cols:\n",
    "            rows.append(cols)\n",
    "    df = pd.DataFrame(rows, columns=headers)\n",
    "    dataframes.append(df)\n",
    "\t\n",
    "beers = pd.concat(dataframes, ignore_index=True)"
   ]
  },
  {
   "cell_type": "code",
   "execution_count": 5,
   "metadata": {},
   "outputs": [
    {
     "data": {
      "application/vnd.microsoft.datawrangler.viewer.v0+json": {
       "columns": [
        {
         "name": "index",
         "rawType": "int64",
         "type": "integer"
        },
        {
         "name": "Bières",
         "rawType": "object",
         "type": "string"
        },
        {
         "name": "Type",
         "rawType": "object",
         "type": "string"
        },
        {
         "name": "Teneur en alcool",
         "rawType": "object",
         "type": "string"
        },
        {
         "name": "Brasserie",
         "rawType": "object",
         "type": "string"
        }
       ],
       "conversionMethod": "pd.DataFrame",
       "ref": "79bbaa18-c8b7-45b0-9aa1-8df06f375e19",
       "rows": [
        [
         "0",
         "3 Schténg",
         "Fermentation haute, Vieille Brune Flamande",
         "6 %",
         "Brasserie Grain d'Orge , 4852 Hombourg, Liège ,,, Pour le restaurant of the DrieLaenderpunkt Aussichtsturm (Tour Baudeoin)"
        ],
        [
         "1",
         "IV Saison",
         "Saison blonde",
         "6,5 %",
         "Brasserie de Jandrain-Jandrenouille"
        ],
        [
         "2",
         "V Cense",
         "Fermentation haute, Spéciale",
         "7,5 %",
         "Brasserie de Jandrain-Jandrenouille"
        ],
        [
         "3",
         "VI Wheat",
         "Fermentation haute, Blanche",
         "6 %",
         "Brasserie de Jandrain-Jandrenouille"
        ],
        [
         "4",
         "7-PK",
         "Fermentation haute blonde",
         "7 %",
         "Brouwerij Anders!"
        ],
        [
         "5",
         "26.2 M",
         "Fermentation haute Blonde",
         "6 %",
         "Brasserie L'Échappée Belle"
        ],
        [
         "6",
         "28 Triple",
         "Blonde,Triple",
         "9 %",
         "Brasserie De Proefbrouwerij"
        ],
        [
         "7",
         "La 44 Blanche",
         "Fermentation haute, Blanche",
         "5,5 %",
         "Brasserie de La Gleize"
        ],
        [
         "8",
         "La 44 Blonde",
         "Blonde",
         "5,5 %",
         "Brasserie de La Gleize"
        ],
        [
         "9",
         "La 44 Brune",
         "Fermentation haute Brune",
         "5,5 %",
         "Brasserie de la Gleize"
        ],
        [
         "10",
         "La 44 Brune Cuvée Spéciale",
         "Fermentation haute Brune",
         "6,5 %",
         "Brasserie de la Gleize"
        ],
        [
         "11",
         "La 44 Christmas",
         "Fermentation haute christmas",
         "6,0 %",
         "Brasserie de la Gleize"
        ],
        [
         "12",
         "La 44 Nuts Ambrée",
         "Fermentation haute Spéciale belge",
         "6,0 %",
         "Brasserie de la Gleize"
        ],
        [
         "13",
         "La 44 Tiger Triple",
         "Fermentation haute Blonde",
         "8,0 %",
         "Brasserie de la Gleize"
        ],
        [
         "14",
         "365 Pils Bière",
         "Blonde",
         "4,7 %",
         "Brasserie Haacht"
        ],
        [
         "15",
         "400-Quadrigenti",
         "Fermentation haute blonde",
         "5,6 %",
         "'t Hofbrouwerijke"
        ],
        [
         "16",
         "421 Millevertus",
         "Spéciale",
         "4,2 %",
         "Brasserie Millevertus"
        ],
        [
         "17",
         "1414 Ambrosius",
         "Spéciale refermentée en bouteille",
         "5 %",
         "Brouwerij Anders!"
        ],
        [
         "18",
         "La 1815",
         "Ambrée",
         "7 %",
         "Brasserie des Fagnes Bière brassée"
        ],
        [
         "19",
         "1842 by Caulier",
         "Fermentation haute blonde, refermentation en bouteille",
         "9 %",
         "Brasserie De Proefbrouwerij"
        ],
        [
         "20",
         "2290 Vorselaar",
         "Fermentation haute blonde refermentée en bouteille",
         "6 %",
         "Brouwerij Anders! brewed for Vzw Vorselazerus, Dorpsbier Vorselaar"
        ],
        [
         "21",
         "Aardmonnik",
         "Vieille brune",
         "8 %",
         "De Struise Brouwers"
        ],
        [
         "22",
         "Aarschotse Bruine",
         "Brune",
         "6 %",
         "Stadsbrouwerij Aarschot"
        ],
        [
         "23",
         "Abbaye d'Aulne Blonde des Pères 6",
         "Abbaye, Blonde",
         "6 %",
         "Brasserie du Val de Sambre"
        ],
        [
         "24",
         "Abbaye d'Aulne Brune des Pères 6",
         "Abbaye, Brune",
         "6 %",
         "Brasserie du Val de Sambre"
        ],
        [
         "25",
         "Abbaye d'Aulne Premier Cru",
         "Abbaye, Blonde",
         "9 %",
         "Brasserie du Val de Sambre"
        ],
        [
         "26",
         "Abbaye d'Aulne Super Noël 9",
         "Abbaye, Bière de Noël",
         "9 %",
         "Brasserie du Val de Sambre"
        ],
        [
         "27",
         "Abbaye d'Aulne Triple Blonde",
         "Abbaye, Triple",
         "8 %",
         "Brasserie du Val de Sambre"
        ],
        [
         "28",
         "Abbaye d'Aulne Triple Brune",
         "Abbaye, Triple",
         "8 %",
         "Brasserie du Val de Sambre"
        ],
        [
         "29",
         "Abbaye de Boneffe",
         "Abbaye, Brune",
         "9 %",
         "Brasserie de Tubize"
        ],
        [
         "30",
         "Abbaye de Bonne-Espérance",
         "Abbaye",
         "7,8 %",
         "Brasserie La Binchoise"
        ],
        [
         "31",
         "Abbaye de Bonne-Espérance Grand Cru",
         "Abbaye",
         "8 %",
         "Brouwerij Het Anker "
        ],
        [
         "32",
         "Abbaye d'Aulne Val de Sambre",
         "Abbaye, Ambrée",
         "6,4 %",
         "Brasserie du Val de Sambre"
        ],
        [
         "33",
         "Abbaye de Forest",
         "Abbaye, Triple",
         "6,5 %",
         "Brasserie de Silly"
        ],
        [
         "34",
         "Abbaye de Gembloux",
         "Triple",
         "8,5 %",
         "Brasserie Lefebvre"
        ],
        [
         "35",
         "Abbaye de la Thure",
         "Abbaye",
         "10 %",
         "Brasserie Brootcoorens"
        ],
        [
         "36",
         "Abbaye de Saint-Martin Blonde",
         "Abbaye",
         "7 %",
         "Brasserie de Brunehaut"
        ],
        [
         "37",
         "Abbaye de Saint-Martin Brune",
         "Abbaye",
         "8 %",
         "Brasserie de Brunehaut"
        ],
        [
         "38",
         "Abbaye de Saint-Martin Cuvée de Noël",
         "Abbaye, Bière de Noël",
         "8,5 %",
         "Brasserie de Brunehaut"
        ],
        [
         "39",
         "Abbaye de Saint-Martin Triple",
         "Abbaye, Triple",
         "9 %",
         "Brasserie de Brunehaut"
        ],
        [
         "40",
         "Abbaye de Oudkerken",
         "Abbaye",
         "6,2 %",
         "Brasserie Lefebvre"
        ],
        [
         "41",
         "Abbaye des Rocs Blonde",
         "Abbaye, Fermentation haute",
         "7,5 %",
         "Brasserie de l'Abbaye des Rocs"
        ],
        [
         "42",
         "Abbaye des Rocs Brune",
         "Abbaye, Brune",
         "9 %",
         "Brasserie de l'Abbaye des Rocs"
        ],
        [
         "43",
         "Abbaye des Rocs Grand Cru",
         "Abbaye, Ale",
         "9,5 %",
         "Brasserie de l'Abbaye des Rocs"
        ],
        [
         "44",
         "Abbaye des Rocs Spéciale Noël",
         "Abbaye, Bière de Noël",
         "9 %",
         "Brasserie de l'Abbaye des Rocs"
        ],
        [
         "45",
         "Abbaye du Park Blonde",
         "Abbaye, Blonde",
         "6 %",
         "Brasserie Haacht"
        ],
        [
         "46",
         "Abbaye du Park Brune",
         "Abbaye, Brune",
         "6 %",
         "Brasserie Haacht"
        ],
        [
         "47",
         "Abdis Blond",
         "Blonde",
         "6,5 %",
         "Brasserie Riva"
        ],
        [
         "48",
         "Abdis Bruin",
         "Brune",
         "6,5 %",
         "Brasserie Riva"
        ],
        [
         "49",
         "Abdis Tripel",
         "Triple",
         "8,2 %",
         "Brasserie Riva"
        ]
       ],
       "shape": {
        "columns": 4,
        "rows": 1860
       }
      },
      "text/html": [
       "<div>\n",
       "<style scoped>\n",
       "    .dataframe tbody tr th:only-of-type {\n",
       "        vertical-align: middle;\n",
       "    }\n",
       "\n",
       "    .dataframe tbody tr th {\n",
       "        vertical-align: top;\n",
       "    }\n",
       "\n",
       "    .dataframe thead th {\n",
       "        text-align: right;\n",
       "    }\n",
       "</style>\n",
       "<table border=\"1\" class=\"dataframe\">\n",
       "  <thead>\n",
       "    <tr style=\"text-align: right;\">\n",
       "      <th></th>\n",
       "      <th>Bières</th>\n",
       "      <th>Type</th>\n",
       "      <th>Teneur en alcool</th>\n",
       "      <th>Brasserie</th>\n",
       "    </tr>\n",
       "  </thead>\n",
       "  <tbody>\n",
       "    <tr>\n",
       "      <th>0</th>\n",
       "      <td>3 Schténg</td>\n",
       "      <td>Fermentation haute, Vieille Brune Flamande</td>\n",
       "      <td>6 %</td>\n",
       "      <td>Brasserie Grain d'Orge , 4852 Hombourg, Liège ...</td>\n",
       "    </tr>\n",
       "    <tr>\n",
       "      <th>1</th>\n",
       "      <td>IV Saison</td>\n",
       "      <td>Saison blonde</td>\n",
       "      <td>6,5 %</td>\n",
       "      <td>Brasserie de Jandrain-Jandrenouille</td>\n",
       "    </tr>\n",
       "    <tr>\n",
       "      <th>2</th>\n",
       "      <td>V Cense</td>\n",
       "      <td>Fermentation haute, Spéciale</td>\n",
       "      <td>7,5 %</td>\n",
       "      <td>Brasserie de Jandrain-Jandrenouille</td>\n",
       "    </tr>\n",
       "    <tr>\n",
       "      <th>3</th>\n",
       "      <td>VI Wheat</td>\n",
       "      <td>Fermentation haute, Blanche</td>\n",
       "      <td>6 %</td>\n",
       "      <td>Brasserie de Jandrain-Jandrenouille</td>\n",
       "    </tr>\n",
       "    <tr>\n",
       "      <th>4</th>\n",
       "      <td>7-PK</td>\n",
       "      <td>Fermentation haute blonde</td>\n",
       "      <td>7 %</td>\n",
       "      <td>Brouwerij Anders!</td>\n",
       "    </tr>\n",
       "    <tr>\n",
       "      <th>...</th>\n",
       "      <td>...</td>\n",
       "      <td>...</td>\n",
       "      <td>...</td>\n",
       "      <td>...</td>\n",
       "    </tr>\n",
       "    <tr>\n",
       "      <th>1855</th>\n",
       "      <td>Zulte</td>\n",
       "      <td>Fermentation haute, Brune</td>\n",
       "      <td>4,7 %</td>\n",
       "      <td>Alken-Maes (Heineken)</td>\n",
       "    </tr>\n",
       "    <tr>\n",
       "      <th>1856</th>\n",
       "      <td>Zwalmse Tripel</td>\n",
       "      <td>Triple</td>\n",
       "      <td>8 %</td>\n",
       "      <td>De Proefbrouwerij</td>\n",
       "    </tr>\n",
       "    <tr>\n",
       "      <th>1857</th>\n",
       "      <td>Zwarte Pol</td>\n",
       "      <td>Stout</td>\n",
       "      <td>6,5 %</td>\n",
       "      <td>Brasserie Inter-Pol</td>\n",
       "    </tr>\n",
       "    <tr>\n",
       "      <th>1858</th>\n",
       "      <td>Zwet.be</td>\n",
       "      <td>Stout</td>\n",
       "      <td>7 %</td>\n",
       "      <td>De Proefbrouwerij</td>\n",
       "    </tr>\n",
       "    <tr>\n",
       "      <th>1859</th>\n",
       "      <td>Zwijntje</td>\n",
       "      <td>Blonde (Bière-étiquette)</td>\n",
       "      <td>8 %</td>\n",
       "      <td>Brasserie Bios</td>\n",
       "    </tr>\n",
       "  </tbody>\n",
       "</table>\n",
       "<p>1860 rows × 4 columns</p>\n",
       "</div>"
      ],
      "text/plain": [
       "              Bières                                        Type  \\\n",
       "0          3 Schténg  Fermentation haute, Vieille Brune Flamande   \n",
       "1          IV Saison                               Saison blonde   \n",
       "2            V Cense                Fermentation haute, Spéciale   \n",
       "3           VI Wheat                 Fermentation haute, Blanche   \n",
       "4               7-PK                   Fermentation haute blonde   \n",
       "...              ...                                         ...   \n",
       "1855           Zulte                   Fermentation haute, Brune   \n",
       "1856  Zwalmse Tripel                                      Triple   \n",
       "1857      Zwarte Pol                                       Stout   \n",
       "1858         Zwet.be                                       Stout   \n",
       "1859        Zwijntje                    Blonde (Bière-étiquette)   \n",
       "\n",
       "     Teneur en alcool                                          Brasserie  \n",
       "0                 6 %  Brasserie Grain d'Orge , 4852 Hombourg, Liège ...  \n",
       "1               6,5 %                Brasserie de Jandrain-Jandrenouille  \n",
       "2               7,5 %                Brasserie de Jandrain-Jandrenouille  \n",
       "3                 6 %                Brasserie de Jandrain-Jandrenouille  \n",
       "4                 7 %                                  Brouwerij Anders!  \n",
       "...               ...                                                ...  \n",
       "1855            4,7 %                              Alken-Maes (Heineken)  \n",
       "1856              8 %                                  De Proefbrouwerij  \n",
       "1857            6,5 %                                Brasserie Inter-Pol  \n",
       "1858              7 %                                  De Proefbrouwerij  \n",
       "1859              8 %                                     Brasserie Bios  \n",
       "\n",
       "[1860 rows x 4 columns]"
      ]
     },
     "execution_count": 5,
     "metadata": {},
     "output_type": "execute_result"
    }
   ],
   "source": [
    "beers"
   ]
  },
  {
   "cell_type": "markdown",
   "metadata": {},
   "source": [
    "# this gets the data from list of Belgian breweries, as well as some additional beer"
   ]
  },
  {
   "cell_type": "code",
   "execution_count": 6,
   "metadata": {},
   "outputs": [],
   "source": [
    "url = \"https://fr.wikipedia.org/wiki/Liste_de_brasseries_belges\"\n",
    "\n",
    "reponse = requests.get(url)\n",
    "soup = BeautifulSoup(reponse.text, \"html.parser\")\n",
    "\n",
    "tables = soup.find_all(\"table\", {\"class\": \"wikitable\"})\n",
    "\n",
    "dataframes_breweries = []\n",
    "for i, table in enumerate(tables):\n",
    "    headers = [header.text.strip() for header in table.find_all(\"th\")]\n",
    "    rows = []\n",
    "    for row in table.find_all(\"tr\")[1:]:\n",
    "        cols = row.find_all([\"td\", \"th\"])\n",
    "        cols = [col.text.strip() for col in cols]\n",
    "        cols = [remove_wikipedia_ref(col) for col in cols]\n",
    "        cols = [remove_trailing_commas(col) for col in cols]\n",
    "        cols = [remove_language_tags(col) for col in cols]\n",
    "        cols = cols[:6]\n",
    "        if cols:\n",
    "            rows.append(cols)\n",
    "    df = pd.DataFrame(rows, columns=headers)\n",
    "    dataframes_breweries.append(df.iloc[:, :4])\n",
    "    \n",
    "breweries = pd.concat(dataframes_breweries, ignore_index=True)\n",
    "\n",
    "# this block just removes some useless columns and rows\n",
    "breweries = breweries.iloc[:250, :4]"
   ]
  },
  {
   "cell_type": "code",
   "execution_count": 7,
   "metadata": {},
   "outputs": [
    {
     "data": {
      "application/vnd.microsoft.datawrangler.viewer.v0+json": {
       "columns": [
        {
         "name": "index",
         "rawType": "int64",
         "type": "integer"
        },
        {
         "name": "Brasserie",
         "rawType": "object",
         "type": "string"
        },
        {
         "name": "Commune",
         "rawType": "object",
         "type": "string"
        },
        {
         "name": "Province",
         "rawType": "object",
         "type": "string"
        },
        {
         "name": "Principales bières",
         "rawType": "object",
         "type": "string"
        }
       ],
       "conversionMethod": "pd.DataFrame",
       "ref": "508c017a-f5f0-478c-a17a-57901c273a8a",
       "rows": [
        [
         "0",
         "Brasserie de l'abbaye de Saint-Ghislain",
         "Saint-Ghislain",
         "Hainaut",
         "Abbaye de Saint-Ghislain"
        ],
        [
         "1",
         "Brasserie de l'abbaye de Saint-Sixte",
         "Vleteren",
         "Flandre-Occidentale",
         "Westvleteren"
        ],
        [
         "2",
         "Brasserie de l'abbaye des Rocs",
         "Honnelles",
         "Hainaut",
         "Abbaye des Rocs"
        ],
        [
         "3",
         "Brasserie de l'abbaye du Val-Dieu",
         "Aubel",
         "Liège",
         "Val-Dieu"
        ],
        [
         "4",
         "Brasserie de l'abbaye de Villers-la-Ville",
         "Villers-la-Ville",
         "Brabant wallon",
         "Abbaye de Villers"
        ],
        [
         "5",
         "Abbaye Notre-Dame d'Orval",
         "Florenville",
         "Luxembourg",
         "Orval"
        ],
        [
         "6",
         "Brasserie de l'abbaye Notre-Dame de Saint-Benoît",
         "Hamont-Achel",
         "Limbourg",
         "Achel"
        ],
        [
         "7",
         "Brasserie de l'abbaye Notre-Dame de Saint-Rémy",
         "Rochefort",
         "Namur",
         "Rochefort"
        ],
        [
         "8",
         "Brasserie de l'abbaye Notre-Dame de Scourmont",
         "Chimay",
         "Hainaut",
         "Chimay"
        ],
        [
         "9",
         "Brasserie de l'abbaye Notre-Dame du Sacré-Cœur de Westmalle",
         "Malle",
         "Anvers",
         "Westmalle"
        ],
        [
         "10",
         "Microbrasserie de l'abbaye Saint-Gérard de Brogne",
         "Mettet",
         "Namur",
         "Brogne"
        ],
        [
         "11",
         "Brasserie d'Achouffe (fait partie de Duvel Moortgat)",
         "Houffalize",
         "Luxembourg",
         "Chouffe, McChouffe"
        ],
        [
         "12",
         "Brasserie Affligem (fait partie d'Alken-Maes<Heineken)",
         "Opwijk",
         "Brabant flamand",
         "Affligem, Postel, Ope-Ale, Florival"
        ],
        [
         "13",
         "Brasserie Alken (fait partie d'Alken-Maes<Heineken)",
         "Alken",
         "Limbourg",
         "Cristal Alken, Maes, Ciney, Grimbergen, Judas"
        ],
        [
         "14",
         "Brasserie Alvinne",
         "Zwevegem",
         "Flandre-Occidentale",
         "Alvinne"
        ],
        [
         "15",
         "Brasserie Amburon",
         "Tongres",
         "Limbourg",
         "Tungri"
        ],
        [
         "16",
         "Brasserie Anders!",
         "Halen",
         "Limbourg",
         "bières à façon"
        ],
        [
         "17",
         "Brasserie Angerik",
         "Dilbeek",
         "Brabant flamand",
         "Dilleke"
        ],
        [
         "18",
         "Microbrasserie des Ardennes",
         "Lierneux",
         "Liège",
         ""
        ],
        [
         "19",
         "Brasserie d'Arlon Coopérative",
         "Arlon",
         "Luxembourg",
         "ARAmiss, ARAporter, ARAluna, ARAfinée"
        ],
        [
         "20",
         "L'Art d'en Brasser",
         "Soignies",
         "Hainaut",
         "La Fougueuse, La Belle de Saison, L'Audacieux"
        ],
        [
         "21",
         "Brasserie Artois (fait partie d'AB InBev)",
         "Louvain",
         "Brabant flamand",
         "Stella Artois, Leffe, Vieux-Temps, Scotch CTS, Horse-Ale"
        ],
        [
         "22",
         "Brasserie Atrium",
         "Marche-en-Famenne",
         "Luxembourg",
         "Pam, Onyx"
        ],
        [
         "23",
         "Brasserie de l'Attrait",
         "Bertogne",
         "Luxembourg",
         "Attrait"
        ],
        [
         "24",
         "Brasserie AREVER",
         "Evere",
         "Bruxelles",
         "Chicon Malté, Une Noix d'Avance, Mousse d'Asperge"
        ],
        [
         "25",
         "Brasserie Augrenoise",
         "Soignies",
         "Hainaut",
         "Augrenoise"
        ],
        [
         "26",
         "Authentique Brasserie",
         "Bernissart",
         "Hainaut",
         "Authentique, Pils des Trois Canaux"
        ],
        [
         "27",
         "Brasserie La Barbiot",
         "Le Rœulx",
         "Hainaut",
         "Barbiot"
        ],
        [
         "28",
         "Brasserie de Battignies",
         "Binche",
         "Hainaut",
         "Fromenthine"
        ],
        [
         "29",
         "Beerstorming",
         "Saint-Gilles",
         "Bruxelles",
         "BS#28, BS#105, BS#122 BS#174"
        ],
        [
         "30",
         "Brasserie Belge",
         "Herstal",
         "Liège",
         "Belgicus"
        ],
        [
         "31",
         "Brasserie Belgoo",
         "Leeuw-Saint-Pierre",
         "Brabant flamand",
         "Belgoo"
        ],
        [
         "32",
         "Belgo Sapiens Brewery",
         "Nivelles",
         "Brabant wallon",
         "Blanche de Thines"
        ],
        [
         "33",
         "Brasserie de Bellevaux",
         "Malmedy",
         "Liège",
         "Bellevaux"
        ],
        [
         "34",
         "Brasserie Belle-Vue (fait partie de AB InBev)",
         "Leeuw-Saint-Pierre",
         "Brabant flamand",
         "Belle-Vue"
        ],
        [
         "35",
         "Brasserie de Bertinchamps",
         "Gembloux",
         "Namur",
         "Bertinchamps"
        ],
        [
         "36",
         "Brasserie La Binchoise",
         "Binche",
         "Hainaut",
         "Binchoise, Abbaye de Bonne Espérance"
        ],
        [
         "37",
         "Brasserie de Blaugies",
         "Dour",
         "Hainaut",
         "Darbyste, La Moneuse, Saison d'Épeautre"
        ],
        [
         "38",
         "Brasserie Bobbi",
         "Haut-Ittre",
         "Brabant Wallon",
         "Triple Saint-Géry"
        ],
        [
         "39",
         "Brasserie du Bocq",
         "Yvoir",
         "Namur",
         "Gauloise, Blanche de Namur, Triple Moine, Saison 1858"
        ],
        [
         "40",
         "Brasserie Boelens",
         "Saint-Nicolas",
         "Flandre-Orientale",
         "Waase Wolf, Klok"
        ],
        [
         "41",
         "Brasserie Boon",
         "Hal",
         "Brabant flamand",
         "Boon"
        ],
        [
         "42",
         "Brasserie Bosteels (fait partie de AB InBev)",
         "Buggenhout",
         "Flandre-Orientale",
         "Deus, Kwak, Tripel Karmeliet"
        ],
        [
         "43",
         "Brasserie La Botteresse",
         "Saint-Georges-sur-Meuse",
         "Liège",
         "La Botteresse, Sur-les-Bois"
        ],
        [
         "44",
         "Brasserie de Bouillon",
         "Bouillon",
         "Luxembourg",
         "La Médiévale, Cuvée de Bouillon"
        ],
        [
         "45",
         "Brasserie Bourgogne des Flandres (fait partie de John Martin SA)",
         "Bruges",
         "Flandre-Occidentale",
         "Bourgogne des Flandres"
        ],
        [
         "46",
         "Brasserie du Brabant",
         "Genappe",
         "Brabant wallon",
         "La Brabançonne"
        ],
        [
         "47",
         "Brasserie Brasse-Temps (Louvain-La-Neuve)",
         "Louvain-La-Neuve",
         "Brabant wallon",
         "Brasse-Temps"
        ],
        [
         "48",
         "Brasserie Brasse-Temps (Mons)",
         "Mons",
         "Hainaut",
         "Brasse-Temps"
        ],
        [
         "49",
         "Brasserie Brootcoorens",
         "Erquelinnes",
         "Hainaut",
         "Angélus"
        ]
       ],
       "shape": {
        "columns": 4,
        "rows": 250
       }
      },
      "text/html": [
       "<div>\n",
       "<style scoped>\n",
       "    .dataframe tbody tr th:only-of-type {\n",
       "        vertical-align: middle;\n",
       "    }\n",
       "\n",
       "    .dataframe tbody tr th {\n",
       "        vertical-align: top;\n",
       "    }\n",
       "\n",
       "    .dataframe thead th {\n",
       "        text-align: right;\n",
       "    }\n",
       "</style>\n",
       "<table border=\"1\" class=\"dataframe\">\n",
       "  <thead>\n",
       "    <tr style=\"text-align: right;\">\n",
       "      <th></th>\n",
       "      <th>Brasserie</th>\n",
       "      <th>Commune</th>\n",
       "      <th>Province</th>\n",
       "      <th>Principales bières</th>\n",
       "    </tr>\n",
       "  </thead>\n",
       "  <tbody>\n",
       "    <tr>\n",
       "      <th>0</th>\n",
       "      <td>Brasserie de l'abbaye de Saint-Ghislain</td>\n",
       "      <td>Saint-Ghislain</td>\n",
       "      <td>Hainaut</td>\n",
       "      <td>Abbaye de Saint-Ghislain</td>\n",
       "    </tr>\n",
       "    <tr>\n",
       "      <th>1</th>\n",
       "      <td>Brasserie de l'abbaye de Saint-Sixte</td>\n",
       "      <td>Vleteren</td>\n",
       "      <td>Flandre-Occidentale</td>\n",
       "      <td>Westvleteren</td>\n",
       "    </tr>\n",
       "    <tr>\n",
       "      <th>2</th>\n",
       "      <td>Brasserie de l'abbaye des Rocs</td>\n",
       "      <td>Honnelles</td>\n",
       "      <td>Hainaut</td>\n",
       "      <td>Abbaye des Rocs</td>\n",
       "    </tr>\n",
       "    <tr>\n",
       "      <th>3</th>\n",
       "      <td>Brasserie de l'abbaye du Val-Dieu</td>\n",
       "      <td>Aubel</td>\n",
       "      <td>Liège</td>\n",
       "      <td>Val-Dieu</td>\n",
       "    </tr>\n",
       "    <tr>\n",
       "      <th>4</th>\n",
       "      <td>Brasserie de l'abbaye de Villers-la-Ville</td>\n",
       "      <td>Villers-la-Ville</td>\n",
       "      <td>Brabant wallon</td>\n",
       "      <td>Abbaye de Villers</td>\n",
       "    </tr>\n",
       "    <tr>\n",
       "      <th>...</th>\n",
       "      <td>...</td>\n",
       "      <td>...</td>\n",
       "      <td>...</td>\n",
       "      <td>...</td>\n",
       "    </tr>\n",
       "    <tr>\n",
       "      <th>245</th>\n",
       "      <td>Brasserie de Warsage</td>\n",
       "      <td>Dalhem</td>\n",
       "      <td>Liège</td>\n",
       "      <td>Warsage</td>\n",
       "    </tr>\n",
       "    <tr>\n",
       "      <th>246</th>\n",
       "      <td>Microbrasserie de Waterloo (fait partie de Joh...</td>\n",
       "      <td>Waterloo</td>\n",
       "      <td>Brabant wallon</td>\n",
       "      <td>Waterloo</td>\n",
       "    </tr>\n",
       "    <tr>\n",
       "      <th>247</th>\n",
       "      <td>Brasserie Weldebrouck</td>\n",
       "      <td>Willebroek</td>\n",
       "      <td>Anvers</td>\n",
       "      <td>Weldebrouck</td>\n",
       "    </tr>\n",
       "    <tr>\n",
       "      <th>248</th>\n",
       "      <td>Brasserie Wilderen</td>\n",
       "      <td>Saint-Trond</td>\n",
       "      <td>Limbourg</td>\n",
       "      <td>Tripel Kanunnik, Wilderen</td>\n",
       "    </tr>\n",
       "    <tr>\n",
       "      <th>249</th>\n",
       "      <td>Witches Brewery</td>\n",
       "      <td>Flobecq</td>\n",
       "      <td>Hainaut</td>\n",
       "      <td>Free Moon</td>\n",
       "    </tr>\n",
       "  </tbody>\n",
       "</table>\n",
       "<p>250 rows × 4 columns</p>\n",
       "</div>"
      ],
      "text/plain": [
       "                                             Brasserie           Commune  \\\n",
       "0              Brasserie de l'abbaye de Saint-Ghislain    Saint-Ghislain   \n",
       "1                 Brasserie de l'abbaye de Saint-Sixte          Vleteren   \n",
       "2                       Brasserie de l'abbaye des Rocs         Honnelles   \n",
       "3                    Brasserie de l'abbaye du Val-Dieu             Aubel   \n",
       "4            Brasserie de l'abbaye de Villers-la-Ville  Villers-la-Ville   \n",
       "..                                                 ...               ...   \n",
       "245                               Brasserie de Warsage            Dalhem   \n",
       "246  Microbrasserie de Waterloo (fait partie de Joh...          Waterloo   \n",
       "247                              Brasserie Weldebrouck        Willebroek   \n",
       "248                                 Brasserie Wilderen       Saint-Trond   \n",
       "249                                    Witches Brewery           Flobecq   \n",
       "\n",
       "                Province         Principales bières  \n",
       "0                Hainaut   Abbaye de Saint-Ghislain  \n",
       "1    Flandre-Occidentale               Westvleteren  \n",
       "2                Hainaut            Abbaye des Rocs  \n",
       "3                  Liège                   Val-Dieu  \n",
       "4         Brabant wallon          Abbaye de Villers  \n",
       "..                   ...                        ...  \n",
       "245                Liège                    Warsage  \n",
       "246       Brabant wallon                   Waterloo  \n",
       "247               Anvers                Weldebrouck  \n",
       "248             Limbourg  Tripel Kanunnik, Wilderen  \n",
       "249              Hainaut                  Free Moon  \n",
       "\n",
       "[250 rows x 4 columns]"
      ]
     },
     "execution_count": 7,
     "metadata": {},
     "output_type": "execute_result"
    }
   ],
   "source": [
    "breweries"
   ]
  },
  {
   "cell_type": "markdown",
   "metadata": {},
   "source": [
    "# we need to align the breweries from both datasets with the format of one of the two\n",
    "for this we will use the transformers -- sentence_transformers\n",
    "or fuzzy thing, idk which one will work best\n",
    "\n",
    "\n"
   ]
  },
  {
   "cell_type": "code",
   "execution_count": null,
   "metadata": {},
   "outputs": [],
   "source": [
    "def rename_by_similarity(df_source, col_source, df_reference, col_reference, threshold=80):\n",
    "    ref_values = df_reference[col_reference].dropna().unique() # this gets unique brewery names\n",
    "    df_source = df_source.copy()\n",
    "\n",
    "    def get_best_match(value):\n",
    "        if pd.isna(value) or value == \"\":\n",
    "            return value\n",
    "        match, score, i = process.extractOne(value, ref_values, scorer=fuzz.ratio)\n",
    "        return match if score >= threshold else value # renaming if above threshold\n",
    "\n",
    "    df_source[col_source] = df_source[col_source].apply(get_best_match)\n",
    "    return df_source"
   ]
  },
  {
   "cell_type": "code",
   "execution_count": 9,
   "metadata": {},
   "outputs": [],
   "source": [
    "new = rename_by_similarity(beers, \"Brasserie\", breweries, \"Brasserie\")"
   ]
  },
  {
   "cell_type": "markdown",
   "metadata": {},
   "source": [
    "# here i'm going to add some coordinates using geopy library"
   ]
  },
  {
   "cell_type": "code",
   "execution_count": null,
   "metadata": {},
   "outputs": [],
   "source": [
    "geolocator = Nominatim(user_agent=\"myGeocoder\", timeout=3) # have to try using different timeout values\n",
    "\n",
    "coordinates = []\n",
    "\n",
    "for index, row in breweries.iterrows():\n",
    "    brewery = row[\"Brasserie\"]\n",
    "    commune = row[\"Commune\"]\n",
    "    province = row[\"Province\"]\n",
    "\n",
    "    if '(' in brewery: # here it's to avoid errors when getting coordinates of the brewery if it has a parent company\n",
    "        brewery = brewery.split('(')[0].strip()\n",
    "\n",
    "    retries = 3\n",
    "    for i in range(retries):\n",
    "        try:\n",
    "            location = geolocator.geocode(brewery) # first we try getting coords of the brewery (most precise)\n",
    "            if location:\n",
    "                coordinates.append((location.latitude, location.longitude))\n",
    "                break # when found coordinates break loop\n",
    "            else:\n",
    "                location = geolocator.geocode(commune) # moving onto commune\n",
    "                if location:\n",
    "                    coordinates.append((location.latitude, location.longitude))\n",
    "                    break\n",
    "                else:\n",
    "                    coordinates.append(None) # nothing found, might add manually\n",
    "                    break\n",
    "        except Exception as e:\n",
    "            print(f\"Error processing {brewery}: {e}\")\n",
    "            time.sleep(5)\n",
    "\n",
    "breweries[\"coordinates\"] = coordinates"
   ]
  },
  {
   "cell_type": "code",
   "execution_count": 11,
   "metadata": {},
   "outputs": [
    {
     "data": {
      "application/vnd.microsoft.datawrangler.viewer.v0+json": {
       "columns": [
        {
         "name": "index",
         "rawType": "int64",
         "type": "integer"
        },
        {
         "name": "Brasserie",
         "rawType": "object",
         "type": "string"
        },
        {
         "name": "Commune",
         "rawType": "object",
         "type": "string"
        },
        {
         "name": "Province",
         "rawType": "object",
         "type": "string"
        },
        {
         "name": "Principales bières",
         "rawType": "object",
         "type": "string"
        },
        {
         "name": "coordinates",
         "rawType": "object",
         "type": "unknown"
        }
       ],
       "conversionMethod": "pd.DataFrame",
       "ref": "247c8ebe-3669-4e1e-91e4-bfca4abeb7e8",
       "rows": [
        [
         "0",
         "Brasserie de l'abbaye de Saint-Ghislain",
         "Saint-Ghislain",
         "Hainaut",
         "Abbaye de Saint-Ghislain",
         "(50.4477484, 3.8195241)"
        ],
        [
         "1",
         "Brasserie de l'abbaye de Saint-Sixte",
         "Vleteren",
         "Flandre-Occidentale",
         "Westvleteren",
         "(50.930143, 2.7289867)"
        ],
        [
         "2",
         "Brasserie de l'abbaye des Rocs",
         "Honnelles",
         "Hainaut",
         "Abbaye des Rocs",
         "(50.38168775, 3.719061535766789)"
        ],
        [
         "3",
         "Brasserie de l'abbaye du Val-Dieu",
         "Aubel",
         "Liège",
         "Val-Dieu",
         "(50.69760135, 5.804543928689291)"
        ],
        [
         "4",
         "Brasserie de l'abbaye de Villers-la-Ville",
         "Villers-la-Ville",
         "Brabant wallon",
         "Abbaye de Villers",
         "(47.5477, 6.46369)"
        ],
        [
         "5",
         "Abbaye Notre-Dame d'Orval",
         "Florenville",
         "Luxembourg",
         "Orval",
         "(49.6409244, 5.349987917600003)"
        ],
        [
         "6",
         "Brasserie de l'abbaye Notre-Dame de Saint-Benoît",
         "Hamont-Achel",
         "Limbourg",
         "Achel",
         "(51.2547636, 5.5128696)"
        ],
        [
         "7",
         "Brasserie de l'abbaye Notre-Dame de Saint-Rémy",
         "Rochefort",
         "Namur",
         "Rochefort",
         "(45.9366592, -0.9616399)"
        ],
        [
         "8",
         "Brasserie de l'abbaye Notre-Dame de Scourmont",
         "Chimay",
         "Hainaut",
         "Chimay",
         "(50.0356458, 4.321257313232458)"
        ],
        [
         "9",
         "Brasserie de l'abbaye Notre-Dame du Sacré-Cœur de Westmalle",
         "Malle",
         "Anvers",
         "Westmalle",
         "(51.2970123, 4.6933094)"
        ],
        [
         "10",
         "Microbrasserie de l'abbaye Saint-Gérard de Brogne",
         "Mettet",
         "Namur",
         "Brogne",
         "(50.3212094, 4.6584949)"
        ],
        [
         "11",
         "Brasserie d'Achouffe (fait partie de Duvel Moortgat)",
         "Houffalize",
         "Luxembourg",
         "Chouffe, McChouffe",
         "(50.15096665, 5.745850863614394)"
        ],
        [
         "12",
         "Brasserie Affligem (fait partie d'Alken-Maes<Heineken)",
         "Opwijk",
         "Brabant flamand",
         "Affligem, Postel, Ope-Ale, Florival",
         "(50.9125769, 4.1125154)"
        ],
        [
         "13",
         "Brasserie Alken (fait partie d'Alken-Maes<Heineken)",
         "Alken",
         "Limbourg",
         "Cristal Alken, Maes, Ciney, Grimbergen, Judas",
         "(50.886684599999995, 5.2931618797596665)"
        ],
        [
         "14",
         "Brasserie Alvinne",
         "Zwevegem",
         "Flandre-Occidentale",
         "Alvinne",
         "(50.78285655, 3.375586376478683)"
        ],
        [
         "15",
         "Brasserie Amburon",
         "Tongres",
         "Limbourg",
         "Tungri",
         "(50.7806267, 5.4639172)"
        ],
        [
         "16",
         "Brasserie Anders!",
         "Halen",
         "Limbourg",
         "bières à façon",
         "(52.9587484, 5.7233277)"
        ],
        [
         "17",
         "Brasserie Angerik",
         "Dilbeek",
         "Brabant flamand",
         "Dilleke",
         "(50.85182815, 4.239174079387096)"
        ],
        [
         "18",
         "Microbrasserie des Ardennes",
         "Lierneux",
         "Liège",
         "",
         "(50.2977844, 5.7625544)"
        ],
        [
         "19",
         "Brasserie d'Arlon Coopérative",
         "Arlon",
         "Luxembourg",
         "ARAmiss, ARAporter, ARAluna, ARAfinée",
         "(49.6834601, 5.8167711)"
        ],
        [
         "20",
         "L'Art d'en Brasser",
         "Soignies",
         "Hainaut",
         "La Fougueuse, La Belle de Saison, L'Audacieux",
         "(50.579203, 4.0685604)"
        ],
        [
         "21",
         "Brasserie Artois (fait partie d'AB InBev)",
         "Louvain",
         "Brabant flamand",
         "Stella Artois, Leffe, Vieux-Temps, Scotch CTS, Horse-Ale",
         "(50.88812705, 4.710538805265111)"
        ],
        [
         "22",
         "Brasserie Atrium",
         "Marche-en-Famenne",
         "Luxembourg",
         "Pam, Onyx",
         "(43.7107819, -1.0556129)"
        ],
        [
         "23",
         "Brasserie de l'Attrait",
         "Bertogne",
         "Luxembourg",
         "Attrait",
         "(50.0545889, 5.592256387100326)"
        ],
        [
         "24",
         "Brasserie AREVER",
         "Evere",
         "Bruxelles",
         "Chicon Malté, Une Noix d'Avance, Mousse d'Asperge",
         "(50.8720096, 4.4034182)"
        ],
        [
         "25",
         "Brasserie Augrenoise",
         "Soignies",
         "Hainaut",
         "Augrenoise",
         "(50.579203, 4.0685604)"
        ],
        [
         "26",
         "Authentique Brasserie",
         "Bernissart",
         "Hainaut",
         "Authentique, Pils des Trois Canaux",
         "(50.4991756, 3.6737823)"
        ],
        [
         "27",
         "Brasserie La Barbiot",
         "Le Rœulx",
         "Hainaut",
         "Barbiot",
         "(50.504794649999994, 4.091488261324537)"
        ],
        [
         "28",
         "Brasserie de Battignies",
         "Binche",
         "Hainaut",
         "Fromenthine",
         "(50.4103004, 4.165163)"
        ],
        [
         "29",
         "Beerstorming",
         "Saint-Gilles",
         "Bruxelles",
         "BS#28, BS#105, BS#122 BS#174",
         "(50.8243316, 4.3431704)"
        ],
        [
         "30",
         "Brasserie Belge",
         "Herstal",
         "Liège",
         "Belgicus",
         "(50.601842250000004, 5.381503502086348)"
        ],
        [
         "31",
         "Brasserie Belgoo",
         "Leeuw-Saint-Pierre",
         "Brabant flamand",
         "Belgoo",
         "(50.7800261, 4.2443604)"
        ],
        [
         "32",
         "Belgo Sapiens Brewery",
         "Nivelles",
         "Brabant wallon",
         "Blanche de Thines",
         "(50.5976885, 4.3235854)"
        ],
        [
         "33",
         "Brasserie de Bellevaux",
         "Malmedy",
         "Liège",
         "Bellevaux",
         "(50.39129115, 6.008729076521822)"
        ],
        [
         "34",
         "Brasserie Belle-Vue (fait partie de AB InBev)",
         "Leeuw-Saint-Pierre",
         "Brabant flamand",
         "Belle-Vue",
         "(51.18704715, 5.118139455165353)"
        ],
        [
         "35",
         "Brasserie de Bertinchamps",
         "Gembloux",
         "Namur",
         "Bertinchamps",
         "(50.557606899999996, 4.641485168265216)"
        ],
        [
         "36",
         "Brasserie La Binchoise",
         "Binche",
         "Hainaut",
         "Binchoise, Abbaye de Bonne Espérance",
         "(50.4263301, 4.126294247491478)"
        ],
        [
         "37",
         "Brasserie de Blaugies",
         "Dour",
         "Hainaut",
         "Darbyste, La Moneuse, Saison d'Épeautre",
         "(50.3582547, 3.8436693)"
        ],
        [
         "38",
         "Brasserie Bobbi",
         "Haut-Ittre",
         "Brabant Wallon",
         "Triple Saint-Géry",
         "(50.648803900000004, 4.296471951359066)"
        ],
        [
         "39",
         "Brasserie du Bocq",
         "Yvoir",
         "Namur",
         "Gauloise, Blanche de Namur, Triple Moine, Saison 1858",
         "(50.3112826, 4.944263618532086)"
        ],
        [
         "40",
         "Brasserie Boelens",
         "Saint-Nicolas",
         "Flandre-Orientale",
         "Waase Wolf, Klok",
         "(50.3022047, 2.7767966)"
        ],
        [
         "41",
         "Brasserie Boon",
         "Hal",
         "Brabant flamand",
         "Boon",
         "(53.7435722, -0.3394758)"
        ],
        [
         "42",
         "Brasserie Bosteels (fait partie de AB InBev)",
         "Buggenhout",
         "Flandre-Orientale",
         "Deus, Kwak, Tripel Karmeliet",
         "(51.0152271, 4.2022689)"
        ],
        [
         "43",
         "Brasserie La Botteresse",
         "Saint-Georges-sur-Meuse",
         "Liège",
         "La Botteresse, Sur-les-Bois",
         "(50.6000654, 5.3584259)"
        ],
        [
         "44",
         "Brasserie de Bouillon",
         "Bouillon",
         "Luxembourg",
         "La Médiévale, Cuvée de Bouillon",
         "(49.8206215, 5.086273)"
        ],
        [
         "45",
         "Brasserie Bourgogne des Flandres (fait partie de John Martin SA)",
         "Bruges",
         "Flandre-Occidentale",
         "Bourgogne des Flandres",
         "(51.2085526, 3.226772)"
        ],
        [
         "46",
         "Brasserie du Brabant",
         "Genappe",
         "Brabant wallon",
         "La Brabançonne",
         "(50.5915696, 4.3222894)"
        ],
        [
         "47",
         "Brasserie Brasse-Temps (Louvain-La-Neuve)",
         "Louvain-La-Neuve",
         "Brabant wallon",
         "Brasse-Temps",
         "(50.6741689, 4.613790587187648)"
        ],
        [
         "48",
         "Brasserie Brasse-Temps (Mons)",
         "Mons",
         "Hainaut",
         "Brasse-Temps",
         "(50.4549568, 3.951958)"
        ],
        [
         "49",
         "Brasserie Brootcoorens",
         "Erquelinnes",
         "Hainaut",
         "Angélus",
         "(50.3070077, 4.1069398)"
        ]
       ],
       "shape": {
        "columns": 5,
        "rows": 250
       }
      },
      "text/html": [
       "<div>\n",
       "<style scoped>\n",
       "    .dataframe tbody tr th:only-of-type {\n",
       "        vertical-align: middle;\n",
       "    }\n",
       "\n",
       "    .dataframe tbody tr th {\n",
       "        vertical-align: top;\n",
       "    }\n",
       "\n",
       "    .dataframe thead th {\n",
       "        text-align: right;\n",
       "    }\n",
       "</style>\n",
       "<table border=\"1\" class=\"dataframe\">\n",
       "  <thead>\n",
       "    <tr style=\"text-align: right;\">\n",
       "      <th></th>\n",
       "      <th>Brasserie</th>\n",
       "      <th>Commune</th>\n",
       "      <th>Province</th>\n",
       "      <th>Principales bières</th>\n",
       "      <th>coordinates</th>\n",
       "    </tr>\n",
       "  </thead>\n",
       "  <tbody>\n",
       "    <tr>\n",
       "      <th>0</th>\n",
       "      <td>Brasserie de l'abbaye de Saint-Ghislain</td>\n",
       "      <td>Saint-Ghislain</td>\n",
       "      <td>Hainaut</td>\n",
       "      <td>Abbaye de Saint-Ghislain</td>\n",
       "      <td>(50.4477484, 3.8195241)</td>\n",
       "    </tr>\n",
       "    <tr>\n",
       "      <th>1</th>\n",
       "      <td>Brasserie de l'abbaye de Saint-Sixte</td>\n",
       "      <td>Vleteren</td>\n",
       "      <td>Flandre-Occidentale</td>\n",
       "      <td>Westvleteren</td>\n",
       "      <td>(50.930143, 2.7289867)</td>\n",
       "    </tr>\n",
       "    <tr>\n",
       "      <th>2</th>\n",
       "      <td>Brasserie de l'abbaye des Rocs</td>\n",
       "      <td>Honnelles</td>\n",
       "      <td>Hainaut</td>\n",
       "      <td>Abbaye des Rocs</td>\n",
       "      <td>(50.38168775, 3.719061535766789)</td>\n",
       "    </tr>\n",
       "    <tr>\n",
       "      <th>3</th>\n",
       "      <td>Brasserie de l'abbaye du Val-Dieu</td>\n",
       "      <td>Aubel</td>\n",
       "      <td>Liège</td>\n",
       "      <td>Val-Dieu</td>\n",
       "      <td>(50.69760135, 5.804543928689291)</td>\n",
       "    </tr>\n",
       "    <tr>\n",
       "      <th>4</th>\n",
       "      <td>Brasserie de l'abbaye de Villers-la-Ville</td>\n",
       "      <td>Villers-la-Ville</td>\n",
       "      <td>Brabant wallon</td>\n",
       "      <td>Abbaye de Villers</td>\n",
       "      <td>(47.5477, 6.46369)</td>\n",
       "    </tr>\n",
       "    <tr>\n",
       "      <th>...</th>\n",
       "      <td>...</td>\n",
       "      <td>...</td>\n",
       "      <td>...</td>\n",
       "      <td>...</td>\n",
       "      <td>...</td>\n",
       "    </tr>\n",
       "    <tr>\n",
       "      <th>245</th>\n",
       "      <td>Brasserie de Warsage</td>\n",
       "      <td>Dalhem</td>\n",
       "      <td>Liège</td>\n",
       "      <td>Warsage</td>\n",
       "      <td>(50.7383855, 5.7659816)</td>\n",
       "    </tr>\n",
       "    <tr>\n",
       "      <th>246</th>\n",
       "      <td>Microbrasserie de Waterloo (fait partie de Joh...</td>\n",
       "      <td>Waterloo</td>\n",
       "      <td>Brabant wallon</td>\n",
       "      <td>Waterloo</td>\n",
       "      <td>(42.498275, -92.3328743)</td>\n",
       "    </tr>\n",
       "    <tr>\n",
       "      <th>247</th>\n",
       "      <td>Brasserie Weldebrouck</td>\n",
       "      <td>Willebroek</td>\n",
       "      <td>Anvers</td>\n",
       "      <td>Weldebrouck</td>\n",
       "      <td>(51.0606816, 4.3588917)</td>\n",
       "    </tr>\n",
       "    <tr>\n",
       "      <th>248</th>\n",
       "      <td>Brasserie Wilderen</td>\n",
       "      <td>Saint-Trond</td>\n",
       "      <td>Limbourg</td>\n",
       "      <td>Tripel Kanunnik, Wilderen</td>\n",
       "      <td>(50.8152784, 5.1858896)</td>\n",
       "    </tr>\n",
       "    <tr>\n",
       "      <th>249</th>\n",
       "      <td>Witches Brewery</td>\n",
       "      <td>Flobecq</td>\n",
       "      <td>Hainaut</td>\n",
       "      <td>Free Moon</td>\n",
       "      <td>(50.755508199999994, 3.7314432186147237)</td>\n",
       "    </tr>\n",
       "  </tbody>\n",
       "</table>\n",
       "<p>250 rows × 5 columns</p>\n",
       "</div>"
      ],
      "text/plain": [
       "                                             Brasserie           Commune  \\\n",
       "0              Brasserie de l'abbaye de Saint-Ghislain    Saint-Ghislain   \n",
       "1                 Brasserie de l'abbaye de Saint-Sixte          Vleteren   \n",
       "2                       Brasserie de l'abbaye des Rocs         Honnelles   \n",
       "3                    Brasserie de l'abbaye du Val-Dieu             Aubel   \n",
       "4            Brasserie de l'abbaye de Villers-la-Ville  Villers-la-Ville   \n",
       "..                                                 ...               ...   \n",
       "245                               Brasserie de Warsage            Dalhem   \n",
       "246  Microbrasserie de Waterloo (fait partie de Joh...          Waterloo   \n",
       "247                              Brasserie Weldebrouck        Willebroek   \n",
       "248                                 Brasserie Wilderen       Saint-Trond   \n",
       "249                                    Witches Brewery           Flobecq   \n",
       "\n",
       "                Province         Principales bières  \\\n",
       "0                Hainaut   Abbaye de Saint-Ghislain   \n",
       "1    Flandre-Occidentale               Westvleteren   \n",
       "2                Hainaut            Abbaye des Rocs   \n",
       "3                  Liège                   Val-Dieu   \n",
       "4         Brabant wallon          Abbaye de Villers   \n",
       "..                   ...                        ...   \n",
       "245                Liège                    Warsage   \n",
       "246       Brabant wallon                   Waterloo   \n",
       "247               Anvers                Weldebrouck   \n",
       "248             Limbourg  Tripel Kanunnik, Wilderen   \n",
       "249              Hainaut                  Free Moon   \n",
       "\n",
       "                                  coordinates  \n",
       "0                     (50.4477484, 3.8195241)  \n",
       "1                      (50.930143, 2.7289867)  \n",
       "2            (50.38168775, 3.719061535766789)  \n",
       "3            (50.69760135, 5.804543928689291)  \n",
       "4                          (47.5477, 6.46369)  \n",
       "..                                        ...  \n",
       "245                   (50.7383855, 5.7659816)  \n",
       "246                  (42.498275, -92.3328743)  \n",
       "247                   (51.0606816, 4.3588917)  \n",
       "248                   (50.8152784, 5.1858896)  \n",
       "249  (50.755508199999994, 3.7314432186147237)  \n",
       "\n",
       "[250 rows x 5 columns]"
      ]
     },
     "execution_count": 11,
     "metadata": {},
     "output_type": "execute_result"
    }
   ],
   "source": [
    "breweries"
   ]
  },
  {
   "cell_type": "code",
   "execution_count": 14,
   "metadata": {},
   "outputs": [],
   "source": [
    "breweries.to_csv(\"breweries.csv\", index=False)\n",
    "new.to_csv(\"beers.csv\", index=False)"
   ]
  },
  {
   "cell_type": "code",
   "execution_count": null,
   "metadata": {},
   "outputs": [],
   "source": []
  }
 ],
 "metadata": {
  "kernelspec": {
   "display_name": "scraping",
   "language": "python",
   "name": "python3"
  },
  "language_info": {
   "codemirror_mode": {
    "name": "ipython",
    "version": 3
   },
   "file_extension": ".py",
   "mimetype": "text/x-python",
   "name": "python",
   "nbconvert_exporter": "python",
   "pygments_lexer": "ipython3",
   "version": "3.13.2"
  }
 },
 "nbformat": 4,
 "nbformat_minor": 2
}
