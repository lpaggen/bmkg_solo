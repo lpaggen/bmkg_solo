{
 "cells": [
  {
   "cell_type": "code",
   "execution_count": 56,
   "metadata": {},
   "outputs": [],
   "source": [
    "from bs4 import BeautifulSoup\n",
    "import requests\n",
    "import re\n",
    "import pandas as pd \n",
    "from fuzzywuzzy import fuzz\n",
    "from rapidfuzz import process, fuzz\n",
    "from geopy.geocoders import Nominatim\n",
    "import time\n",
    "import openpyxl\n",
    "import concurrent.futures\n",
    "import random\n",
    "from selenium import webdriver\n",
    "from selenium.webdriver.chrome.service import Service\n",
    "from selenium.webdriver.common.by import By\n",
    "from selenium.webdriver.chrome.options import Options\n",
    "from webdriver_manager.chrome import ChromeDriverManager\n",
    "from fuzzywuzzy import fuzz\n",
    "import time\n",
    "import re\n",
    "import random\n",
    "from rdflib import Graph, URIRef, Literal\n",
    "from rdflib.namespace import RDF, RDFS, XSD\n",
    "from rdflib.namespace import Namespace\n",
    "import rdflib\n",
    "import openai\n",
    "from rdflib.namespace import RDF, XSD"
   ]
  },
  {
   "cell_type": "markdown",
   "metadata": {},
   "source": [
    "# this gets the tables from the list of all Belgian beers, and does some cleaning "
   ]
  },
  {
   "cell_type": "code",
   "execution_count": null,
   "metadata": {},
   "outputs": [],
   "source": [
    "url = \"https://fr.wikipedia.org/wiki/Liste_de_bi%C3%A8res_belges\"\n",
    "\n",
    "response = requests.get(url)\n",
    "soup = BeautifulSoup(response.text, \"html.parser\")\n",
    "\n",
    "tables = soup.find_all(\"table\", {\"class\": \"wikitable\"})\n",
    "\n",
    "def remove_wikipedia_ref(text):\n",
    "\treturn re.sub(r\"\\[\\d+\\]\", \"\", text)\n",
    "\n",
    "def remove_language_tags(text):\n",
    "\treturn re.sub(r\"\\s*\\((nl|en)\\)\", \"\", text)\n",
    "\n",
    "def remove_trailing_commas(text):\n",
    "\tcount_trailing = re.search(r\",+$\", text)\n",
    "\tif count_trailing:\n",
    "\t\treturn text[:-len(count_trailing.group())]\n",
    "\treturn text\n",
    "\n",
    "def remove_pour_and_following_text(text): # need to adjust to remove the parenthesis\n",
    "\tif \"pour\" in text:\n",
    "\t\treturn text.split(\"pour\")[0][:-1]\n",
    "\treturn text\n",
    "\n",
    "dataframes = []\n",
    "for i, table in enumerate(tables):\n",
    "    headers = [header.text.strip() for header in table.find_all(\"th\")]\n",
    "    rows = []\n",
    "    for row in table.find_all(\"tr\")[1:]: # start at 1 skip header \n",
    "        cols = row.find_all([\"td\", \"th\"])\n",
    "        cols = [col.text.strip() for col in cols]\n",
    "        cols = [remove_wikipedia_ref(col) for col in cols]\n",
    "        cols = [remove_trailing_commas(col) for col in cols]\n",
    "        cols = [remove_language_tags(col) for col in cols]\n",
    "        cols = [remove_pour_and_following_text(col) for col in cols]\n",
    "        if cols:\n",
    "            rows.append(cols)\n",
    "    df = pd.DataFrame(rows, columns=headers)\n",
    "    dataframes.append(df)\n",
    "\t\n",
    "beers = pd.concat(dataframes, ignore_index=True)"
   ]
  },
  {
   "cell_type": "code",
   "execution_count": null,
   "metadata": {},
   "outputs": [],
   "source": [
    "beers"
   ]
  },
  {
   "cell_type": "markdown",
   "metadata": {},
   "source": [
    "# this gets the data from list of Belgian breweries, as well as some additional beer"
   ]
  },
  {
   "cell_type": "code",
   "execution_count": null,
   "metadata": {},
   "outputs": [],
   "source": [
    "url = \"https://fr.wikipedia.org/wiki/Liste_de_brasseries_belges\"\n",
    "\n",
    "reponse = requests.get(url)\n",
    "soup = BeautifulSoup(reponse.text, \"html.parser\")\n",
    "\n",
    "tables = soup.find_all(\"table\", {\"class\": \"wikitable\"})\n",
    "\n",
    "dataframes_breweries = []\n",
    "for i, table in enumerate(tables):\n",
    "    headers = [header.text.strip() for header in table.find_all(\"th\")]\n",
    "    rows = []\n",
    "    for row in table.find_all(\"tr\")[1:]:\n",
    "        cols = row.find_all([\"td\", \"th\"])\n",
    "        cols = [col.text.strip() for col in cols]\n",
    "        cols = [remove_wikipedia_ref(col) for col in cols]\n",
    "        cols = [remove_trailing_commas(col) for col in cols]\n",
    "        cols = [remove_language_tags(col) for col in cols]\n",
    "        cols = cols[:6]\n",
    "        if cols:\n",
    "            rows.append(cols)\n",
    "    df = pd.DataFrame(rows, columns=headers)\n",
    "    dataframes_breweries.append(df.iloc[:, :4])\n",
    "    \n",
    "breweries = pd.concat(dataframes_breweries, ignore_index=True)\n",
    "\n",
    "# this block just removes some useless columns and rows\n",
    "breweries = breweries.iloc[:250, :4]"
   ]
  },
  {
   "cell_type": "markdown",
   "metadata": {},
   "source": [
    "# we need to align the breweries from both datasets with the format of one of the two\n",
    "for this we will use the transformers -- sentence_transformers\n",
    "or fuzzy thing, idk which one will work best\n",
    "\n",
    "\n"
   ]
  },
  {
   "cell_type": "code",
   "execution_count": null,
   "metadata": {},
   "outputs": [],
   "source": [
    "def rename_by_similarity(df_source, col_source, df_reference, col_reference, threshold=70):\n",
    "    ref_values = df_reference[col_reference].dropna().unique()\n",
    "    df_source = df_source.copy()\n",
    "\n",
    "    def get_best_match(value):\n",
    "        if pd.isna(value) or value == \"\":\n",
    "            return value\n",
    "        match, score, i = process.extractOne(value, ref_values, scorer=fuzz.ratio)\n",
    "        return match if score >= threshold else value # renaming if above threshold\n",
    "\n",
    "    df_source[col_source] = df_source[col_source].apply(get_best_match)\n",
    "    return df_source"
   ]
  },
  {
   "cell_type": "markdown",
   "metadata": {},
   "source": [
    "# here i'm going to add some coordinates using geopy library"
   ]
  },
  {
   "cell_type": "code",
   "execution_count": null,
   "metadata": {},
   "outputs": [],
   "source": [
    "new = rename_by_similarity(beers, \"Brasserie\", breweries, \"Brasserie\")"
   ]
  },
  {
   "cell_type": "code",
   "execution_count": null,
   "metadata": {},
   "outputs": [],
   "source": [
    "parents = []\n",
    "\n",
    "for index, row in breweries.iterrows():\n",
    "\tif \"(\" in row[\"Brasserie\"]:\n",
    "\t\tparents.append(row[\"Brasserie\"].split(\"(\")[1][:-1])\n",
    "\telse:\n",
    "\t\tparents.append(None)\n",
    "\n",
    "breweries[\"Parent\"] = parents"
   ]
  },
  {
   "cell_type": "code",
   "execution_count": null,
   "metadata": {},
   "outputs": [],
   "source": [
    "breweries[\"Brasserie\"] = breweries[\"Brasserie\"].str.split('(').str[0].str.strip()"
   ]
  },
  {
   "cell_type": "markdown",
   "metadata": {},
   "source": [
    "# here i just parse a .txt file i created using excel "
   ]
  },
  {
   "cell_type": "code",
   "execution_count": null,
   "metadata": {},
   "outputs": [],
   "source": [
    "# this was created by hand in excel, just copied the Parent column and did some =IF(condition) function\n",
    "# as well as manually modifying the values of the column that were not missing\n",
    "with open (\"parent.txt\", \"r\") as f:\n",
    "\tparents_list = [line.strip() for line in f]"
   ]
  },
  {
   "cell_type": "code",
   "execution_count": null,
   "metadata": {},
   "outputs": [],
   "source": [
    "# now to assign it to the breweries dataset\n",
    "breweries[\"Parent\"] = parents_list"
   ]
  },
  {
   "cell_type": "code",
   "execution_count": null,
   "metadata": {},
   "outputs": [],
   "source": [
    "# here i remove all parentheses from the \"Brasserie\" column\n",
    "for i, row in beers.iterrows():\n",
    "    if \"(\" in row[\"Brasserie\"]:\n",
    "        beers.at[i, \"Brasserie\"] = row[\"Brasserie\"].split(\"(\")[0].strip()"
   ]
  },
  {
   "cell_type": "code",
   "execution_count": null,
   "metadata": {},
   "outputs": [],
   "source": [
    "breweries.to_csv(\"breweries.csv\", index=False)\n",
    "new.to_csv(\"beers.csv\", index=False)"
   ]
  },
  {
   "cell_type": "markdown",
   "metadata": {},
   "source": [
    "# this part of the notebook is about somehow merging the right brewery row to the beer"
   ]
  },
  {
   "cell_type": "code",
   "execution_count": null,
   "metadata": {},
   "outputs": [],
   "source": [
    "# a maybe inefficient approach is to look at the similarity once again, and match that\n",
    "# turns out this is mostly solved with a left join on the \"Brasserie\" column\n",
    "merged_df = beers.merge(breweries, on=\"Brasserie\", how=\"left\")"
   ]
  },
  {
   "cell_type": "code",
   "execution_count": null,
   "metadata": {},
   "outputs": [],
   "source": [
    "# i can save as .csv later, first i will just save as .xlsx and add everything missing manually\n",
    "# i have to use the openpyxl engine, otherwise i can't encode everything properly\n",
    "# so all accents etc disappear, which is very annoying\n",
    "merged_df.to_excel(\"output.xlsx\", index=False, engine=\"openpyxl\")"
   ]
  },
  {
   "cell_type": "code",
   "execution_count": null,
   "metadata": {},
   "outputs": [],
   "source": [
    "beers = pd.read_csv(\"beers.csv\")\n",
    "breweries = pd.read_csv(\"breweries.csv\")"
   ]
  },
  {
   "cell_type": "code",
   "execution_count": null,
   "metadata": {},
   "outputs": [],
   "source": [
    "beer_names = beers[\"Bières\"].tolist()\n",
    "brewery_names = beers[\"Brasserie\"].tolist()"
   ]
  },
  {
   "cell_type": "code",
   "execution_count": null,
   "metadata": {},
   "outputs": [],
   "source": [
    "df = pd.read_excel(\"output.xlsx\")"
   ]
  },
  {
   "cell_type": "markdown",
   "metadata": {},
   "source": [
    "# big issue -> the % is being copied with .explode, use multi column"
   ]
  },
  {
   "cell_type": "code",
   "execution_count": null,
   "metadata": {},
   "outputs": [],
   "source": [
    "import numpy as np \n",
    "import pandas as pd "
   ]
  },
  {
   "cell_type": "code",
   "execution_count": null,
   "metadata": {},
   "outputs": [],
   "source": [
    "# df['Principales bières'] = df['Principales bières'].fillna(\"\").apply(lambda x: x.split(\", \") if x else [])\n",
    "# df = df.explode('Principales bières')\n",
    "# df.drop(columns=['Principales bières'], inplace=True)"
   ]
  },
  {
   "cell_type": "markdown",
   "metadata": {},
   "source": [
    "# here i translate to english"
   ]
  },
  {
   "cell_type": "code",
   "execution_count": null,
   "metadata": {},
   "outputs": [],
   "source": [
    "translation_map = {\n",
    "    'Liège': 'Liege',\n",
    "    'Brabant wallon': 'Walloon Brabant',\n",
    "    'Limbourg': 'Limburg',\n",
    "    'Anvers': 'Antwerp',\n",
    "    'Brabant flamand': 'Flemish Brabant',\n",
    "    'Luxembourg': 'Luxembourg',\n",
    "    'Namur': 'Namur',\n",
    "    'West-Flanders': 'West Flanders',\n",
    "    'Flemish-Brabant': 'Flemish Brabant',\n",
    "    'Hainaut': 'Hainaut',\n",
    "    'Flandre-Orientale': 'East Flanders',\n",
    "    'Flandre-Occidentale': 'West Flanders',\n",
    "    'Antwerp': 'Antwerp',\n",
    "    'Bruxelles': 'Brussels',\n",
    "    'East-Flanders': 'East Flanders',\n",
    "    'Brabant Wallon': 'Walloon Brabant',\n",
    "    'Walloon Brabant': 'Walloon Brabant'\n",
    "}\n",
    "\n",
    "df[\"Province\"] = df[\"Province\"].apply(lambda x: translation_map.get(x, x))\n"
   ]
  },
  {
   "cell_type": "code",
   "execution_count": null,
   "metadata": {},
   "outputs": [],
   "source": [
    "df['Province'].unique()"
   ]
  },
  {
   "cell_type": "code",
   "execution_count": null,
   "metadata": {},
   "outputs": [],
   "source": [
    "df.drop_duplicates(subset= 'Bières', inplace=True)\n",
    "df.drop(columns=['Principales bières'], inplace=True) # this column is not needed anymore, it's hard to use"
   ]
  },
  {
   "cell_type": "code",
   "execution_count": null,
   "metadata": {},
   "outputs": [],
   "source": [
    "beer_names = df[\"Bières\"].tolist()"
   ]
  },
  {
   "cell_type": "markdown",
   "metadata": {},
   "source": [
    "# here i'm just replacing some names in the brewery column"
   ]
  },
  {
   "cell_type": "code",
   "execution_count": null,
   "metadata": {},
   "outputs": [],
   "source": [
    "Brasserie = df[\"Brasserie\"].tolist()\n",
    "for i, x in enumerate(Brasserie):\n",
    "\ti = str(i)\n",
    "\tif \"par\" in i:\n",
    "\t\tBrasserie[i] = i.split(\"par\")[1].strip()\n",
    "\n",
    "df[\"Brasserie\"] = Brasserie"
   ]
  },
  {
   "cell_type": "markdown",
   "metadata": {},
   "source": [
    "# this gets the initial URLs needed for the data scraping"
   ]
  },
  {
   "cell_type": "code",
   "execution_count": null,
   "metadata": {},
   "outputs": [],
   "source": [
    "# here i am going to build a list of search URLs to scrape data from untappd\n",
    "# what this should allow me to do is fetch the next URL i need, that of the page of each individual beer\n",
    "# given untappd closed their API, i have to scrape using Proxies, which is a bit slow\n",
    "\n",
    "template = \"https://untappd.com/search?q=X\"\n",
    "search_url = []\n",
    "\n",
    "for i, beer in enumerate(beer_names):\n",
    "\tsearch_url.append((template.replace(\"X\", beer).replace(\" \", \"+\"), beer))"
   ]
  },
  {
   "cell_type": "code",
   "execution_count": null,
   "metadata": {},
   "outputs": [],
   "source": [
    "untappd = pd.read_csv(\"untappd.csv\")"
   ]
  },
  {
   "cell_type": "code",
   "execution_count": null,
   "metadata": {},
   "outputs": [],
   "source": [
    "out = list(untappd.itertuples(index=False, name=None))\n",
    "len(out)"
   ]
  },
  {
   "cell_type": "markdown",
   "metadata": {},
   "source": [
    "# scraping untappd, Gemini was used to get this working, as explained in the report "
   ]
  },
  {
   "cell_type": "code",
   "execution_count": null,
   "metadata": {},
   "outputs": [],
   "source": [
    "def find_link_fuzzy(driver, target_text, threshold=70): # threshold is lower than the one we used before, it helps to find more matches\n",
    "    links = driver.find_elements(By.TAG_NAME, \"a\")\n",
    "    best_match = None\n",
    "    best_score = 0\n",
    "    for link in links:\n",
    "        link_text = link.text.strip()\n",
    "        if link_text:\n",
    "            score = fuzz.ratio(target_text.lower(), link_text.lower())\n",
    "            if score > best_score:\n",
    "                best_score = score\n",
    "                best_match = link\n",
    "    if best_match and best_score >= threshold:\n",
    "        return best_match, best_score\n",
    "    else:\n",
    "        return None, 0\n",
    "\n",
    "# this part of the code is given the initial search URL and the target text, it will try to find the URL of the target text\n",
    "def get_url_fuzzy(driver, url_tuple):\n",
    "    driver.get(url_tuple[0])\n",
    "    time.sleep(random.uniform(1,3)) # add some delay\n",
    "    try:\n",
    "        link, score = find_link_fuzzy(driver, url_tuple[1])\n",
    "        if link:\n",
    "            url = link.get_attribute(\"href\")\n",
    "            print(f\"match found: '{link.text}' (score: {score})\")\n",
    "            return url\n",
    "        else:\n",
    "            print(f\"match found for '{url_tuple[1]}'\")\n",
    "            return None\n",
    "    except Exception as e:\n",
    "        print(f\"error: {e}\")\n",
    "        return None\n",
    "\n",
    "def get_data(url):\n",
    "    chrome_options = Options()\n",
    "    chrome_options.add_argument(\"user-agent=Mozilla/5.0 (Windows NT 10.0; Win64; x64) AppleWebKit/537.36 (KHTML, like Gecko) Chrome/120.0.0.0 Safari/537.36\")\n",
    "    try:\n",
    "        driver = webdriver.Chrome(service=Service(ChromeDriverManager().install()), options=chrome_options)\n",
    "    except Exception as e:\n",
    "        print(f\"error: {e}\")\n",
    "        return None, None, None # return None values if driver could not be created\n",
    "    try:\n",
    "        driver.get(url)\n",
    "        print(f\"opened: {url}\")\n",
    "        # this part of the code handled the consent form of Untappd. \n",
    "        # it is always present, but needs human interaction to be closed\n",
    "        # selenium can handle it, but it's a bit tricky\n",
    "        try:\n",
    "            consent_button = driver.find_element(By.CSS_SELECTOR, 'button[aria-label=\"Consent\"]')\n",
    "            consent_button.click()\n",
    "        except Exception as e:\n",
    "            print(f\"cannot find form: {e}\")\n",
    "\n",
    "        time.sleep(random.uniform(1, 3))\n",
    "        # this gets the rating of the beer\n",
    "        # you can find the rating in the span element with the class \"num\"\n",
    "\t\t# the rating is inside parentheses, so you have to strip them\n",
    "        try:\n",
    "            rating_element = driver.find_element(By.CSS_SELECTOR, 'span.num')\n",
    "            rating_text = rating_element.text\n",
    "            rating = rating_text.strip('()')\n",
    "        except Exception as e:\n",
    "            print(f\"error: {e}\")\n",
    "            rating = None\n",
    "\t\t# same for checkin \n",
    "        try:\n",
    "            checkin_element = driver.find_element(By.CSS_SELECTOR, 'span.count')\n",
    "            checkin_text = checkin_element.text\n",
    "            checkin_count = checkin_text.replace(',', '')\n",
    "        except Exception as e:\n",
    "            print(f\"error: {e}\")\n",
    "            checkin_count = None\n",
    "\t\t# this part of the code gets the description of the beer\n",
    "        try:\n",
    "            # sometimes the description is hidden behind a \"Read More\" button\n",
    "\t\t\t# this part of the code tries to click it\n",
    "            try:\n",
    "                read_more_button = WebDriverWait(driver, random.uniform(3, 5)).until(\n",
    "                    EC.element_to_be_clickable((By.CSS_SELECTOR, 'a.read-more.track-click'))\n",
    "                )\n",
    "                read_more_button.click()\n",
    "            except:\n",
    "                print(\"error clicking read more\")\n",
    "\n",
    "            description_element = driver.find_element(By.CSS_SELECTOR, 'div.beer-descrption-read-less')\n",
    "            description_text = description_element.text\n",
    "            description = re.sub(r'Show Less.*', '', description_text).strip()\n",
    "        except Exception as e:\n",
    "            print(f\"error: {e}\")\n",
    "            description = None\n",
    "\n",
    "    except Exception as e: # when the URL cannot be opened, simply return None \n",
    "        print(f\"error: {e}\")\n",
    "        rating, checkin_count, description = None, None, None\n",
    "\n",
    "    finally:\n",
    "        driver.quit()\n",
    "\n",
    "    return rating, checkin_count, description\n",
    "\n",
    "chrome_options = Options() # user agent for my version of chrome\n",
    "chrome_options.add_argument(\"user-agent=Mozilla/5.0 (Windows NT 10.0; Win64; x64) AppleWebKit/537.36 (KHTML, like Gecko) Chrome/120.0.0.0 Safari/537.36\")\n",
    "driver = webdriver.Chrome(service=Service(ChromeDriverManager().install()), options=chrome_options)\n",
    "a\n",
    "processed = {beer[0] for beer in out} # out as a global variable\n",
    "\n",
    "for i in search_url:\n",
    "    if i[1] in processed: # we can skip if already processed\n",
    "        continue\n",
    "\n",
    "    url = get_url_fuzzy(driver, i)\n",
    "    if url:\n",
    "        rating, checkin_count, description = get_data(url)\n",
    "        print(f\"{i[1]} done!\")\n",
    "        out.append((i[1], rating, checkin_count, description))\n",
    "    else: # if no URL found, add None values\n",
    "        print(f\"no URL found: {i[1]}\")\n",
    "        out.append((i[1], None, None, None))\n",
    "\n",
    "    time.sleep(random.uniform(1, 6)) # this adds some delay between requests, to avoid being blocked\n",
    "\n",
    "driver.quit()"
   ]
  },
  {
   "cell_type": "code",
   "execution_count": null,
   "metadata": {},
   "outputs": [],
   "source": [
    "untappd = pd.DataFrame(out, columns=[\"Bières\", \"Rating\", \"Check-ins\", \"Description\"])"
   ]
  },
  {
   "cell_type": "code",
   "execution_count": null,
   "metadata": {},
   "outputs": [],
   "source": [
    "untappd"
   ]
  },
  {
   "cell_type": "code",
   "execution_count": null,
   "metadata": {},
   "outputs": [],
   "source": [
    "untappd.drop_duplicates(subset=\"Bières\", inplace=True)"
   ]
  },
  {
   "cell_type": "code",
   "execution_count": null,
   "metadata": {},
   "outputs": [],
   "source": [
    "untappd.to_csv(\"untappd.csv\", index=False)"
   ]
  },
  {
   "cell_type": "code",
   "execution_count": null,
   "metadata": {},
   "outputs": [],
   "source": [
    "len(out)"
   ]
  },
  {
   "cell_type": "markdown",
   "metadata": {},
   "source": [
    "# now i need to merge the dataframes together, the one with Untappd data, and the big dataset "
   ]
  },
  {
   "cell_type": "code",
   "execution_count": null,
   "metadata": {},
   "outputs": [],
   "source": [
    "df = df.merge(untappd, on=\"Bières\", how=\"left\")"
   ]
  },
  {
   "cell_type": "markdown",
   "metadata": {},
   "source": [
    "# adding coordinates \n"
   ]
  },
  {
   "cell_type": "code",
   "execution_count": null,
   "metadata": {},
   "outputs": [],
   "source": [
    "geolocator = Nominatim(user_agent=\"myGeocoder\", timeout=3) # have to try using different timeout values\n",
    "\n",
    "coordinates = []\n",
    "\n",
    "for index, row in df.iterrows():\n",
    "    brewery = row[\"Brasserie\"]\n",
    "    commune = row[\"Commune\"]\n",
    "    province = row[\"Province\"]\n",
    "\n",
    "    retries = 3\n",
    "    for i in range(retries):\n",
    "        try:\n",
    "            location = geolocator.geocode(brewery) # first we try getting coords of the brewery (most precise)\n",
    "            if location:\n",
    "                coordinates.append((location.latitude, location.longitude))\n",
    "                break # when found coordinates break loop\n",
    "            else:\n",
    "                location = geolocator.geocode(commune) # moving onto commune\n",
    "                if location:\n",
    "                    coordinates.append((location.latitude, location.longitude))\n",
    "                    break\n",
    "                else:\n",
    "                    coordinates.append(None) # nothing found, might add manually\n",
    "                    break\n",
    "        except Exception as e:\n",
    "            print(f\"Error processing {brewery}: {e}\")\n",
    "            time.sleep(5)\n",
    "    \n",
    "    print(index)\n",
    "\n",
    "df[\"coordinates\"] = coordinates"
   ]
  },
  {
   "cell_type": "code",
   "execution_count": null,
   "metadata": {},
   "outputs": [],
   "source": [
    "df.to_csv(\"final.csv\", index=False)"
   ]
  },
  {
   "cell_type": "code",
   "execution_count": null,
   "metadata": {},
   "outputs": [],
   "source": [
    "for i in df.columns:\n",
    "\tcol = df[i]\n",
    "\tif col.isnull().sum() > 0:\n",
    "\t\tprint(i, col.isnull().sum())\n",
    "\telse:\n",
    "\t\tprint(i, 0)"
   ]
  },
  {
   "cell_type": "code",
   "execution_count": null,
   "metadata": {},
   "outputs": [],
   "source": [
    "translation_map = {\n",
    "        'Bières': 'Beers',\n",
    "        'Type': 'Type',\n",
    "        'Teneur en alcool': 'Alcohol Content',\n",
    "        'Brasserie': 'Brewery',\n",
    "        'Commune': 'Municipality',\n",
    "        'Province': 'Province',\n",
    "        'Parent': 'Parent',\n",
    "        'Rating': 'Rating',\n",
    "        'Check-ins': 'Check-ins',\n",
    "        'Description': 'Description'\n",
    "    }\n",
    "\n",
    "df = df.rename(columns=translation_map)"
   ]
  },
  {
   "cell_type": "code",
   "execution_count": null,
   "metadata": {},
   "outputs": [],
   "source": [
    "# this function is used to convert the check-ins to a float\n",
    "def convert_to_float(val):\n",
    "    val = str(val).replace(\"+\", \"\")\n",
    "    if 'M' in val:\n",
    "        return float(val.replace('M', '')) * 1000000\n",
    "    return float(val)\n",
    "\n",
    "df['Check-ins'] = df['Check-ins'].apply(convert_to_float)"
   ]
  },
  {
   "cell_type": "code",
   "execution_count": null,
   "metadata": {},
   "outputs": [],
   "source": [
    "df['Latitude'] = df['coordinates'].apply(lambda x: x[0] if x else None)\n",
    "df['Longitude'] = df['coordinates'].apply(lambda x: x[1] if x else None)\n",
    "df.drop(columns=['coordinates'], inplace=True)"
   ]
  },
  {
   "cell_type": "code",
   "execution_count": 3,
   "metadata": {},
   "outputs": [],
   "source": [
    "df = pd.read_csv(\"final.csv\")"
   ]
  },
  {
   "cell_type": "code",
   "execution_count": null,
   "metadata": {},
   "outputs": [],
   "source": [
    "df['Alcohol Content'] = df['Alcohol Content'].apply(lambda x: 0.0 if str(x) == \"Unknown\" else x)\n",
    "df['Rating'] = df['Rating'].apply(lambda x: 0 if str(x) == \"Unknown\" else x)\n",
    "df['Check-ins'] = df['Check-ins'].apply(lambda x: 0 if str(x) == \"Unknown\" else x)\n",
    "df['Latitude'] = df['Latitude'].apply(lambda x: 0.0 if str(x) == \"Unknown\" else x)\n",
    "df['Longitude'] = df['Longitude'].apply(lambda x: 0.0 if str(x) == \"Unknown\" else x)\n"
   ]
  },
  {
   "cell_type": "code",
   "execution_count": null,
   "metadata": {},
   "outputs": [],
   "source": [
    "df['Beers'] = df['Beers'].astype(str)\n",
    "df['Type'] = df['Type'].astype(str)\n",
    "df['Brewery'] = df['Brewery'].astype(str)\n",
    "df['Municipality'] = df['Municipality'].astype(str)\n",
    "df['Province'] = df['Province'].astype(str)\n",
    "df['Parent'] = df['Parent'].astype(str)\n",
    "df['Description'] = df['Description'].astype(str)"
   ]
  },
  {
   "cell_type": "code",
   "execution_count": 4,
   "metadata": {},
   "outputs": [
    {
     "data": {
      "text/plain": [
       "Beers               object\n",
       "Type                object\n",
       "Alcohol Content    float64\n",
       "Brewery             object\n",
       "Municipality        object\n",
       "Province            object\n",
       "Parent              object\n",
       "Rating               int64\n",
       "Check-ins            int64\n",
       "Description         object\n",
       "Latitude           float64\n",
       "Longitude          float64\n",
       "dtype: object"
      ]
     },
     "execution_count": 4,
     "metadata": {},
     "output_type": "execute_result"
    }
   ],
   "source": [
    "df.dtypes"
   ]
  },
  {
   "cell_type": "code",
   "execution_count": 6,
   "metadata": {},
   "outputs": [
    {
     "data": {
      "text/plain": [
       "Beers              0\n",
       "Type               0\n",
       "Alcohol Content    0\n",
       "Brewery            0\n",
       "Municipality       0\n",
       "Province           0\n",
       "Parent             0\n",
       "Rating             0\n",
       "Check-ins          0\n",
       "Description        0\n",
       "Latitude           0\n",
       "Longitude          0\n",
       "dtype: int64"
      ]
     },
     "execution_count": 6,
     "metadata": {},
     "output_type": "execute_result"
    }
   ],
   "source": [
    "df.isnull().sum()"
   ]
  },
  {
   "cell_type": "markdown",
   "metadata": {},
   "source": [
    "# using GPT to translate some stuff, and normalize columns "
   ]
  },
  {
   "cell_type": "code",
   "execution_count": null,
   "metadata": {},
   "outputs": [
    {
     "name": "stdout",
     "output_type": "stream",
     "text": [
      "\"Blonde Ale, Pilsner, Brown Ale\"\n"
     ]
    }
   ],
   "source": [
    "client = openai.OpenAI(api_key=\"\")\n",
    "\n",
    "def translate_and_normalize(text):\n",
    "    \"\"\"\n",
    "    Translates the beer type from French to English and normalizes it.\n",
    "    \"\"\"\n",
    "    prompt = f\"\"\"\n",
    "    Translate the following beer types from French to English and normalize the names:\"{text}\"\n",
    "\n",
    "    Example normalizations:\n",
    "    - \"bière brune\" becomes \"Brown Ale\"\n",
    "    - \"bière blonde, pils\" becomes \"Blonde Ale, Pilsner\"\n",
    "\n",
    "    Return a cleaned, comma-separated list of the translated and normalized beer types.\n",
    "    \"\"\"\n",
    "\n",
    "    response = client.chat.completions.create(\n",
    "        model=\"gpt-3.5-turbo\",\n",
    "        messages=[\n",
    "            {\"role\": \"system\", \"content\": \"You are an expert in beer taxonomy.\"},\n",
    "            {\"role\": \"user\", \"content\": prompt}\n",
    "        ],\n",
    "        temperature=0.3\n",
    "    )\n",
    "\n",
    "    return response.choices[0].message.content.strip()"
   ]
  },
  {
   "cell_type": "code",
   "execution_count": null,
   "metadata": {},
   "outputs": [],
   "source": [
    "openai.api_key = ''\n",
    "\n",
    "def get_keywords(text):\n",
    "    prompt = f\"\"\"\n",
    "    Extract some precise keywords related to beer profiles from the following description:\"{text}\"\n",
    "\n",
    "    For example, if you are given: \"This beer is a Belgian-style ale with a fruity aroma and a hint of spices.\"\n",
    "    You should return: \"Belgian-style ale, fruity aroma, hint of spices\"\n",
    "    \n",
    "    Return a cleaned, comma-separated list of keywords.\n",
    "    \"\"\"\n",
    "\n",
    "    response = client.chat.completions.create(\n",
    "        model=\"gpt-4-turbo\",\n",
    "        messages=[\n",
    "            {\"role\": \"system\", \"content\": \"You are an expert in extracting precise keywords.\"},\n",
    "            {\"role\": \"user\", \"content\": prompt}\n",
    "        ],\n",
    "        temperature=0.3\n",
    "    )\n",
    "\n",
    "    return response.choices[0].message.content.strip()"
   ]
  },
  {
   "cell_type": "code",
   "execution_count": 11,
   "metadata": {},
   "outputs": [],
   "source": [
    "df['Type'] = df['Type'].apply(translate_and_normalize)"
   ]
  },
  {
   "cell_type": "code",
   "execution_count": 45,
   "metadata": {},
   "outputs": [],
   "source": [
    "df['Description'] = df['Description'].apply(get_keywords)"
   ]
  },
  {
   "cell_type": "markdown",
   "metadata": {},
   "source": [
    "# these are to correct issues with the LLM translation "
   ]
  },
  {
   "cell_type": "code",
   "execution_count": 27,
   "metadata": {},
   "outputs": [],
   "source": [
    "df[\"Type\"] = df[\"Type\"].str.split(\"→\").str.get(1).fillna(df[\"Type\"])\n",
    "df[\"Type\"] = df[\"Type\"].str.split(\"->\").str.get(1).fillna(df[\"Type\"])\n",
    "df[\"Type\"] = df[\"Type\"].str.split(\"translates to\").str.get(1).fillna(df[\"Type\"])\n",
    "df[\"Type\"] = df[\"Type\"].str.replace(\"\\\"\", \"\")"
   ]
  },
  {
   "cell_type": "code",
   "execution_count": 47,
   "metadata": {},
   "outputs": [],
   "source": [
    "df.to_csv(\"final.csv\", index=False)"
   ]
  },
  {
   "cell_type": "markdown",
   "metadata": {},
   "source": [
    "# the replacement below is very important, because otherwise the graph simply cannot be parsed"
   ]
  },
  {
   "cell_type": "code",
   "execution_count": null,
   "metadata": {},
   "outputs": [],
   "source": [
    "df['Beers'] = df['Beers'].str.replace(\"'\", \"_\", regex=False)\n",
    "df['Description'] = df['Description'].str.replace(\"'\", \"_\", regex=False)\n",
    "df['Brewery'] = df['Brewery'].str.replace(\"'\", \"_\", regex=False)\n",
    "df['Municipality'] = df['Municipality'].str.replace(\"'\", \"_\", regex=False)\n",
    "df['Brewery'] = df['Brewery'].str.replace(\"!\", \"_\", regex=False)\n",
    "df['Beers'] = df['Beers'].str.replace(\"%\", \"_\", regex=False)"
   ]
  },
  {
   "cell_type": "code",
   "execution_count": 79,
   "metadata": {},
   "outputs": [
    {
     "data": {
      "application/vnd.microsoft.datawrangler.viewer.v0+json": {
       "columns": [
        {
         "name": "index",
         "rawType": "int64",
         "type": "integer"
        },
        {
         "name": "Beers",
         "rawType": "object",
         "type": "string"
        },
        {
         "name": "Type",
         "rawType": "object",
         "type": "string"
        },
        {
         "name": "Alcohol Content",
         "rawType": "float64",
         "type": "float"
        },
        {
         "name": "Brewery",
         "rawType": "object",
         "type": "string"
        },
        {
         "name": "Municipality",
         "rawType": "object",
         "type": "string"
        },
        {
         "name": "Province",
         "rawType": "object",
         "type": "string"
        },
        {
         "name": "Parent",
         "rawType": "object",
         "type": "string"
        },
        {
         "name": "Rating",
         "rawType": "int64",
         "type": "integer"
        },
        {
         "name": "Check-ins",
         "rawType": "int64",
         "type": "integer"
        },
        {
         "name": "Description",
         "rawType": "object",
         "type": "string"
        },
        {
         "name": "Latitude",
         "rawType": "float64",
         "type": "float"
        },
        {
         "name": "Longitude",
         "rawType": "float64",
         "type": "float"
        }
       ],
       "conversionMethod": "pd.DataFrame",
       "ref": "8535ded9-0b6f-4c96-88bb-1c1f47011659",
       "rows": [
        [
         "0",
         "3 Schténg",
         "Top Fermentation, Old Flemish Brown",
         "6.0",
         "Brasserie Grain d'Orge",
         "Plombières",
         "Liege",
         "Unknown",
         "3",
         "3652",
         "Unknown",
         "50.7377318",
         "5.9611134"
        ],
        [
         "1",
         "IV Saison",
         " Blonde Saison",
         "6.5",
         "Brasserie de Jandrain-Jandrenouille",
         "Orp-Jauche",
         "Walloon Brabant",
         "Unknown",
         "3",
         "11522",
         "blonde beer, 100% barley malt, unfiltered, unpasteurized, bottle refermented, 4 basic ingredients, water, malt, hops, yeast, 4 different hops, food pairing, apéritifs, red meat, white meat, cheeses, seafood, Asian food",
         "50.6774819",
         "4.977242748357577"
        ],
        [
         "2",
         "V Cense",
         " Belgian Ale, Specialty",
         "7.5",
         "Brasserie de Jandrain-Jandrenouille",
         "Orp-Jauche",
         "Walloon Brabant",
         "Unknown",
         "3",
         "4705",
         "ambrée, 100% malt d'orge, non filtrée, non pasteurisée, refermentée en bouteille, complexité, 3 malts différents, houblons utilisés",
         "50.6774819",
         "4.977242748357577"
        ],
        [
         "3",
         "VI Wheat",
         " Belgian Ale, Witbier",
         "6.0",
         "Brasserie de Jandrain-Jandrenouille",
         "Orp-Jauche",
         "Walloon Brabant",
         "Unknown",
         "3",
         "6579",
         "malt de froment, malt d'orge, non filtrée, non pasteurisée, refermentée en bouteille, fraîcheur en bouche, arôme des houblons",
         "50.6774819",
         "4.977242748357577"
        ],
        [
         "4",
         "7-PK",
         " Belgian Blonde Ale",
         "7.0",
         "Brasserie Anders!",
         "Halen",
         "Limburg",
         "Unknown",
         "3",
         "8801",
         "blond haverbier, 7 procent alcohol, kruidige aroma, pittige smaak, fruitige smaak, bittere toets van hop, zacht bittere afdronk, aperitief, visgerechten, kalfsgerechten, terrasbiertje",
         "52.9587484",
         "5.7233277"
        ],
        [
         "5",
         "26.2 M",
         " Belgian Blonde Ale",
         "6.0",
         "Brasserie de Bellevaux",
         "Malmedy",
         "Liege",
         "Unknown",
         "2",
         "1196",
         "Unknown",
         "50.39129115",
         "6.008729076521822"
        ],
        [
         "6",
         "28 Triple",
         " Blonde Ale, Tripel",
         "9.0",
         "Brasserie 't Hofbrouwerijke",
         "Putte",
         "Antwerp",
         "Unknown",
         "3",
         "9516",
         "deep blond color, dense foam, sweetness of alcohol, honey scent, complex olfactory outcome, hopping, citrus fruits, undergrowth, wet hay-grass, sugar free, dry beer, light, smooth input of mouth, alcohol, bitterness, natural effervescence, round in the mouth, historical premium brand, traditional bottles, traditional labels, premium ingredients, small batches, exclusive, expensive, taste, international competitions, three prices",
         "51.0570823",
         "4.6310473"
        ],
        [
         "7",
         "La 44 Blanche",
         " Belgian Ale, Witbier",
         "5.5",
         "Brasserie de La Gleize",
         "Stoumont",
         "Liege",
         "Unknown",
         "3",
         "59",
         "Unknown",
         "50.4132524",
         "5.8457201"
        ],
        [
         "8",
         "La 44 Blonde",
         " Blonde Ale",
         "5.5",
         "Brasserie de La Gleize",
         "Stoumont",
         "Liege",
         "Unknown",
         "3",
         "263",
         "Unknown",
         "50.4132524",
         "5.8457201"
        ],
        [
         "9",
         "La 44 Brune",
         " Brown Ale",
         "5.5",
         "Brasserie de La Gleize",
         "Stoumont",
         "Liege",
         "Unknown",
         "3",
         "45",
         "Unknown",
         "50.4132524",
         "5.8457201"
        ],
        [
         "10",
         "La 44 Brune Cuvée Spéciale",
         " Brown Ale",
         "6.5",
         "Brasserie de La Gleize",
         "Stoumont",
         "Liege",
         "Unknown",
         "2",
         "44",
         "Unknown",
         "50.4132524",
         "5.8457201"
        ],
        [
         "11",
         "La 44 Christmas",
         "High Fermentation Christmas",
         "6.0",
         "Brasserie de La Gleize",
         "Stoumont",
         "Liege",
         "Unknown",
         "3",
         "80",
         "Unknown",
         "50.4132524",
         "5.8457201"
        ],
        [
         "12",
         "La 44 Nuts Ambrée",
         "Special Belgian Ale, Top-Fermented",
         "6.0",
         "Brasserie de La Gleize",
         "Stoumont",
         "Liege",
         "Unknown",
         "2",
         "51",
         "Unknown",
         "50.4132524",
         "5.8457201"
        ],
        [
         "13",
         "La 44 Tiger Triple",
         " Belgian Blonde Ale",
         "8.0",
         "Brasserie de La Gleize",
         "Stoumont",
         "Liege",
         "Unknown",
         "3",
         "126",
         "Unknown",
         "50.4132524",
         "5.8457201"
        ],
        [
         "14",
         "365 Pils Bière",
         " Blonde Ale",
         "4.7",
         "Brasserie Haacht",
         "Boortmeerbeek",
         "Flemish Brabant",
         "Unknown",
         "2",
         "4712",
         "Unknown",
         "50.9808426",
         "4.552216324874748"
        ],
        [
         "15",
         "400-Quadrigenti",
         " Belgian Blonde Ale",
         "5.6",
         "Brasserie 't Hofbrouwerijke",
         "Putte",
         "Antwerp",
         "Unknown",
         "3",
         "64",
         "Unknown",
         "51.0570823",
         "4.6310473"
        ],
        [
         "16",
         "421 Millevertus",
         " Special",
         "4.2",
         "Brasserie Millevertus",
         "Tintigny",
         "Luxembourg",
         "Unknown",
         "0",
         "0",
         "Unknown",
         "49.6952272",
         "5.4924175"
        ],
        [
         "17",
         "1414 Ambrosius",
         "Special bottle-conditioned",
         "5.0",
         "Brasserie Anders!",
         "Halen",
         "Limburg",
         "Unknown",
         "3",
         "971",
         "Unknown",
         "52.9587484",
         "5.7233277"
        ],
        [
         "18",
         "La 1815",
         " Amber Ale",
         "7.0",
         "Brasserie des Fagnes",
         "Couvin",
         "Namur",
         "Unknown",
         "0",
         "0",
         "Unknown",
         "50.08370435",
         "4.523251045551079"
        ],
        [
         "19",
         "1842 by Caulier",
         "High fermentation blonde, bottle refermentation",
         "9.0",
         "Brasserie 't Hofbrouwerijke",
         "Putte",
         "Antwerp",
         "Unknown",
         "0",
         "0",
         "Unknown",
         "51.0570823",
         "4.6310473"
        ],
        [
         "20",
         "2290 Vorselaar",
         "Blonde Ale, Bottle-Conditioned",
         "6.0",
         "Brouwerij Anders!",
         "Halen",
         "Limburg",
         "Unknown",
         "0",
         "0",
         "Unknown",
         "50.9473174",
         "5.105419518806779"
        ],
        [
         "21",
         "Aardmonnik",
         " Old Brown Ale",
         "8.0",
         "De Struise Brouwers",
         "Vleteren",
         "West Flanders",
         "Unknown",
         "0",
         "0",
         "Unknown",
         "50.9317072",
         "2.7380021"
        ],
        [
         "22",
         "Aarschotse Bruine",
         " Brown Ale",
         "6.0",
         "Stadsbrouwerij Aarschot",
         "Aarschot",
         "Flemish Brabant",
         "Unknown",
         "2",
         "953",
         "Unknown",
         "50.9885687",
         "4.8396149"
        ],
        [
         "23",
         "Abbaye d'Aulne Blonde des Pères 6",
         " Abbey Ale, Blonde Ale",
         "6.0",
         "Brasserie du Val de Sambre",
         "Thuin",
         "Hainaut",
         "Unknown",
         "0",
         "0",
         "Unknown",
         "50.365832",
         "4.3300464"
        ],
        [
         "24",
         "Abbaye d'Aulne Brune des Pères 6",
         " Abbey, Brown Ale",
         "6.0",
         "Brasserie du Val de Sambre",
         "Thuin",
         "Hainaut",
         "Unknown",
         "0",
         "0",
         "Unknown",
         "50.365832",
         "4.3300464"
        ],
        [
         "25",
         "Abbaye d'Aulne Premier Cru",
         " Abbey Ale, Blonde Ale",
         "9.0",
         "Brasserie du Val de Sambre",
         "Thuin",
         "Hainaut",
         "Unknown",
         "3",
         "6784",
         "Blonde abbey beer, second fermentation, strong and subtle flavours, rounded flavour, rich body, assertive character, top abbey beers",
         "50.365832",
         "4.3300464"
        ],
        [
         "26",
         "Abbaye d'Aulne Super Noël 9",
         "Abbaye, Christmas Beer",
         "9.0",
         "Brasserie du Val de Sambre",
         "Thuin",
         "Hainaut",
         "Unknown",
         "0",
         "0",
         "Unknown",
         "50.365832",
         "4.3300464"
        ],
        [
         "27",
         "Abbaye d'Aulne Triple Blonde",
         " Abbey, Tripel",
         "8.0",
         "Brasserie du Val de Sambre",
         "Thuin",
         "Hainaut",
         "Unknown",
         "0",
         "0",
         "Unknown",
         "50.365832",
         "4.3300464"
        ],
        [
         "28",
         "Abbaye d'Aulne Triple Brune",
         " Abbey, Tripel",
         "8.0",
         "Brasserie du Val de Sambre",
         "Thuin",
         "Hainaut",
         "Unknown",
         "0",
         "0",
         "Unknown",
         "50.365832",
         "4.3300464"
        ],
        [
         "29",
         "Abbaye de Boneffe",
         " Abbey, Brown Ale",
         "9.0",
         "Brasserie de Tubize",
         "Tubize",
         "Walloon Brabant",
         "Unknown",
         "3",
         "50",
         "Clear brown to reddish beer, small aery yellow head, sweet caramel, candi sugar, raisins, dried fruits, port, orange peel, acacia honey, medium body, dried fruits, caramel, spices, liquorish, cloves, aniseed, mocha, caramel, hoppy, spices, star anise, mocha, cloves, chocolate, little bitter",
         "50.6959512",
         "4.206305106273191"
        ],
        [
         "30",
         "Abbaye de Bonne-Espérance",
         " Abbey Ale",
         "7.8",
         "Brasserie La Binchoise",
         "Binche",
         "Hainaut",
         "Unknown",
         "3",
         "2661",
         "Unknown",
         "50.4263301",
         "4.126294247491478"
        ],
        [
         "31",
         "Abbaye de Bonne-Espérance Grand Cru",
         " Abbey Ale",
         "8.0",
         "Brasserie Het Anker",
         "Malines",
         "Antwerp",
         "Unknown",
         "3",
         "66",
         "Unknown",
         "51.0315949",
         "4.4728969"
        ],
        [
         "32",
         "Abbaye d'Aulne Val de Sambre",
         " Abbey Ale, Amber Ale",
         "6.4",
         "Brasserie du Val de Sambre",
         "Thuin",
         "Hainaut",
         "Unknown",
         "3",
         "24",
         "Unknown",
         "50.365832",
         "4.3300464"
        ],
        [
         "33",
         "Abbaye de Forest",
         " Abbey, Tripel",
         "6.5",
         "Brasserie de Silly",
         "Silly",
         "Hainaut",
         "Unknown",
         "3",
         "223",
         "Abbaye de Forest Blonde, draft, Italy, selected pubs",
         "50.6494429",
         "3.925039716650109"
        ],
        [
         "34",
         "Abbaye de Gembloux",
         " Tripel",
         "8.5",
         "Brasserie Lefebvre",
         "Rebecq",
         "Walloon Brabant",
         "Unknown",
         "3",
         "594",
         "Triple Lager, 8% vol, Douce, désaltérante, digeste",
         "50.6749419",
         "4.152957560369655"
        ],
        [
         "35",
         "Abbaye de la Thure",
         " Abbey Ale",
         "10.0",
         "Brasserie Brootcoorens",
         "Erquelinnes",
         "Hainaut",
         "Unknown",
         "3",
         "214",
         "Cloudy murky brown beer, small head, unstable, non adhesive, dried fruits, caramel, rotten banana, overripe fruits, milk chocolate, soft carbon, medium to full body, banana, raisins, little sweet, bit of hops",
         "50.3070077",
         "4.1069398"
        ],
        [
         "36",
         "Abbaye de Saint-Martin Blonde",
         " Abbey Ale",
         "7.0",
         "Brasserie de Brunehaut",
         "Brunehaut",
         "Hainaut",
         "Unknown",
         "3",
         "12003",
         "golden straw colour, strong foam, good head, sharp, lively, nervous fermentation, flowery cheese, round balance, full flavour, floral, elegant, direct, feminine, hard crust cheeses, fine Bries, fine Camemberts, noble bitterness",
         "50.50983",
         "3.387649619910512"
        ],
        [
         "37",
         "Abbaye de Saint-Martin Brune",
         " Abbey Ale",
         "8.0",
         "Brasserie de Brunehaut",
         "Brunehaut",
         "Hainaut",
         "Unknown",
         "3",
         "12003",
         "golden straw colour, strong foam, good head, sharp, lively, flowery cheese, round balance, full flavour, floral, elegant, feminine, hard crust cheeses, fine Bries, fine Camemberts, noble bitterness",
         "50.50983",
         "3.387649619910512"
        ],
        [
         "38",
         "Abbaye de Saint-Martin Cuvée de Noël",
         " Abbey Ale, Christmas Beer in English.",
         "8.5",
         "Brasserie de Brunehaut",
         "Brunehaut",
         "Hainaut",
         "Unknown",
         "0",
         "0",
         "Unknown",
         "50.50983",
         "3.387649619910512"
        ],
        [
         "39",
         "Abbaye de Saint-Martin Triple",
         " Abbey, Tripel",
         "9.0",
         "Brasserie de Brunehaut",
         "Brunehaut",
         "Hainaut",
         "Unknown",
         "3",
         "9056",
         "triple abbey ale, robust character, pure Belgium",
         "50.50983",
         "3.387649619910512"
        ],
        [
         "40",
         "Abbaye de Oudkerken",
         " Abbey Ale",
         "6.2",
         "Brasserie Lefebvre",
         "Rebecq",
         "Walloon Brabant",
         "Unknown",
         "3",
         "936",
         "Unknown",
         "50.6749419",
         "4.152957560369655"
        ],
        [
         "41",
         "Abbaye des Rocs Blonde",
         " Abbey Ale, Top Fermentation",
         "7.5",
         "Brasserie de l'abbaye des Rocs",
         "Honnelles",
         "Hainaut",
         "Unknown",
         "3",
         "5828",
         "Unknown",
         "50.38168775",
         "3.719061535766789"
        ],
        [
         "42",
         "Abbaye des Rocs Brune",
         " Abbey, Brown Ale",
         "9.0",
         "Brasserie de l'abbaye des Rocs",
         "Honnelles",
         "Hainaut",
         "Unknown",
         "3",
         "19708",
         "pure malt beer, no added sugar, double fermentation, malts (7 types), mixtures of three kinds of hops (Belgian, German, Czech), deep majestic red color, rich taste, subtlety, tasted like red wine, ruby color, strong sweet smell, sharp body, balanced fruitiness, impressive depth of taste, traces of burnt wood, prolonged foretaste, rich and unctuous development, bitter and sugar tendencies, deep, mystic, extremely mature beer, great products of our soil",
         "50.38168775",
         "3.719061535766789"
        ],
        [
         "43",
         "Abbaye des Rocs Grand Cru",
         " Abbey, Ale",
         "9.5",
         "Brasserie de l'abbaye des Rocs",
         "Honnelles",
         "Hainaut",
         "Unknown",
         "3",
         "14783",
         "cherries, golden raisins, peaches, dried fruit, honey, caramel, dried chocolate, roasted almonds, hint of molasses",
         "50.38168775",
         "3.719061535766789"
        ],
        [
         "44",
         "Abbaye des Rocs Spéciale Noël",
         " Abbey Ale, Christmas Beer",
         "9.0",
         "Brasserie de l'abbaye des Rocs",
         "Honnelles",
         "Hainaut",
         "Unknown",
         "3",
         "9170",
         "Unknown",
         "50.38168775",
         "3.719061535766789"
        ],
        [
         "45",
         "Abbaye du Park Blonde",
         " Abbey Ale, Blonde Ale",
         "6.0",
         "Brasserie Haacht",
         "Boortmeerbeek",
         "Flemish Brabant",
         "Unknown",
         "0",
         "0",
         "Unknown",
         "50.9808426",
         "4.552216324874748"
        ],
        [
         "46",
         "Abbaye du Park Brune",
         " Abbey, Brown Ale",
         "6.0",
         "Brasserie Haacht",
         "Boortmeerbeek",
         "Flemish Brabant",
         "Unknown",
         "0",
         "0",
         "Unknown",
         "50.9808426",
         "4.552216324874748"
        ],
        [
         "47",
         "Abdis Blond",
         " Blonde Ale",
         "6.5",
         "Brasserie Roman",
         "Audenarde",
         "East Flanders",
         "Unknown",
         "0",
         "0",
         "Unknown",
         "45.18442025",
         "5.774715255279428"
        ],
        [
         "48",
         "Abdis Bruin",
         " Brown Ale",
         "6.5",
         "Brasserie Roman",
         "Audenarde",
         "East Flanders",
         "Unknown",
         "0",
         "0",
         "Unknown",
         "45.18442025",
         "5.774715255279428"
        ],
        [
         "49",
         "Abdis Tripel",
         " Tripel",
         "8.2",
         "Brasserie Roman",
         "Audenarde",
         "East Flanders",
         "Unknown",
         "0",
         "0",
         "Unknown",
         "45.18442025",
         "5.774715255279428"
        ]
       ],
       "shape": {
        "columns": 12,
        "rows": 1855
       }
      },
      "text/html": [
       "<div>\n",
       "<style scoped>\n",
       "    .dataframe tbody tr th:only-of-type {\n",
       "        vertical-align: middle;\n",
       "    }\n",
       "\n",
       "    .dataframe tbody tr th {\n",
       "        vertical-align: top;\n",
       "    }\n",
       "\n",
       "    .dataframe thead th {\n",
       "        text-align: right;\n",
       "    }\n",
       "</style>\n",
       "<table border=\"1\" class=\"dataframe\">\n",
       "  <thead>\n",
       "    <tr style=\"text-align: right;\">\n",
       "      <th></th>\n",
       "      <th>Beers</th>\n",
       "      <th>Type</th>\n",
       "      <th>Alcohol Content</th>\n",
       "      <th>Brewery</th>\n",
       "      <th>Municipality</th>\n",
       "      <th>Province</th>\n",
       "      <th>Parent</th>\n",
       "      <th>Rating</th>\n",
       "      <th>Check-ins</th>\n",
       "      <th>Description</th>\n",
       "      <th>Latitude</th>\n",
       "      <th>Longitude</th>\n",
       "    </tr>\n",
       "  </thead>\n",
       "  <tbody>\n",
       "    <tr>\n",
       "      <th>0</th>\n",
       "      <td>3 Schténg</td>\n",
       "      <td>Top Fermentation, Old Flemish Brown</td>\n",
       "      <td>6.0</td>\n",
       "      <td>Brasserie Grain d'Orge</td>\n",
       "      <td>Plombières</td>\n",
       "      <td>Liege</td>\n",
       "      <td>Unknown</td>\n",
       "      <td>3</td>\n",
       "      <td>3652</td>\n",
       "      <td>Unknown</td>\n",
       "      <td>50.737732</td>\n",
       "      <td>5.961113</td>\n",
       "    </tr>\n",
       "    <tr>\n",
       "      <th>1</th>\n",
       "      <td>IV Saison</td>\n",
       "      <td>Blonde Saison</td>\n",
       "      <td>6.5</td>\n",
       "      <td>Brasserie de Jandrain-Jandrenouille</td>\n",
       "      <td>Orp-Jauche</td>\n",
       "      <td>Walloon Brabant</td>\n",
       "      <td>Unknown</td>\n",
       "      <td>3</td>\n",
       "      <td>11522</td>\n",
       "      <td>blonde beer, 100% barley malt, unfiltered, unp...</td>\n",
       "      <td>50.677482</td>\n",
       "      <td>4.977243</td>\n",
       "    </tr>\n",
       "    <tr>\n",
       "      <th>2</th>\n",
       "      <td>V Cense</td>\n",
       "      <td>Belgian Ale, Specialty</td>\n",
       "      <td>7.5</td>\n",
       "      <td>Brasserie de Jandrain-Jandrenouille</td>\n",
       "      <td>Orp-Jauche</td>\n",
       "      <td>Walloon Brabant</td>\n",
       "      <td>Unknown</td>\n",
       "      <td>3</td>\n",
       "      <td>4705</td>\n",
       "      <td>ambrée, 100% malt d'orge, non filtrée, non pas...</td>\n",
       "      <td>50.677482</td>\n",
       "      <td>4.977243</td>\n",
       "    </tr>\n",
       "    <tr>\n",
       "      <th>3</th>\n",
       "      <td>VI Wheat</td>\n",
       "      <td>Belgian Ale, Witbier</td>\n",
       "      <td>6.0</td>\n",
       "      <td>Brasserie de Jandrain-Jandrenouille</td>\n",
       "      <td>Orp-Jauche</td>\n",
       "      <td>Walloon Brabant</td>\n",
       "      <td>Unknown</td>\n",
       "      <td>3</td>\n",
       "      <td>6579</td>\n",
       "      <td>malt de froment, malt d'orge, non filtrée, non...</td>\n",
       "      <td>50.677482</td>\n",
       "      <td>4.977243</td>\n",
       "    </tr>\n",
       "    <tr>\n",
       "      <th>4</th>\n",
       "      <td>7-PK</td>\n",
       "      <td>Belgian Blonde Ale</td>\n",
       "      <td>7.0</td>\n",
       "      <td>Brasserie Anders!</td>\n",
       "      <td>Halen</td>\n",
       "      <td>Limburg</td>\n",
       "      <td>Unknown</td>\n",
       "      <td>3</td>\n",
       "      <td>8801</td>\n",
       "      <td>blond haverbier, 7 procent alcohol, kruidige a...</td>\n",
       "      <td>52.958748</td>\n",
       "      <td>5.723328</td>\n",
       "    </tr>\n",
       "    <tr>\n",
       "      <th>...</th>\n",
       "      <td>...</td>\n",
       "      <td>...</td>\n",
       "      <td>...</td>\n",
       "      <td>...</td>\n",
       "      <td>...</td>\n",
       "      <td>...</td>\n",
       "      <td>...</td>\n",
       "      <td>...</td>\n",
       "      <td>...</td>\n",
       "      <td>...</td>\n",
       "      <td>...</td>\n",
       "      <td>...</td>\n",
       "    </tr>\n",
       "    <tr>\n",
       "      <th>1850</th>\n",
       "      <td>Zulte</td>\n",
       "      <td>Brown Ale</td>\n",
       "      <td>8.0</td>\n",
       "      <td>Alken-Maes</td>\n",
       "      <td>Unknown</td>\n",
       "      <td>Unknown</td>\n",
       "      <td>Unknown</td>\n",
       "      <td>0</td>\n",
       "      <td>0</td>\n",
       "      <td>Unknown</td>\n",
       "      <td>50.879329</td>\n",
       "      <td>5.307086</td>\n",
       "    </tr>\n",
       "    <tr>\n",
       "      <th>1851</th>\n",
       "      <td>Zwalmse Tripel</td>\n",
       "      <td>Tripel</td>\n",
       "      <td>10.0</td>\n",
       "      <td>De Proefbrouwerij</td>\n",
       "      <td>Lochristi</td>\n",
       "      <td>West Flanders</td>\n",
       "      <td>Unknown</td>\n",
       "      <td>3</td>\n",
       "      <td>933</td>\n",
       "      <td>Unknown</td>\n",
       "      <td>51.115254</td>\n",
       "      <td>3.816097</td>\n",
       "    </tr>\n",
       "    <tr>\n",
       "      <th>1852</th>\n",
       "      <td>Zwarte Pol</td>\n",
       "      <td>Stout</td>\n",
       "      <td>7.1</td>\n",
       "      <td>Brasserie Inter-Pol</td>\n",
       "      <td>Houffalize</td>\n",
       "      <td>Luxembourg</td>\n",
       "      <td>Unknown</td>\n",
       "      <td>3</td>\n",
       "      <td>401</td>\n",
       "      <td>Unknown</td>\n",
       "      <td>50.132376</td>\n",
       "      <td>5.788693</td>\n",
       "    </tr>\n",
       "    <tr>\n",
       "      <th>1853</th>\n",
       "      <td>Zwet.be</td>\n",
       "      <td>Stout</td>\n",
       "      <td>8.4</td>\n",
       "      <td>De Proefbrouwerij</td>\n",
       "      <td>Lochristi</td>\n",
       "      <td>West Flanders</td>\n",
       "      <td>Unknown</td>\n",
       "      <td>0</td>\n",
       "      <td>0</td>\n",
       "      <td>Unknown</td>\n",
       "      <td>51.115254</td>\n",
       "      <td>3.816097</td>\n",
       "    </tr>\n",
       "    <tr>\n",
       "      <th>1854</th>\n",
       "      <td>Zwijntje</td>\n",
       "      <td>Blonde Ale</td>\n",
       "      <td>8.2</td>\n",
       "      <td>Brasserie Boon</td>\n",
       "      <td>Hal</td>\n",
       "      <td>Flemish Brabant</td>\n",
       "      <td>Unknown</td>\n",
       "      <td>3</td>\n",
       "      <td>14890</td>\n",
       "      <td>Unknown</td>\n",
       "      <td>53.743572</td>\n",
       "      <td>-0.339476</td>\n",
       "    </tr>\n",
       "  </tbody>\n",
       "</table>\n",
       "<p>1855 rows × 12 columns</p>\n",
       "</div>"
      ],
      "text/plain": [
       "               Beers                                 Type  Alcohol Content  \\\n",
       "0          3 Schténg  Top Fermentation, Old Flemish Brown              6.0   \n",
       "1          IV Saison                        Blonde Saison              6.5   \n",
       "2            V Cense               Belgian Ale, Specialty              7.5   \n",
       "3           VI Wheat                 Belgian Ale, Witbier              6.0   \n",
       "4               7-PK                   Belgian Blonde Ale              7.0   \n",
       "...              ...                                  ...              ...   \n",
       "1850           Zulte                            Brown Ale              8.0   \n",
       "1851  Zwalmse Tripel                               Tripel             10.0   \n",
       "1852      Zwarte Pol                                Stout              7.1   \n",
       "1853         Zwet.be                                Stout              8.4   \n",
       "1854        Zwijntje                           Blonde Ale              8.2   \n",
       "\n",
       "                                  Brewery Municipality         Province  \\\n",
       "0                  Brasserie Grain d'Orge   Plombières            Liege   \n",
       "1     Brasserie de Jandrain-Jandrenouille   Orp-Jauche  Walloon Brabant   \n",
       "2     Brasserie de Jandrain-Jandrenouille   Orp-Jauche  Walloon Brabant   \n",
       "3     Brasserie de Jandrain-Jandrenouille   Orp-Jauche  Walloon Brabant   \n",
       "4                       Brasserie Anders!        Halen          Limburg   \n",
       "...                                   ...          ...              ...   \n",
       "1850                           Alken-Maes      Unknown          Unknown   \n",
       "1851                    De Proefbrouwerij    Lochristi    West Flanders   \n",
       "1852                  Brasserie Inter-Pol   Houffalize       Luxembourg   \n",
       "1853                    De Proefbrouwerij    Lochristi    West Flanders   \n",
       "1854                       Brasserie Boon          Hal  Flemish Brabant   \n",
       "\n",
       "       Parent  Rating  Check-ins  \\\n",
       "0     Unknown       3       3652   \n",
       "1     Unknown       3      11522   \n",
       "2     Unknown       3       4705   \n",
       "3     Unknown       3       6579   \n",
       "4     Unknown       3       8801   \n",
       "...       ...     ...        ...   \n",
       "1850  Unknown       0          0   \n",
       "1851  Unknown       3        933   \n",
       "1852  Unknown       3        401   \n",
       "1853  Unknown       0          0   \n",
       "1854  Unknown       3      14890   \n",
       "\n",
       "                                            Description   Latitude  Longitude  \n",
       "0                                               Unknown  50.737732   5.961113  \n",
       "1     blonde beer, 100% barley malt, unfiltered, unp...  50.677482   4.977243  \n",
       "2     ambrée, 100% malt d'orge, non filtrée, non pas...  50.677482   4.977243  \n",
       "3     malt de froment, malt d'orge, non filtrée, non...  50.677482   4.977243  \n",
       "4     blond haverbier, 7 procent alcohol, kruidige a...  52.958748   5.723328  \n",
       "...                                                 ...        ...        ...  \n",
       "1850                                            Unknown  50.879329   5.307086  \n",
       "1851                                            Unknown  51.115254   3.816097  \n",
       "1852                                            Unknown  50.132376   5.788693  \n",
       "1853                                            Unknown  51.115254   3.816097  \n",
       "1854                                            Unknown  53.743572  -0.339476  \n",
       "\n",
       "[1855 rows x 12 columns]"
      ]
     },
     "execution_count": 79,
     "metadata": {},
     "output_type": "execute_result"
    }
   ],
   "source": [
    "df"
   ]
  },
  {
   "cell_type": "code",
   "execution_count": 81,
   "metadata": {},
   "outputs": [
    {
     "name": "stdout",
     "output_type": "stream",
     "text": [
      "saved as: beers_graph_with_parent_company.ttl\n"
     ]
    }
   ],
   "source": [
    "g = Graph()\n",
    "\n",
    "EX = Namespace(\"http://example.org/\")\n",
    "SCHEMA = Namespace(\"http://schema.org/\")\n",
    "\n",
    "g.bind(\"ex\", EX)\n",
    "g.bind(\"rdf\", RDF)\n",
    "g.bind(\"xsd\", XSD)\n",
    "g.bind(\"schema\", SCHEMA)\n",
    "\n",
    "# here we have to define the properties we are going to use for the graph\n",
    "EX_ownedBy = EX.ownedBy # parent company\n",
    "EX_brewedBy = EX.brewedBy\n",
    "EX_locatedInMunicipality = EX.locatedInMunicipality\n",
    "EX_isContainedInProvince = EX.isContainedInProvince\n",
    "EX_hasLocation = EX.hasLocation\n",
    "EX_alcoholPercentage = EX.alcoholPercentage\n",
    "EX_beerRating = EX.beerRating\n",
    "EX_beerPopularity = EX.beerPopularity\n",
    "EX_beerDescription = EX.beerDescription\n",
    "EX_beerType = EX.beerType\n",
    "\n",
    "for idx, row in df.iterrows():\n",
    "    beer_name = row[\"Beers\"]\n",
    "    brewery_name = row[\"Brewery\"]\n",
    "    municipality = row[\"Municipality\"]\n",
    "    province = row[\"Province\"]\n",
    "    parent_company = row[\"Parent\"]\n",
    "\n",
    "\t# i'm using a regex, all it does it replace spaces with underscores\n",
    "    # you could also use .replace(\" \", \"_\") but this is more flexible as it accounts for multiple spaces\n",
    "    beer_uri = EX[re.sub(r\"\\s+\", \"_\", beer_name)]\n",
    "    brewery_uri = EX[re.sub(r\"\\s+\", \"_\", brewery_name)]\n",
    "    municipality_uri = EX[re.sub(r\"\\s+\", \"_\", municipality)]\n",
    "    province_uri = EX[re.sub(r\"\\s+\", \"_\", province)]\n",
    "    location_uri = EX[f\"location_{row['Latitude']}_{row['Longitude']}\"]\n",
    "\n",
    "    # need to check if there is a parent company or not, most of the time there isn't\n",
    "    if parent_company != \"Unknown\":\n",
    "        parent_company_uri = EX[re.sub(r\"\\s+\", \"_\", parent_company)]\n",
    "        g.add((brewery_uri, EX_ownedBy, parent_company_uri))\n",
    "        g.add((parent_company_uri, RDF.type, SCHEMA.Organization)) # parent company as an organization, but it could be a brewery\n",
    "        g.add((parent_company_uri, SCHEMA.name, Literal(parent_company, datatype=XSD.string)))\n",
    "\n",
    "\t# define some classes\n",
    "    g.add((beer_uri, RDF.type, SCHEMA.BreweryProduct))\n",
    "    g.add((brewery_uri, RDF.type, SCHEMA.Brewery))\n",
    "    g.add((municipality_uri, RDF.type, SCHEMA.City))\n",
    "    g.add((province_uri, RDF.type, SCHEMA.AdministrativeArea))\n",
    "    g.add((location_uri, RDF.type, SCHEMA.GeoCoordinates)) # and we use GeoCoordinates\n",
    "\n",
    "    g.add((beer_uri, SCHEMA.name, Literal(beer_name, datatype=XSD.string)))\n",
    "\n",
    "    alcohol_content = float(str(row[\"Alcohol Content\"]).replace(\",\", \".\"))\n",
    "    g.add((beer_uri, EX_alcoholPercentage, Literal(alcohol_content, datatype=XSD.float)))\n",
    "\n",
    "    beer_rating = float(row[\"Rating\"])\n",
    "    g.add((beer_uri, EX_beerRating, Literal(beer_rating, datatype=XSD.float)))\n",
    "\n",
    "    beer_popularity = int(row[\"Check-ins\"])\n",
    "    g.add((beer_uri, EX_beerPopularity, Literal(beer_popularity, datatype=XSD.integer)))\n",
    "\n",
    "    # here we just need to handle the commas, and split the attributes \n",
    "    descriptions = str(row[\"Description\"]).split(',')\n",
    "    for description in descriptions:\n",
    "        description = description.strip()\n",
    "        if description: \n",
    "            g.add((beer_uri, EX_beerDescription, Literal(description, datatype=XSD.string)))\n",
    "            \n",
    "    types = str(row[\"Type\"]).split(',')\n",
    "    for type in types:\n",
    "        type = type.strip()\n",
    "        if type: \n",
    "            g.add((beer_uri, EX_beerType, Literal(type, datatype=XSD.string)))\n",
    "\n",
    "    g.add((brewery_uri, SCHEMA.name, Literal(brewery_name, datatype=XSD.string)))\n",
    "    g.add((municipality_uri, SCHEMA.name, Literal(municipality, datatype=XSD.string)))\n",
    "    g.add((province_uri, SCHEMA.name, Literal(province, datatype=XSD.string)))\n",
    "\n",
    "\t# here add some relationships that we created\n",
    "    g.add((beer_uri, EX_brewedBy, brewery_uri))\n",
    "    g.add((brewery_uri, EX_locatedInMunicipality, municipality_uri))\n",
    "    g.add((municipality_uri, EX_isContainedInProvince, province_uri))\n",
    "    g.add((beer_uri, EX_hasLocation, location_uri))\n",
    "\n",
    "    g.add((location_uri, SCHEMA.latitude, Literal(row[\"Latitude\"], datatype=XSD.float)))\n",
    "    g.add((location_uri, SCHEMA.longitude, Literal(row[\"Longitude\"], datatype=XSD.float)))\n",
    "\n",
    "g.serialize(\"beers_graph_with_parent_company.ttl\", format=\"turtle\")\n",
    "\n",
    "print(\"saved as: beers_graph_with_parent_company.ttl\")"
   ]
  },
  {
   "cell_type": "markdown",
   "metadata": {},
   "source": [
    "# here i'm going to directly modify the .ttl file to remove % and ' and other bad stuff "
   ]
  },
  {
   "cell_type": "code",
   "execution_count": 82,
   "metadata": {},
   "outputs": [],
   "source": [
    "# maybe it isn't the best approach, but it works well enough for this graph \n",
    "with open(\"beers_graph_with_parent_company.ttl\", \"r\") as f:\n",
    "\tdata = f.read()\n",
    "\tdata = re.sub(r\"['!%]\", \"\", data)\n",
    "\t\n",
    "with open(\"beers_graph_with_parent_company.ttl\", \"w\") as f:\n",
    "\tf.write(data)"
   ]
  },
  {
   "cell_type": "markdown",
   "metadata": {},
   "source": [
    "# return top 10 highest alcohol % "
   ]
  },
  {
   "cell_type": "code",
   "execution_count": null,
   "metadata": {},
   "outputs": [
    {
     "name": "stdout",
     "output_type": "stream",
     "text": [
      "Top 10 Beers by Alcohol Percentage:\n",
      "Black Damnation V (Double Black): 26.0\n",
      "Cuvée du Flo Ambrée: 15.0\n",
      "Black Albert: 13.0\n",
      "Black Damnation I: 13.0\n",
      "Black Damnation III (Black Mes): 13.0\n",
      "Black Damnation IV (Coffée Club): 13.0\n",
      "Bush Prestige: 13.0\n",
      "Bush 7: 13.0\n",
      "La Cambre: 13.0\n",
      "Cuvée du Château: 13.0\n"
     ]
    }
   ],
   "source": [
    "query = \"\"\"\n",
    "    PREFIX ex: <http://example.org/>\n",
    "    PREFIX schema: <http://schema.org/>\n",
    "    SELECT ?beerName ?alcoholPercentage\n",
    "    WHERE {\n",
    "        ?beer a schema:BreweryProduct ;\n",
    "               schema:name ?beerName ;\n",
    "               ex:alcoholPercentage ?alcoholPercentage .\n",
    "    }\n",
    "    ORDER BY DESC(?alcoholPercentage)\n",
    "    LIMIT 10\n",
    "\"\"\"\n",
    "\n",
    "results = g.query(query)\n",
    "\n",
    "for row in results:\n",
    "    print(f\"{row.beerName}: {row.alcoholPercentage}\")\n"
   ]
  },
  {
   "cell_type": "code",
   "execution_count": 75,
   "metadata": {},
   "outputs": [
    {
     "name": "stdout",
     "output_type": "stream",
     "text": [
      "De Proefbrouwerij: 111 beers\n",
      "Brasserie De Hoorn: 57 beers\n",
      "Brasserie Den Herberg: 54 beers\n",
      "Brasserie du Bocq: 54 beers\n",
      "Brasserie Huyghe: 50 beers\n",
      "Brasserie Strubbe: 41 beers\n",
      "Brasserie Alvinne: 35 beers\n",
      "Brasserie De Graal: 31 beers\n",
      "Brasserie Haacht: 30 beers\n",
      "Alken-Maes: 28 beers\n"
     ]
    }
   ],
   "source": [
    "query = \"\"\"\n",
    "    PREFIX ex: <http://example.org/>\n",
    "    PREFIX schema: <http://schema.org/>\n",
    "    SELECT ?breweryName (COUNT(?beer) AS ?beerCount)\n",
    "    WHERE {\n",
    "        ?beer a schema:BreweryProduct ;\n",
    "               ex:brewedBy ?brewery .\n",
    "        ?brewery schema:name ?breweryName .\n",
    "    }\n",
    "    GROUP BY ?breweryName\n",
    "    ORDER BY DESC(?beerCount)\n",
    "    LIMIT 10\n",
    "\"\"\"\n",
    "\n",
    "results = g.query(query)\n",
    "\n",
    "for row in results:\n",
    "    print(f\"{row.breweryName}: {row.beerCount} beers\")"
   ]
  },
  {
   "cell_type": "code",
   "execution_count": 70,
   "metadata": {},
   "outputs": [
    {
     "name": "stdout",
     "output_type": "stream",
     "text": [
      "Average Alcohol Percentage: 6.795463864684773\n"
     ]
    }
   ],
   "source": [
    "query = \"\"\"\n",
    "    PREFIX ex: <http://example.org/>\n",
    "    PREFIX schema: <http://schema.org/>\n",
    "    SELECT (AVG(?alcoholPercentage) AS ?averageAlcoholPercentage)\n",
    "    WHERE {\n",
    "        ?beer a schema:BreweryProduct ;\n",
    "               ex:alcoholPercentage ?alcoholPercentage .\n",
    "    }\n",
    "\"\"\"\n",
    "\n",
    "# Execute the query\n",
    "results = g.query(query)\n",
    "\n",
    "# Print the results\n",
    "for row in results:\n",
    "    print(f\"Average Alcohol Percentage: {row.averageAlcoholPercentage}\")"
   ]
  },
  {
   "cell_type": "code",
   "execution_count": 76,
   "metadata": {},
   "outputs": [
    {
     "name": "stdout",
     "output_type": "stream",
     "text": [
      "Top 10 Breweries with Highest Alcohol Percentage Beers:\n",
      "Brasserie Deca: Highest Alcohol Percentage = 26.0\n",
      "Brasserie du Flo: Highest Alcohol Percentage = 15.0\n",
      "Brasserie Het Anker: Highest Alcohol Percentage = 13.0\n",
      "Brasserie Affligem: Highest Alcohol Percentage = 13.0\n",
      "Brasserie Slaghmuylder: Highest Alcohol Percentage = 13.0\n",
      "Brasserie Van Honsebrouck: Highest Alcohol Percentage = 13.0\n",
      "Brasserie Dubuisson: Highest Alcohol Percentage = 13.0\n",
      "Brasserie La Binchoise: Highest Alcohol Percentage = 12.0\n",
      "Brasserie Lefebvre: Highest Alcohol Percentage = 12.0\n",
      "De Proefbrouwerij: Highest Alcohol Percentage = 12.0\n"
     ]
    }
   ],
   "source": [
    "query = \"\"\"\n",
    "    PREFIX ex: <http://example.org/>\n",
    "    PREFIX schema: <http://schema.org/>\n",
    "    SELECT ?breweryName (MAX(?alcoholPercentage) AS ?maxAlcoholPercentage)\n",
    "    WHERE {\n",
    "        ?beer a schema:BreweryProduct ;\n",
    "               ex:brewedBy ?brewery ;\n",
    "               ex:alcoholPercentage ?alcoholPercentage .\n",
    "        ?brewery schema:name ?breweryName .\n",
    "    }\n",
    "    GROUP BY ?breweryName\n",
    "    ORDER BY DESC(?maxAlcoholPercentage)\n",
    "    LIMIT 10\n",
    "\"\"\"\n",
    "\n",
    "# Execute the query\n",
    "results = g.query(query)\n",
    "\n",
    "# Print the results\n",
    "print(\"Top 10 Breweries with Highest Alcohol Percentage Beers:\")\n",
    "for row in results:\n",
    "    print(f\"{row.breweryName}: Highest Alcohol Percentage = {row.maxAlcoholPercentage}\")\n"
   ]
  },
  {
   "cell_type": "code",
   "execution_count": 77,
   "metadata": {},
   "outputs": [
    {
     "name": "stdout",
     "output_type": "stream",
     "text": [
      "Number of Breweries per Province:\n",
      "Hainaut: 33 breweries\n",
      "Unknown: 31 breweries\n",
      "West Flanders: 30 breweries\n",
      "Flemish Brabant: 28 breweries\n",
      "Luxembourg: 24 breweries\n",
      "East Flanders: 24 breweries\n",
      "Liege: 17 breweries\n",
      "Antwerp: 17 breweries\n",
      "Limburg: 14 breweries\n",
      "Walloon Brabant: 11 breweries\n",
      "Namur: 11 breweries\n",
      "Brussels: 5 breweries\n"
     ]
    }
   ],
   "source": [
    "query = \"\"\"\n",
    "    PREFIX ex: <http://example.org/>\n",
    "    PREFIX schema: <http://schema.org/>\n",
    "    SELECT ?provinceName (COUNT(DISTINCT ?brewery) AS ?breweryCount)\n",
    "    WHERE {\n",
    "        ?brewery a schema:Brewery ;\n",
    "                 ex:locatedInMunicipality ?municipality .\n",
    "        ?municipality ex:isContainedInProvince ?province .\n",
    "        ?province schema:name ?provinceName .\n",
    "    }\n",
    "    GROUP BY ?provinceName\n",
    "    ORDER BY DESC(?breweryCount)\n",
    "\"\"\"\n",
    "\n",
    "# Execute the query\n",
    "results = g.query(query)\n",
    "\n",
    "# Print the results\n",
    "print(\"Number of Breweries per Province:\")\n",
    "for row in results:\n",
    "    print(f\"{row.provinceName}: {row.breweryCount} breweries\")"
   ]
  },
  {
   "cell_type": "code",
   "execution_count": null,
   "metadata": {},
   "outputs": [
    {
     "name": "stdout",
     "output_type": "stream",
     "text": [
      "Beer Type Counts per Province:\n",
      "Antwerp: Counter({'Blonde Ale': 19, 'Tripel': 14, 'Brown Ale': 12, 'Amber Ale': 9, 'Special': 6, 'High fermentation': 5, 'Fruity Ale': 4, 'Organic': 4, 'Stout': 4, 'Witbier': 4, 'Christmas Beer': 3, 'Pilsner': 3, 'Top-Fermented': 3, 'IPA': 2, 'Red Ale': 2, 'Spéciale': 2, 'Trappist': 2, '(Label Beer)': 1, 'Abbey Ale': 1, 'Amber': 1, 'Belgian Ale': 1, 'Belgian Blonde Ale': 1, 'Blonde': 1, 'Brown': 1, 'Dubbel': 1, 'Farmhouse Ale': 1, 'Golden Blonde': 1, 'High fermentation blonde': 1, 'India Pale Ale': 1, 'Label Beer': 1, 'Pale Ale': 1, 'Porter': 1, 'Rauchbier': 1, 'Special Red Ale': 1, 'Specialty Ale': 1, 'Top-Fermenting': 1, 'Top-fermented': 1, 'bottle refermentation': 1})\n",
      "Brussels: Counter({'Gueuze': 14, 'Lambic': 7, 'Fruity': 3, 'Blonde Ale': 2, 'Brown Ale': 2, 'Stout': 2, 'Amber': 1, 'Amber Ale': 1, 'Farmhouse Ale': 1, 'Gueuze\\nAmbrée': 1, 'High Fermentation Blonde': 1, 'High fermentation': 1, 'Lambic in English.': 1, 'Seasonal Beer': 1, 'Tripel': 1, 'Witbier': 1})\n",
      "East Flanders: Counter({'Blonde Ale': 48, 'Tripel': 47, 'High fermentation': 37, 'Brown Ale': 34, 'Fruity Ale': 21, 'Amber Ale': 20, 'Witbier': 17, 'Belgian Ale': 14, 'Blonde': 14, 'Organic': 11, 'Abbey Ale': 10, 'Christmas Beer': 10, 'Pilsner': 10, 'Top-Fermented': 9, 'Golden Blonde': 8, 'Unknown': 7, 'Stout': 6, 'India Pale Ale': 5, 'Pale Ale': 5, 'Special': 5, 'Top Fermentation': 5, 'Ale': 4, 'Amber': 4, 'Top-fermented': 4, 'Abbey': 3, 'Belgian Strong Ale': 3, 'Brut': 3, 'Fruity': 3, 'IPA': 3, 'Red Brown Ale': 3, 'Christmas beer': 2, 'Double': 2, 'Dubbel': 2, 'Lager': 2, 'Old Brown Ale': 2, 'Red Brown': 2, 'Special Ale': 2, 'Top Fermentation in English.': 2, 'Amber Blonde': 1, 'Amber-brown  \\nNormalized: Amber Ale': 1, 'Barleywine': 1, 'Belgian Tripel': 1, 'Bock': 1, 'Brut\\nBrune': 1, 'Farmhouse Ale': 1, 'Gueuze': 1, 'Honey Beer': 1, 'Honey beer': 1, 'Label Beer': 1, 'Low fermentation': 1, 'Non-Alcoholic Pilsner': 1, 'Organic Ale': 1, 'Organic in English.': 1, 'Porter': 1, 'Quadrupel': 1, 'Red': 1, 'Red Ale': 1, 'Red in English.': 1, 'Red-Brown': 1, 'Red-Brown in English. \\n\\nNormalized names: Fruity': 1, 'Saison': 1, 'Seasonal beer': 1, 'Specialty Ale': 1, 'Triple': 1, 'ale': 1})\n",
      "Flemish Brabant: Counter({'High fermentation': 38, 'Blonde Ale': 35, 'Fruity Ale': 32, 'Brown Ale': 24, 'Tripel': 24, 'Abbey Ale': 20, 'Lambic': 20, 'Gueuze': 19, 'Abbey': 16, 'Amber Ale': 13, 'Pilsner': 13, 'Belgian Ale': 11, 'Witbier': 11, 'Cherry Lambic': 8, 'Unknown': 8, 'Faro': 7, 'Fruit Beer': 7, 'Blonde': 6, 'Christmas Beer': 6, 'Fruity Lambic-based': 5, 'Lager': 5, 'Top-Fermented': 5, 'Old Gueuze': 4, 'Top Fermentation': 4, 'Fruit Lambic': 3, 'Old Brown Ale': 3, 'Double': 2, 'Dubbel': 2, 'Fruity': 2, 'Fruity Lambic-based.': 2, 'Honey Beer': 2, 'Kriek': 2, 'Mixed Fermentation': 2, 'Red Ale': 2, 'Shandy': 2, 'Special': 2, 'Top Fermentation in English.': 2, '(Label Beer)': 1, 'Abbey in English.': 1, 'Amber': 1, 'Amber Blonde': 1, 'Belgian Strong Ale': 1, 'Belgian Tripel': 1, 'Brown': 1, 'Brown in English.': 1, 'Christmas Beer in English.': 1, 'Christmas beer': 1, 'Fruited Lambic': 1, 'Fruity Non-Alcoholic': 1, 'Fruity in English.': 1, 'Golden Blonde': 1, 'India Pale Ale': 1, 'Mustard Beer': 1, 'Non-Alcoholic': 1, 'Pale Ale': 1, 'Red Brown Ale': 1, 'Red-Brown Ale': 1, 'Saison': 1, 'Special Ale': 1, 'Specialty Ale': 1, 'Stout': 1, 'Strong Blonde Ale': 1, 'Table Beer': 1, 'White Ale': 1, 'ale': 1})\n",
      "Hainaut: Counter({'Blonde Ale': 39, 'Tripel': 23, 'Amber Ale': 22, 'High fermentation': 20, 'Abbey Ale': 16, 'Belgian Ale': 15, 'Blonde': 15, 'Christmas Beer': 14, 'Fruity Ale': 14, 'Brown Ale': 13, 'Organic': 11, 'Witbier': 10, 'Farmhouse Ale': 8, 'Table Beer': 8, 'Abbey': 7, 'Amber': 7, 'Stout': 7, 'Unknown': 7, 'Pilsner': 6, 'Pale Ale': 5, 'Seasonal': 4, 'Top Fermentation': 4, 'Ale': 3, 'Amber in English.': 3, 'Belgian Strong Ale': 3, 'Top-Fermented': 3, 'Top-fermented': 3, 'Abbaye': 2, 'Fruit Beer': 2, 'Golden Blonde': 2, 'Honey Beer': 2, 'Saison': 2, 'Top-Fermenting (Beer Label)': 2, 'Trappist': 2, 'Blonde Saison': 1, 'Christmas Beer in English.': 1, 'Farmhouse Ale\\nBrune': 1, 'Honey beer': 1, 'Hoppy Blonde': 1, 'Mixed Fermentation': 1, 'Organic in English.': 1, 'Special': 1, 'Specialty Ale': 1, 'Thirst-Quenching Blonde Ale': 1, 'Triple': 1, 'White': 1})\n",
      "Liege: Counter({'Blonde Ale': 24, 'Brown Ale': 15, 'High fermentation': 13, 'Amber Ale': 8, 'Tripel': 8, 'Belgian Ale': 6, 'Pilsner': 6, 'Witbier': 6, 'Top-Fermented': 5, 'Fruity Ale': 4, 'Top Fermentation': 4, 'Fruit Beer': 3, 'Lager': 3, 'Stout': 3, 'Abbey Ale': 2, 'Belgian Blonde Ale': 2, 'Fruity': 2, 'Honey beer': 2, 'Table Beer': 2, 'Unknown': 2, 'lager': 2, 'Ale': 1, 'Amber': 1, 'Blonde': 1, 'Brown': 1, 'Brown Ale in English.': 1, 'Christmas Beer': 1, 'Christmas beer': 1, 'High Fermentation': 1, 'High Fermentation Christmas': 1, 'India Pale Ale': 1, 'Old Flemish Brown': 1, 'Organic': 1, 'Saison': 1, 'Special Belgian Ale': 1, 'Top-Fermented in English.': 1, 'Wheat Beer': 1, 'White Beer': 1})\n",
      "Limburg: Counter({'Tripel': 13, 'Pilsner': 11, 'Blonde Ale': 9, 'Brown Ale': 8, 'High fermentation': 7, 'Blonde': 6, 'Belgian Ale': 4, 'Lambic': 4, 'Trappist': 4, 'Abbey': 3, 'Fruity': 3, 'Lager': 3, 'Shandy': 3, 'Witbier': 3, 'Abbey Ale': 2, 'Ale': 2, 'Cherry Lambic': 2, 'Fruit Beer': 2, 'Organic': 2, 'Pale Ale': 2, 'Unknown': 2, '(Label Beer)': 1, 'Amber': 1, 'Amber Ale': 1, 'Belgian Blonde Ale': 1, 'Bottle-Conditioned': 1, 'Christmas Beer': 1, 'Christmas Triple': 1, 'Double': 1, 'Dubbel': 1, 'Gueuze': 1, 'Kriek': 1, 'Low fermentation in English.': 1, 'Red-Brown Abbey Ale': 1, 'Special bottle-conditioned': 1, 'Table Beer': 1, 'Top-Fermented': 1, 'Top-fermented': 1})\n",
      "Luxembourg: Counter({'High fermentation': 20, 'Blonde Ale': 18, 'Amber Ale': 9, 'Top-Fermented': 8, 'Brown Ale': 7, 'Tripel': 7, 'Witbier': 7, 'Ale': 4, 'Christmas Beer': 4, 'Farmhouse Ale': 4, 'Stout': 4, 'Blonde': 3, 'India Pale Ale': 3, 'Top Fermentation': 3, 'Belgian Ale': 2, 'Christmas beer': 2, 'Organic': 2, 'Table Beer': 2, 'Abbey Ale': 1, 'Amber': 1, 'Barleywine': 1, 'Dubbel': 1, 'Fruity': 1, 'Fruity in English.': 1, 'Honey Beer in English.': 1, 'Pale Ale': 1, 'Rauchbier': 1, 'Seasonal': 1, 'Special': 1, 'Top Fermentation in English.': 1, 'Top-Fermented in English.': 1, 'Trappist': 1, 'Wheat': 1, 'Wheat Beer': 1})\n",
      "Namur: Counter({'Blonde Ale': 23, 'Abbey Ale': 12, 'Brown Ale': 12, 'Fruity Ale': 10, 'Amber Ale': 9, 'Tripel': 7, 'Witbier': 7, 'Christmas Beer': 5, 'Abbey': 4, 'Belgian Ale': 4, 'High fermentation': 4, 'Blonde': 3, 'Top-Fermented': 3, 'Triple': 3, 'Fruit Beer': 2, 'Pale Ale': 2, 'Special': 2, 'Top Fermentation': 2, 'Ale': 1, 'Amber': 1, 'Amber in English.': 1, 'Blonde in English.': 1, 'Buckwheat Beer': 1, 'Double': 1, 'Golden Ale': 1, 'High Fermentation': 1, 'India Pale Ale': 1, 'Kriek': 1, 'Organic': 1, 'Red Brown Ale': 1, 'Seasonal': 1, 'Specialty': 1, 'Stout': 1, 'White': 1})\n",
      "Unknown: Counter({'High fermentation': 25, 'Blonde Ale': 15, 'Brown Ale': 12, 'Pilsner': 11, 'Ale': 8, 'Tripel': 7, 'Abbey Ale': 5, 'Amber Ale': 5, 'Blonde': 5, 'Belgian Ale': 4, 'India Pale Ale': 4, 'Unknown': 4, 'Witbier': 4, 'Abbey': 3, 'Lager': 3, 'Shandy': 3, 'Top-Fermented': 3, 'Trappist': 3, 'Double': 2, 'Farmhouse Ale': 2, 'Golden Blonde': 2, 'Gueuze': 2, 'Pale Ale': 2, 'Red Ale': 2, 'Special Ale': 2, 'Abbey Ale in English.': 1, 'Amber': 1, 'Beer label': 1, 'Cherry Lambic': 1, 'Christmas Beer': 1, 'Dubbel': 1, 'Fruity': 1, 'Fruity Ale': 1, 'Label Beer': 1, 'Lager in English.': 1, 'Lambic': 1, 'Low fermentation': 1, 'Old Brown Ale': 1, 'Red Brown Ale': 1, 'Red-Brown Abbey Ale': 1, 'Stout': 1, 'Table Beer': 1, 'Top Fermentation in English.': 1})\n",
      "Walloon Brabant: Counter({'Blonde Ale': 18, 'High fermentation': 11, 'Brown Ale': 10, 'Abbey Ale': 8, 'Amber Ale': 8, 'Tripel': 7, 'Witbier': 7, 'Pilsner': 5, 'Fruity Ale': 4, 'Gueuze': 4, 'Belgian Ale': 3, 'Unknown': 3, 'Abbey': 2, 'Blonde Saison': 2, 'Honey Beer': 2, 'Table Beer': 2, 'Ale': 1, 'Bock': 1, 'Dubbel': 1, 'Fruity Beer': 1, 'Golden Blonde': 1, 'India Session Ale': 1, 'Label Beer': 1, 'Lambic': 1, 'Low fermentation': 1, 'Red Ale': 1, 'Ruby Beer': 1, 'Saison': 1, 'Specialty': 1, 'Top-Fermented': 1})\n",
      "West Flanders: Counter({'Tripel': 48, 'Brown Ale': 46, 'High fermentation': 45, 'Blonde Ale': 40, 'Amber Ale': 26, 'Stout': 21, 'Fruity Ale': 15, 'Organic': 15, 'Witbier': 15, 'Christmas Beer': 14, 'Old Brown Ale': 13, 'Top-Fermented': 13, 'Ale': 12, 'Unknown': 12, 'Belgian Ale': 11, 'Blonde': 11, 'India Pale Ale': 9, 'Pilsner': 9, 'Top-fermented': 9, 'Golden Blonde': 7, 'Quadrupel': 7, '(Label Beer)': 6, 'Red Brown Ale': 6, 'Table Beer': 6, 'Cherry Lambic': 5, 'Label Beer': 5, 'Top Fermentation': 5, 'Pale Ale': 4, 'Trappist': 4, 'Belgian Strong Ale': 3, 'Double': 3, 'Fruit Beer': 3, 'Gueuze': 3, 'IPA': 3, 'Lager': 3, 'Special Ale': 3, 'Amber': 2, 'Bock': 2, 'Christmas beer': 2, 'Fruity': 2, 'Organic in English.': 2, 'Porter': 2, 'Red-Brown Ale': 2, 'Amber-brown  \\nNormalized: Amber Ale': 1, 'Barleywine': 1, 'Beer of Saint-Louis': 1, 'Blonde IPA': 1, 'Brown-Red Ale': 1, 'Buckwheat Beer': 1, 'Chocolate Beer': 1, 'Dubbel': 1, 'Fermentation haute': 1, 'Golden Blonde Ale': 1, 'High Fermentation': 1, 'Honey beer': 1, 'Lambic': 1, 'Low fermentation': 1, 'Organic Ale': 1, 'Red Ale': 1, 'Red Brown': 1, 'Red-Brown': 1, 'Saison': 1, 'Special': 1, 'Specialty': 1, 'Specialty Beer': 1, 'Strong Blonde Ale': 1, 'Top Fermentation in English.': 1, 'Top-Fermenting': 1, 'Triple': 1, 'White in English.': 1, 'ale': 1})\n"
     ]
    }
   ],
   "source": [
    "from collections import Counter\n",
    "\n",
    "query = \"\"\"\n",
    "    PREFIX ex: <http://example.org/>\n",
    "    PREFIX schema: <http://schema.org/>\n",
    "    SELECT ?provinceName ?beerType\n",
    "    WHERE {\n",
    "        ?beer a schema:BreweryProduct ;\n",
    "              ex:beerType ?beerType ;\n",
    "              ex:brewedBy ?brewery .\n",
    "        ?brewery ex:locatedInMunicipality ?municipality .\n",
    "        ?municipality ex:isContainedInProvince ?province .\n",
    "        ?province schema:name ?provinceName .\n",
    "    }\n",
    "    ORDER BY ?provinceName ?beerType\n",
    "\"\"\"\n",
    "\n",
    "results = g.query(query)\n",
    "\n",
    "province_beer_types = {}\n",
    "for row in results:\n",
    "    province = str(row.provinceName)\n",
    "    beer_type = str(row.beerType)\n",
    "    if province not in province_beer_types:\n",
    "        province_beer_types[province] = []\n",
    "    province_beer_types[province].append(beer_type)\n",
    "\n",
    "province_type_counts = {}\n",
    "for province, beer_types in province_beer_types.items():\n",
    "    province_type_counts[province] = Counter(beer_types)\n",
    "\n",
    "print(\"type of beer per province:\")\n",
    "for province, type_counts in province_type_counts.items():\n",
    "    print(f\"{province}: {type_counts}\")"
   ]
  },
  {
   "cell_type": "code",
   "execution_count": 84,
   "metadata": {},
   "outputs": [
    {
     "name": "stdout",
     "output_type": "stream",
     "text": [
      "Subject: http://example.org/3_Schténg, Object: Top Fermentation\n"
     ]
    }
   ],
   "source": [
    "for s, p, o in g.triples((None, EX.beerType, None)):\n",
    "    print(f\"Subject: {s}, Object: {o}\")\n",
    "    break #only print one."
   ]
  },
  {
   "cell_type": "code",
   "execution_count": 74,
   "metadata": {},
   "outputs": [
    {
     "name": "stdout",
     "output_type": "stream",
     "text": [
      "Top 5 Breweries with Highest Average Beer Rating:\n",
      "Brasserie De Dolle Brouwers: Average Rating = 3.111111111111111\n",
      "Brasserie de Jandrain-Jandrenouille: Average Rating = 3.0\n",
      "Huisbrouwerij 't Pakhuis: Average Rating = 3.0\n",
      "Huisbrouwerij t Pakhuis: Average Rating = 3.0\n",
      "Brasserie de Battignies: Average Rating = 3.0\n"
     ]
    }
   ],
   "source": [
    "query = \"\"\"\n",
    "    PREFIX ex: <http://example.org/>\n",
    "    PREFIX schema: <http://schema.org/>\n",
    "    SELECT ?breweryName (AVG(?beerRating) AS ?avgRating)\n",
    "    WHERE {\n",
    "        ?beer a schema:BreweryProduct ;\n",
    "               ex:brewedBy ?brewery ;\n",
    "               ex:beerRating ?beerRating .\n",
    "        ?brewery schema:name ?breweryName .\n",
    "    }\n",
    "    GROUP BY ?breweryName\n",
    "    ORDER BY DESC(?avgRating)\n",
    "    LIMIT 5\n",
    "\"\"\"\n",
    "\n",
    "# Execute the query\n",
    "results = g.query(query)\n",
    "\n",
    "# Print the results\n",
    "print(\"Top 5 Breweries with Highest Average Beer Rating:\")\n",
    "for row in results:\n",
    "    print(f\"{row.breweryName}: Average Rating = {row.avgRating}\")"
   ]
  },
  {
   "cell_type": "markdown",
   "metadata": {},
   "source": [
    "# this section is to get metrics about the graph "
   ]
  },
  {
   "cell_type": "code",
   "execution_count": 93,
   "metadata": {},
   "outputs": [
    {
     "name": "stdout",
     "output_type": "stream",
     "text": [
      "triples: 21880\n",
      "nodes: 8959\n",
      "avg degree: 4.884473713584105\n",
      "sparsity: 0.9997273680668908\n"
     ]
    }
   ],
   "source": [
    "num_triples = len(g) # this is just the number of triples in the graph\n",
    "\n",
    "unique_nodes = set() # using set to get unique nodes\n",
    "for s, p, o in g:\n",
    "    unique_nodes.add(s)\n",
    "    unique_nodes.add(o)\n",
    "num_unique_nodes = len(unique_nodes)\n",
    "\n",
    "degree_count = {} # here we compute the degree of each node\n",
    "for s, p, o in g:\n",
    "    degree_count[s] = degree_count.get(s, 0) + 1\n",
    "    degree_count[o] = degree_count.get(o, 0) + 1\n",
    "avg_degree = sum(degree_count.values()) / len(degree_count) # average it out\n",
    "\n",
    "max_possible_edges = num_unique_nodes * (num_unique_nodes - 1) # here sparsity\n",
    "sparsity = 1 - (num_triples / max_possible_edges) if max_possible_edges > 0 else 0\n",
    "\n",
    "print(f\"triples: {num_triples}\")\n",
    "print(f\"nodes: {num_unique_nodes}\")\n",
    "print(f\"avg degree: {avg_degree}\")\n",
    "print(f\"sparsity: {sparsity}\")"
   ]
  },
  {
   "cell_type": "code",
   "execution_count": 99,
   "metadata": {},
   "outputs": [
    {
     "name": "stdout",
     "output_type": "stream",
     "text": [
      "15\n",
      "629\n",
      "561\n",
      "1\n",
      "1\n",
      "1684\n",
      "1493\n"
     ]
    }
   ],
   "source": [
    "# idk why i didn't just print, works anyways \n",
    "\n",
    "missing = (df['Alcohol Content'] == 0).sum()\n",
    "print(missing)\n",
    "missing = (df['Rating'] == 0).sum()\n",
    "print(missing)\n",
    "missing = (df['Check-ins'] == 0).sum()\n",
    "print(missing)\n",
    "missing = (df['Latitude'] == 0).sum()\n",
    "print(missing)\n",
    "missing = (df['Longitude'] == 0).sum()\n",
    "print(missing)\n",
    "\n",
    "missing = (df['Parent'] == \"Unknown\").sum()\n",
    "print(missing)\n",
    "missing = (df['Description'] == \"Unknown\").sum()\n",
    "print(missing)\n",
    "missing = (df['Type'] == \"Unknown\").sum()"
   ]
  }
 ],
 "metadata": {
  "kernelspec": {
   "display_name": "scraping",
   "language": "python",
   "name": "python3"
  },
  "language_info": {
   "codemirror_mode": {
    "name": "ipython",
    "version": 3
   },
   "file_extension": ".py",
   "mimetype": "text/x-python",
   "name": "python",
   "nbconvert_exporter": "python",
   "pygments_lexer": "ipython3",
   "version": "3.13.2"
  }
 },
 "nbformat": 4,
 "nbformat_minor": 2
}
