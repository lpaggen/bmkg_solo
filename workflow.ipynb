{
 "cells": [
  {
   "cell_type": "code",
   "execution_count": 42,
   "metadata": {},
   "outputs": [],
   "source": [
    "from bs4 import BeautifulSoup\n",
    "import requests\n",
    "import re\n",
    "import pandas as pd \n",
    "from fuzzywuzzy import fuzz"
   ]
  },
  {
   "cell_type": "markdown",
   "metadata": {},
   "source": [
    "# this gets the tables from the list of all Belgian beers, and does some cleaning "
   ]
  },
  {
   "cell_type": "code",
   "execution_count": 43,
   "metadata": {},
   "outputs": [],
   "source": [
    "url = \"https://fr.wikipedia.org/wiki/Liste_de_bi%C3%A8res_belges\"\n",
    "\n",
    "response = requests.get(url)\n",
    "soup = BeautifulSoup(response.text, \"html.parser\")\n",
    "\n",
    "tables = soup.find_all(\"table\", {\"class\": \"wikitable\"})\n",
    "\n",
    "def remove_wikipedia_ref(text):\n",
    "\treturn re.sub(r\"\\[\\d+\\]\", \"\", text)\n",
    "\n",
    "def remove_language_tags(text):\n",
    "\treturn re.sub(r\"\\s*\\((nl|en)\\)\", \"\", text)\n",
    "\n",
    "def remove_trailing_commas(text):\n",
    "\tcount_trailing = re.search(r\",+$\", text)\n",
    "\tif count_trailing:\n",
    "\t\treturn text[:-len(count_trailing.group())]\n",
    "\treturn text\n",
    "\n",
    "def remove_pour_and_following_text(text): # need to adjust to remove the parenthesis\n",
    "\tif \"pour\" in text:\n",
    "\t\treturn text.split(\"pour\")[0][:-1]\n",
    "\treturn text\n",
    "\n",
    "dataframes = []\n",
    "for i, table in enumerate(tables):\n",
    "    headers = [header.text.strip() for header in table.find_all(\"th\")]\n",
    "    rows = []\n",
    "    for row in table.find_all(\"tr\")[1:]:  # Skip header row\n",
    "        cols = row.find_all([\"td\", \"th\"])\n",
    "        cols = [col.text.strip() for col in cols]\n",
    "        cols = [remove_wikipedia_ref(col) for col in cols]\n",
    "        cols = [remove_trailing_commas(col) for col in cols]\n",
    "        cols = [remove_language_tags(col) for col in cols]\n",
    "        cols = [remove_pour_and_following_text(col) for col in cols]\n",
    "        if cols:\n",
    "            rows.append(cols)\n",
    "    df = pd.DataFrame(rows, columns=headers)\n",
    "    dataframes.append(df)\n",
    "\t\n",
    "beers = pd.concat(dataframes, ignore_index=True)"
   ]
  },
  {
   "cell_type": "code",
   "execution_count": 44,
   "metadata": {},
   "outputs": [
    {
     "data": {
      "application/vnd.microsoft.datawrangler.viewer.v0+json": {
       "columns": [
        {
         "name": "index",
         "rawType": "int64",
         "type": "integer"
        },
        {
         "name": "Bières",
         "rawType": "object",
         "type": "string"
        },
        {
         "name": "Type",
         "rawType": "object",
         "type": "string"
        },
        {
         "name": "Teneur en alcool",
         "rawType": "object",
         "type": "string"
        },
        {
         "name": "Brasserie",
         "rawType": "object",
         "type": "string"
        }
       ],
       "conversionMethod": "pd.DataFrame",
       "ref": "2f5d2501-dbc0-4307-8c40-0950c0016995",
       "rows": [
        [
         "0",
         "3 Schténg",
         "Fermentation haute, Vieille Brune Flamande",
         "6 %",
         "Brasserie Grain d'Orge , 4852 Hombourg, Liège ,,, Pour le restaurant of the DrieLaenderpunkt Aussichtsturm (Tour Baudeoin)"
        ],
        [
         "1",
         "IV Saison",
         "Saison blonde",
         "6,5 %",
         "Brasserie de Jandrain-Jandrenouille"
        ],
        [
         "2",
         "V Cense",
         "Fermentation haute, Spéciale",
         "7,5 %",
         "Brasserie de Jandrain-Jandrenouille"
        ],
        [
         "3",
         "VI Wheat",
         "Fermentation haute, Blanche",
         "6 %",
         "Brasserie de Jandrain-Jandrenouille"
        ],
        [
         "4",
         "7-PK",
         "Fermentation haute blonde",
         "7 %",
         "Brouwerij Anders!"
        ],
        [
         "5",
         "26.2 M",
         "Fermentation haute Blonde",
         "6 %",
         "Brasserie L'Échappée Belle"
        ],
        [
         "6",
         "28 Triple",
         "Blonde,Triple",
         "9 %",
         "Brasserie De Proefbrouwerij"
        ],
        [
         "7",
         "La 44 Blanche",
         "Fermentation haute, Blanche",
         "5,5 %",
         "Brasserie de La Gleize"
        ],
        [
         "8",
         "La 44 Blonde",
         "Blonde",
         "5,5 %",
         "Brasserie de La Gleize"
        ],
        [
         "9",
         "La 44 Brune",
         "Fermentation haute Brune",
         "5,5 %",
         "Brasserie de la Gleize"
        ],
        [
         "10",
         "La 44 Brune Cuvée Spéciale",
         "Fermentation haute Brune",
         "6,5 %",
         "Brasserie de la Gleize"
        ],
        [
         "11",
         "La 44 Christmas",
         "Fermentation haute christmas",
         "6,0 %",
         "Brasserie de la Gleize"
        ],
        [
         "12",
         "La 44 Nuts Ambrée",
         "Fermentation haute Spéciale belge",
         "6,0 %",
         "Brasserie de la Gleize"
        ],
        [
         "13",
         "La 44 Tiger Triple",
         "Fermentation haute Blonde",
         "8,0 %",
         "Brasserie de la Gleize"
        ],
        [
         "14",
         "365 Pils Bière",
         "Blonde",
         "4,7 %",
         "Brasserie Haacht"
        ],
        [
         "15",
         "400-Quadrigenti",
         "Fermentation haute blonde",
         "5,6 %",
         "'t Hofbrouwerijke"
        ],
        [
         "16",
         "421 Millevertus",
         "Spéciale",
         "4,2 %",
         "Brasserie Millevertus"
        ],
        [
         "17",
         "1414 Ambrosius",
         "Spéciale refermentée en bouteille",
         "5 %",
         "Brouwerij Anders!"
        ],
        [
         "18",
         "La 1815",
         "Ambrée",
         "7 %",
         "Brasserie des Fagnes Bière brassée"
        ],
        [
         "19",
         "1842 by Caulier",
         "Fermentation haute blonde, refermentation en bouteille",
         "9 %",
         "Brasserie De Proefbrouwerij"
        ],
        [
         "20",
         "2290 Vorselaar",
         "Fermentation haute blonde refermentée en bouteille",
         "6 %",
         "Brouwerij Anders! brewed for Vzw Vorselazerus, Dorpsbier Vorselaar"
        ],
        [
         "21",
         "Aardmonnik",
         "Vieille brune",
         "8 %",
         "De Struise Brouwers"
        ],
        [
         "22",
         "Aarschotse Bruine",
         "Brune",
         "6 %",
         "Stadsbrouwerij Aarschot"
        ],
        [
         "23",
         "Abbaye d'Aulne Blonde des Pères 6",
         "Abbaye, Blonde",
         "6 %",
         "Brasserie du Val de Sambre"
        ],
        [
         "24",
         "Abbaye d'Aulne Brune des Pères 6",
         "Abbaye, Brune",
         "6 %",
         "Brasserie du Val de Sambre"
        ],
        [
         "25",
         "Abbaye d'Aulne Premier Cru",
         "Abbaye, Blonde",
         "9 %",
         "Brasserie du Val de Sambre"
        ],
        [
         "26",
         "Abbaye d'Aulne Super Noël 9",
         "Abbaye, Bière de Noël",
         "9 %",
         "Brasserie du Val de Sambre"
        ],
        [
         "27",
         "Abbaye d'Aulne Triple Blonde",
         "Abbaye, Triple",
         "8 %",
         "Brasserie du Val de Sambre"
        ],
        [
         "28",
         "Abbaye d'Aulne Triple Brune",
         "Abbaye, Triple",
         "8 %",
         "Brasserie du Val de Sambre"
        ],
        [
         "29",
         "Abbaye de Boneffe",
         "Abbaye, Brune",
         "9 %",
         "Brasserie de Tubize"
        ],
        [
         "30",
         "Abbaye de Bonne-Espérance",
         "Abbaye",
         "7,8 %",
         "Brasserie La Binchoise"
        ],
        [
         "31",
         "Abbaye de Bonne-Espérance Grand Cru",
         "Abbaye",
         "8 %",
         "Brouwerij Het Anker "
        ],
        [
         "32",
         "Abbaye d'Aulne Val de Sambre",
         "Abbaye, Ambrée",
         "6,4 %",
         "Brasserie du Val de Sambre"
        ],
        [
         "33",
         "Abbaye de Forest",
         "Abbaye, Triple",
         "6,5 %",
         "Brasserie de Silly"
        ],
        [
         "34",
         "Abbaye de Gembloux",
         "Triple",
         "8,5 %",
         "Brasserie Lefebvre"
        ],
        [
         "35",
         "Abbaye de la Thure",
         "Abbaye",
         "10 %",
         "Brasserie Brootcoorens"
        ],
        [
         "36",
         "Abbaye de Saint-Martin Blonde",
         "Abbaye",
         "7 %",
         "Brasserie de Brunehaut"
        ],
        [
         "37",
         "Abbaye de Saint-Martin Brune",
         "Abbaye",
         "8 %",
         "Brasserie de Brunehaut"
        ],
        [
         "38",
         "Abbaye de Saint-Martin Cuvée de Noël",
         "Abbaye, Bière de Noël",
         "8,5 %",
         "Brasserie de Brunehaut"
        ],
        [
         "39",
         "Abbaye de Saint-Martin Triple",
         "Abbaye, Triple",
         "9 %",
         "Brasserie de Brunehaut"
        ],
        [
         "40",
         "Abbaye de Oudkerken",
         "Abbaye",
         "6,2 %",
         "Brasserie Lefebvre"
        ],
        [
         "41",
         "Abbaye des Rocs Blonde",
         "Abbaye, Fermentation haute",
         "7,5 %",
         "Brasserie de l'Abbaye des Rocs"
        ],
        [
         "42",
         "Abbaye des Rocs Brune",
         "Abbaye, Brune",
         "9 %",
         "Brasserie de l'Abbaye des Rocs"
        ],
        [
         "43",
         "Abbaye des Rocs Grand Cru",
         "Abbaye, Ale",
         "9,5 %",
         "Brasserie de l'Abbaye des Rocs"
        ],
        [
         "44",
         "Abbaye des Rocs Spéciale Noël",
         "Abbaye, Bière de Noël",
         "9 %",
         "Brasserie de l'Abbaye des Rocs"
        ],
        [
         "45",
         "Abbaye du Park Blonde",
         "Abbaye, Blonde",
         "6 %",
         "Brasserie Haacht"
        ],
        [
         "46",
         "Abbaye du Park Brune",
         "Abbaye, Brune",
         "6 %",
         "Brasserie Haacht"
        ],
        [
         "47",
         "Abdis Blond",
         "Blonde",
         "6,5 %",
         "Brasserie Riva"
        ],
        [
         "48",
         "Abdis Bruin",
         "Brune",
         "6,5 %",
         "Brasserie Riva"
        ],
        [
         "49",
         "Abdis Tripel",
         "Triple",
         "8,2 %",
         "Brasserie Riva"
        ]
       ],
       "shape": {
        "columns": 4,
        "rows": 1860
       }
      },
      "text/html": [
       "<div>\n",
       "<style scoped>\n",
       "    .dataframe tbody tr th:only-of-type {\n",
       "        vertical-align: middle;\n",
       "    }\n",
       "\n",
       "    .dataframe tbody tr th {\n",
       "        vertical-align: top;\n",
       "    }\n",
       "\n",
       "    .dataframe thead th {\n",
       "        text-align: right;\n",
       "    }\n",
       "</style>\n",
       "<table border=\"1\" class=\"dataframe\">\n",
       "  <thead>\n",
       "    <tr style=\"text-align: right;\">\n",
       "      <th></th>\n",
       "      <th>Bières</th>\n",
       "      <th>Type</th>\n",
       "      <th>Teneur en alcool</th>\n",
       "      <th>Brasserie</th>\n",
       "    </tr>\n",
       "  </thead>\n",
       "  <tbody>\n",
       "    <tr>\n",
       "      <th>0</th>\n",
       "      <td>3 Schténg</td>\n",
       "      <td>Fermentation haute, Vieille Brune Flamande</td>\n",
       "      <td>6 %</td>\n",
       "      <td>Brasserie Grain d'Orge , 4852 Hombourg, Liège ...</td>\n",
       "    </tr>\n",
       "    <tr>\n",
       "      <th>1</th>\n",
       "      <td>IV Saison</td>\n",
       "      <td>Saison blonde</td>\n",
       "      <td>6,5 %</td>\n",
       "      <td>Brasserie de Jandrain-Jandrenouille</td>\n",
       "    </tr>\n",
       "    <tr>\n",
       "      <th>2</th>\n",
       "      <td>V Cense</td>\n",
       "      <td>Fermentation haute, Spéciale</td>\n",
       "      <td>7,5 %</td>\n",
       "      <td>Brasserie de Jandrain-Jandrenouille</td>\n",
       "    </tr>\n",
       "    <tr>\n",
       "      <th>3</th>\n",
       "      <td>VI Wheat</td>\n",
       "      <td>Fermentation haute, Blanche</td>\n",
       "      <td>6 %</td>\n",
       "      <td>Brasserie de Jandrain-Jandrenouille</td>\n",
       "    </tr>\n",
       "    <tr>\n",
       "      <th>4</th>\n",
       "      <td>7-PK</td>\n",
       "      <td>Fermentation haute blonde</td>\n",
       "      <td>7 %</td>\n",
       "      <td>Brouwerij Anders!</td>\n",
       "    </tr>\n",
       "    <tr>\n",
       "      <th>...</th>\n",
       "      <td>...</td>\n",
       "      <td>...</td>\n",
       "      <td>...</td>\n",
       "      <td>...</td>\n",
       "    </tr>\n",
       "    <tr>\n",
       "      <th>1855</th>\n",
       "      <td>Zulte</td>\n",
       "      <td>Fermentation haute, Brune</td>\n",
       "      <td>4,7 %</td>\n",
       "      <td>Alken-Maes (Heineken)</td>\n",
       "    </tr>\n",
       "    <tr>\n",
       "      <th>1856</th>\n",
       "      <td>Zwalmse Tripel</td>\n",
       "      <td>Triple</td>\n",
       "      <td>8 %</td>\n",
       "      <td>De Proefbrouwerij</td>\n",
       "    </tr>\n",
       "    <tr>\n",
       "      <th>1857</th>\n",
       "      <td>Zwarte Pol</td>\n",
       "      <td>Stout</td>\n",
       "      <td>6,5 %</td>\n",
       "      <td>Brasserie Inter-Pol</td>\n",
       "    </tr>\n",
       "    <tr>\n",
       "      <th>1858</th>\n",
       "      <td>Zwet.be</td>\n",
       "      <td>Stout</td>\n",
       "      <td>7 %</td>\n",
       "      <td>De Proefbrouwerij</td>\n",
       "    </tr>\n",
       "    <tr>\n",
       "      <th>1859</th>\n",
       "      <td>Zwijntje</td>\n",
       "      <td>Blonde (Bière-étiquette)</td>\n",
       "      <td>8 %</td>\n",
       "      <td>Brasserie Bios</td>\n",
       "    </tr>\n",
       "  </tbody>\n",
       "</table>\n",
       "<p>1860 rows × 4 columns</p>\n",
       "</div>"
      ],
      "text/plain": [
       "              Bières                                        Type  \\\n",
       "0          3 Schténg  Fermentation haute, Vieille Brune Flamande   \n",
       "1          IV Saison                               Saison blonde   \n",
       "2            V Cense                Fermentation haute, Spéciale   \n",
       "3           VI Wheat                 Fermentation haute, Blanche   \n",
       "4               7-PK                   Fermentation haute blonde   \n",
       "...              ...                                         ...   \n",
       "1855           Zulte                   Fermentation haute, Brune   \n",
       "1856  Zwalmse Tripel                                      Triple   \n",
       "1857      Zwarte Pol                                       Stout   \n",
       "1858         Zwet.be                                       Stout   \n",
       "1859        Zwijntje                    Blonde (Bière-étiquette)   \n",
       "\n",
       "     Teneur en alcool                                          Brasserie  \n",
       "0                 6 %  Brasserie Grain d'Orge , 4852 Hombourg, Liège ...  \n",
       "1               6,5 %                Brasserie de Jandrain-Jandrenouille  \n",
       "2               7,5 %                Brasserie de Jandrain-Jandrenouille  \n",
       "3                 6 %                Brasserie de Jandrain-Jandrenouille  \n",
       "4                 7 %                                  Brouwerij Anders!  \n",
       "...               ...                                                ...  \n",
       "1855            4,7 %                              Alken-Maes (Heineken)  \n",
       "1856              8 %                                  De Proefbrouwerij  \n",
       "1857            6,5 %                                Brasserie Inter-Pol  \n",
       "1858              7 %                                  De Proefbrouwerij  \n",
       "1859              8 %                                     Brasserie Bios  \n",
       "\n",
       "[1860 rows x 4 columns]"
      ]
     },
     "execution_count": 44,
     "metadata": {},
     "output_type": "execute_result"
    }
   ],
   "source": [
    "beers"
   ]
  },
  {
   "cell_type": "markdown",
   "metadata": {},
   "source": [
    "# this gets the data from list of Belgian breweries, as well as some additional beer"
   ]
  },
  {
   "cell_type": "code",
   "execution_count": 45,
   "metadata": {},
   "outputs": [],
   "source": [
    "url = \"https://fr.wikipedia.org/wiki/Liste_de_brasseries_belges\"\n",
    "\n",
    "reponse = requests.get(url)\n",
    "soup = BeautifulSoup(reponse.text, \"html.parser\")\n",
    "\n",
    "tables = soup.find_all(\"table\", {\"class\": \"wikitable\"})\n",
    "\n",
    "dataframes_breweries = []\n",
    "for i, table in enumerate(tables):\n",
    "    headers = [header.text.strip() for header in table.find_all(\"th\")]\n",
    "    rows = []\n",
    "    for row in table.find_all(\"tr\")[1:]:\n",
    "        cols = row.find_all([\"td\", \"th\"])\n",
    "        cols = [col.text.strip() for col in cols]\n",
    "        cols = [remove_wikipedia_ref(col) for col in cols]\n",
    "        cols = [remove_trailing_commas(col) for col in cols]\n",
    "        cols = [remove_language_tags(col) for col in cols]\n",
    "        cols = cols[:6]\n",
    "        if cols:\n",
    "            rows.append(cols)\n",
    "    df = pd.DataFrame(rows, columns=headers)\n",
    "    dataframes_breweries.append(df.iloc[:, :4])\n",
    "    \n",
    "breweries = pd.concat(dataframes_breweries, ignore_index=True)\n",
    "\n",
    "# this block just removes some useless columns and rows\n",
    "breweries = breweries.iloc[:250, :4]"
   ]
  },
  {
   "cell_type": "code",
   "execution_count": 49,
   "metadata": {},
   "outputs": [
    {
     "data": {
      "application/vnd.microsoft.datawrangler.viewer.v0+json": {
       "columns": [
        {
         "name": "index",
         "rawType": "int64",
         "type": "integer"
        },
        {
         "name": "Brasserie",
         "rawType": "object",
         "type": "string"
        },
        {
         "name": "Commune",
         "rawType": "object",
         "type": "string"
        },
        {
         "name": "Province",
         "rawType": "object",
         "type": "string"
        },
        {
         "name": "Principales bières",
         "rawType": "object",
         "type": "string"
        }
       ],
       "conversionMethod": "pd.DataFrame",
       "ref": "54be705b-e04a-4452-bad1-4c1c2e04f94b",
       "rows": [
        [
         "0",
         "Brasserie de l'abbaye de Saint-Ghislain",
         "Saint-Ghislain",
         "Hainaut",
         "Abbaye de Saint-Ghislain"
        ],
        [
         "1",
         "Brasserie de l'abbaye de Saint-Sixte",
         "Vleteren",
         "Flandre-Occidentale",
         "Westvleteren"
        ],
        [
         "2",
         "Brasserie de l'abbaye des Rocs",
         "Honnelles",
         "Hainaut",
         "Abbaye des Rocs"
        ],
        [
         "3",
         "Brasserie de l'abbaye du Val-Dieu",
         "Aubel",
         "Liège",
         "Val-Dieu"
        ],
        [
         "4",
         "Brasserie de l'abbaye de Villers-la-Ville",
         "Villers-la-Ville",
         "Brabant wallon",
         "Abbaye de Villers"
        ],
        [
         "5",
         "Abbaye Notre-Dame d'Orval",
         "Florenville",
         "Luxembourg",
         "Orval"
        ],
        [
         "6",
         "Brasserie de l'abbaye Notre-Dame de Saint-Benoît",
         "Hamont-Achel",
         "Limbourg",
         "Achel"
        ],
        [
         "7",
         "Brasserie de l'abbaye Notre-Dame de Saint-Rémy",
         "Rochefort",
         "Namur",
         "Rochefort"
        ],
        [
         "8",
         "Brasserie de l'abbaye Notre-Dame de Scourmont",
         "Chimay",
         "Hainaut",
         "Chimay"
        ],
        [
         "9",
         "Brasserie de l'abbaye Notre-Dame du Sacré-Cœur de Westmalle",
         "Malle",
         "Anvers",
         "Westmalle"
        ],
        [
         "10",
         "Microbrasserie de l'abbaye Saint-Gérard de Brogne",
         "Mettet",
         "Namur",
         "Brogne"
        ],
        [
         "11",
         "Brasserie d'Achouffe (fait partie de Duvel Moortgat)",
         "Houffalize",
         "Luxembourg",
         "Chouffe, McChouffe"
        ],
        [
         "12",
         "Brasserie Affligem (fait partie d'Alken-Maes<Heineken)",
         "Opwijk",
         "Brabant flamand",
         "Affligem, Postel, Ope-Ale, Florival"
        ],
        [
         "13",
         "Brasserie Alken (fait partie d'Alken-Maes<Heineken)",
         "Alken",
         "Limbourg",
         "Cristal Alken, Maes, Ciney, Grimbergen, Judas"
        ],
        [
         "14",
         "Brasserie Alvinne",
         "Zwevegem",
         "Flandre-Occidentale",
         "Alvinne"
        ],
        [
         "15",
         "Brasserie Amburon",
         "Tongres",
         "Limbourg",
         "Tungri"
        ],
        [
         "16",
         "Brasserie Anders!",
         "Halen",
         "Limbourg",
         "bières à façon"
        ],
        [
         "17",
         "Brasserie Angerik",
         "Dilbeek",
         "Brabant flamand",
         "Dilleke"
        ],
        [
         "18",
         "Microbrasserie des Ardennes",
         "Lierneux",
         "Liège",
         ""
        ],
        [
         "19",
         "Brasserie d'Arlon Coopérative",
         "Arlon",
         "Luxembourg",
         "ARAmiss, ARAporter, ARAluna, ARAfinée"
        ],
        [
         "20",
         "L'Art d'en Brasser",
         "Soignies",
         "Hainaut",
         "La Fougueuse, La Belle de Saison, L'Audacieux"
        ],
        [
         "21",
         "Brasserie Artois (fait partie d'AB InBev)",
         "Louvain",
         "Brabant flamand",
         "Stella Artois, Leffe, Vieux-Temps, Scotch CTS, Horse-Ale"
        ],
        [
         "22",
         "Brasserie Atrium",
         "Marche-en-Famenne",
         "Luxembourg",
         "Pam, Onyx"
        ],
        [
         "23",
         "Brasserie de l'Attrait",
         "Bertogne",
         "Luxembourg",
         "Attrait"
        ],
        [
         "24",
         "Brasserie AREVER",
         "Evere",
         "Bruxelles",
         "Chicon Malté, Une Noix d'Avance, Mousse d'Asperge"
        ],
        [
         "25",
         "Brasserie Augrenoise",
         "Soignies",
         "Hainaut",
         "Augrenoise"
        ],
        [
         "26",
         "Authentique Brasserie",
         "Bernissart",
         "Hainaut",
         "Authentique, Pils des Trois Canaux"
        ],
        [
         "27",
         "Brasserie La Barbiot",
         "Le Rœulx",
         "Hainaut",
         "Barbiot"
        ],
        [
         "28",
         "Brasserie de Battignies",
         "Binche",
         "Hainaut",
         "Fromenthine"
        ],
        [
         "29",
         "Beerstorming",
         "Saint-Gilles",
         "Bruxelles",
         "BS#28, BS#105, BS#122 BS#174"
        ],
        [
         "30",
         "Brasserie Belge",
         "Herstal",
         "Liège",
         "Belgicus"
        ],
        [
         "31",
         "Brasserie Belgoo",
         "Leeuw-Saint-Pierre",
         "Brabant flamand",
         "Belgoo"
        ],
        [
         "32",
         "Belgo Sapiens Brewery",
         "Nivelles",
         "Brabant wallon",
         "Blanche de Thines"
        ],
        [
         "33",
         "Brasserie de Bellevaux",
         "Malmedy",
         "Liège",
         "Bellevaux"
        ],
        [
         "34",
         "Brasserie Belle-Vue (fait partie de AB InBev)",
         "Leeuw-Saint-Pierre",
         "Brabant flamand",
         "Belle-Vue"
        ],
        [
         "35",
         "Brasserie de Bertinchamps",
         "Gembloux",
         "Namur",
         "Bertinchamps"
        ],
        [
         "36",
         "Brasserie La Binchoise",
         "Binche",
         "Hainaut",
         "Binchoise, Abbaye de Bonne Espérance"
        ],
        [
         "37",
         "Brasserie de Blaugies",
         "Dour",
         "Hainaut",
         "Darbyste, La Moneuse, Saison d'Épeautre"
        ],
        [
         "38",
         "Brasserie Bobbi",
         "Haut-Ittre",
         "Brabant Wallon",
         "Triple Saint-Géry"
        ],
        [
         "39",
         "Brasserie du Bocq",
         "Yvoir",
         "Namur",
         "Gauloise, Blanche de Namur, Triple Moine, Saison 1858"
        ],
        [
         "40",
         "Brasserie Boelens",
         "Saint-Nicolas",
         "Flandre-Orientale",
         "Waase Wolf, Klok"
        ],
        [
         "41",
         "Brasserie Boon",
         "Hal",
         "Brabant flamand",
         "Boon"
        ],
        [
         "42",
         "Brasserie Bosteels (fait partie de AB InBev)",
         "Buggenhout",
         "Flandre-Orientale",
         "Deus, Kwak, Tripel Karmeliet"
        ],
        [
         "43",
         "Brasserie La Botteresse",
         "Saint-Georges-sur-Meuse",
         "Liège",
         "La Botteresse, Sur-les-Bois"
        ],
        [
         "44",
         "Brasserie de Bouillon",
         "Bouillon",
         "Luxembourg",
         "La Médiévale, Cuvée de Bouillon"
        ],
        [
         "45",
         "Brasserie Bourgogne des Flandres (fait partie de John Martin SA)",
         "Bruges",
         "Flandre-Occidentale",
         "Bourgogne des Flandres"
        ],
        [
         "46",
         "Brasserie du Brabant",
         "Genappe",
         "Brabant wallon",
         "La Brabançonne"
        ],
        [
         "47",
         "Brasserie Brasse-Temps (Louvain-La-Neuve)",
         "Louvain-La-Neuve",
         "Brabant wallon",
         "Brasse-Temps"
        ],
        [
         "48",
         "Brasserie Brasse-Temps (Mons)",
         "Mons",
         "Hainaut",
         "Brasse-Temps"
        ],
        [
         "49",
         "Brasserie Brootcoorens",
         "Erquelinnes",
         "Hainaut",
         "Angélus"
        ]
       ],
       "shape": {
        "columns": 4,
        "rows": 250
       }
      },
      "text/html": [
       "<div>\n",
       "<style scoped>\n",
       "    .dataframe tbody tr th:only-of-type {\n",
       "        vertical-align: middle;\n",
       "    }\n",
       "\n",
       "    .dataframe tbody tr th {\n",
       "        vertical-align: top;\n",
       "    }\n",
       "\n",
       "    .dataframe thead th {\n",
       "        text-align: right;\n",
       "    }\n",
       "</style>\n",
       "<table border=\"1\" class=\"dataframe\">\n",
       "  <thead>\n",
       "    <tr style=\"text-align: right;\">\n",
       "      <th></th>\n",
       "      <th>Brasserie</th>\n",
       "      <th>Commune</th>\n",
       "      <th>Province</th>\n",
       "      <th>Principales bières</th>\n",
       "    </tr>\n",
       "  </thead>\n",
       "  <tbody>\n",
       "    <tr>\n",
       "      <th>0</th>\n",
       "      <td>Brasserie de l'abbaye de Saint-Ghislain</td>\n",
       "      <td>Saint-Ghislain</td>\n",
       "      <td>Hainaut</td>\n",
       "      <td>Abbaye de Saint-Ghislain</td>\n",
       "    </tr>\n",
       "    <tr>\n",
       "      <th>1</th>\n",
       "      <td>Brasserie de l'abbaye de Saint-Sixte</td>\n",
       "      <td>Vleteren</td>\n",
       "      <td>Flandre-Occidentale</td>\n",
       "      <td>Westvleteren</td>\n",
       "    </tr>\n",
       "    <tr>\n",
       "      <th>2</th>\n",
       "      <td>Brasserie de l'abbaye des Rocs</td>\n",
       "      <td>Honnelles</td>\n",
       "      <td>Hainaut</td>\n",
       "      <td>Abbaye des Rocs</td>\n",
       "    </tr>\n",
       "    <tr>\n",
       "      <th>3</th>\n",
       "      <td>Brasserie de l'abbaye du Val-Dieu</td>\n",
       "      <td>Aubel</td>\n",
       "      <td>Liège</td>\n",
       "      <td>Val-Dieu</td>\n",
       "    </tr>\n",
       "    <tr>\n",
       "      <th>4</th>\n",
       "      <td>Brasserie de l'abbaye de Villers-la-Ville</td>\n",
       "      <td>Villers-la-Ville</td>\n",
       "      <td>Brabant wallon</td>\n",
       "      <td>Abbaye de Villers</td>\n",
       "    </tr>\n",
       "    <tr>\n",
       "      <th>...</th>\n",
       "      <td>...</td>\n",
       "      <td>...</td>\n",
       "      <td>...</td>\n",
       "      <td>...</td>\n",
       "    </tr>\n",
       "    <tr>\n",
       "      <th>245</th>\n",
       "      <td>Brasserie de Warsage</td>\n",
       "      <td>Dalhem</td>\n",
       "      <td>Liège</td>\n",
       "      <td>Warsage</td>\n",
       "    </tr>\n",
       "    <tr>\n",
       "      <th>246</th>\n",
       "      <td>Microbrasserie de Waterloo (fait partie de Joh...</td>\n",
       "      <td>Waterloo</td>\n",
       "      <td>Brabant wallon</td>\n",
       "      <td>Waterloo</td>\n",
       "    </tr>\n",
       "    <tr>\n",
       "      <th>247</th>\n",
       "      <td>Brasserie Weldebrouck</td>\n",
       "      <td>Willebroek</td>\n",
       "      <td>Anvers</td>\n",
       "      <td>Weldebrouck</td>\n",
       "    </tr>\n",
       "    <tr>\n",
       "      <th>248</th>\n",
       "      <td>Brasserie Wilderen</td>\n",
       "      <td>Saint-Trond</td>\n",
       "      <td>Limbourg</td>\n",
       "      <td>Tripel Kanunnik, Wilderen</td>\n",
       "    </tr>\n",
       "    <tr>\n",
       "      <th>249</th>\n",
       "      <td>Witches Brewery</td>\n",
       "      <td>Flobecq</td>\n",
       "      <td>Hainaut</td>\n",
       "      <td>Free Moon</td>\n",
       "    </tr>\n",
       "  </tbody>\n",
       "</table>\n",
       "<p>250 rows × 4 columns</p>\n",
       "</div>"
      ],
      "text/plain": [
       "                                             Brasserie           Commune  \\\n",
       "0              Brasserie de l'abbaye de Saint-Ghislain    Saint-Ghislain   \n",
       "1                 Brasserie de l'abbaye de Saint-Sixte          Vleteren   \n",
       "2                       Brasserie de l'abbaye des Rocs         Honnelles   \n",
       "3                    Brasserie de l'abbaye du Val-Dieu             Aubel   \n",
       "4            Brasserie de l'abbaye de Villers-la-Ville  Villers-la-Ville   \n",
       "..                                                 ...               ...   \n",
       "245                               Brasserie de Warsage            Dalhem   \n",
       "246  Microbrasserie de Waterloo (fait partie de Joh...          Waterloo   \n",
       "247                              Brasserie Weldebrouck        Willebroek   \n",
       "248                                 Brasserie Wilderen       Saint-Trond   \n",
       "249                                    Witches Brewery           Flobecq   \n",
       "\n",
       "                Province         Principales bières  \n",
       "0                Hainaut   Abbaye de Saint-Ghislain  \n",
       "1    Flandre-Occidentale               Westvleteren  \n",
       "2                Hainaut            Abbaye des Rocs  \n",
       "3                  Liège                   Val-Dieu  \n",
       "4         Brabant wallon          Abbaye de Villers  \n",
       "..                   ...                        ...  \n",
       "245                Liège                    Warsage  \n",
       "246       Brabant wallon                   Waterloo  \n",
       "247               Anvers                Weldebrouck  \n",
       "248             Limbourg  Tripel Kanunnik, Wilderen  \n",
       "249              Hainaut                  Free Moon  \n",
       "\n",
       "[250 rows x 4 columns]"
      ]
     },
     "execution_count": 49,
     "metadata": {},
     "output_type": "execute_result"
    }
   ],
   "source": [
    "breweries"
   ]
  },
  {
   "cell_type": "markdown",
   "metadata": {},
   "source": [
    "# we need to align the breweries from both datasets with the format of one of the two\n",
    "for this we will use the transformers -- sentence_transformers\n",
    "or fuzzy thing, idk which one will work best\n",
    "\n",
    "\n"
   ]
  },
  {
   "cell_type": "code",
   "execution_count": null,
   "metadata": {},
   "outputs": [],
   "source": [
    "import pandas as pd\n",
    "from rapidfuzz import process, fuzz\n",
    "\n",
    "def rename_by_similarity(df_source, col_source, df_reference, col_reference, threshold=80):\n",
    "    ref_values = df_reference[col_reference].dropna().unique() # this gets unique brewery names\n",
    "    df_source = df_source.copy()\n",
    "\n",
    "    def get_best_match(value):\n",
    "        if pd.isna(value) or value == \"\":\n",
    "            return value\n",
    "        match, score, _ = process.extractOne(value, ref_values, scorer=fuzz.ratio)\n",
    "        return match if score >= threshold else value # renaming if above threshold\n",
    "\n",
    "    df_source[col_source] = df_source[col_source].apply(get_best_match)\n",
    "    return df_source"
   ]
  },
  {
   "cell_type": "code",
   "execution_count": 56,
   "metadata": {},
   "outputs": [],
   "source": [
    "new = rename_by_similarity(beers, \"Brasserie\", breweries, \"Brasserie\")"
   ]
  },
  {
   "cell_type": "markdown",
   "metadata": {},
   "source": [
    "# here i'm going to add some coordinates using geopy library"
   ]
  },
  {
   "cell_type": "code",
   "execution_count": null,
   "metadata": {},
   "outputs": [
    {
     "name": "stdout",
     "output_type": "stream",
     "text": [
      "Error processing Brasserie de l'abbaye de Saint-Sixte: HTTPSConnectionPool(host='nominatim.openstreetmap.org', port=443): Max retries exceeded with url: /search?q=Brasserie+de+l%27abbaye+de+Saint-Sixte&format=json&limit=1 (Caused by ReadTimeoutError(\"HTTPSConnectionPool(host='nominatim.openstreetmap.org', port=443): Read timed out. (read timeout=1)\"))\n",
      "Error processing Brasserie de l'abbaye de Villers-la-Ville: HTTPSConnectionPool(host='nominatim.openstreetmap.org', port=443): Max retries exceeded with url: /search?q=Brasserie+de+l%27abbaye+de+Villers-la-Ville&format=json&limit=1 (Caused by ReadTimeoutError(\"HTTPSConnectionPool(host='nominatim.openstreetmap.org', port=443): Read timed out. (read timeout=1)\"))\n",
      "Error processing Brasserie de l'abbaye Notre-Dame de Saint-Benoît: HTTPSConnectionPool(host='nominatim.openstreetmap.org', port=443): Max retries exceeded with url: /search?q=Brasserie+de+l%27abbaye+Notre-Dame+de+Saint-Beno%C3%AEt&format=json&limit=1 (Caused by ReadTimeoutError(\"HTTPSConnectionPool(host='nominatim.openstreetmap.org', port=443): Read timed out. (read timeout=1)\"))\n",
      "Error processing Brasserie de l'abbaye Notre-Dame de Saint-Rémy: HTTPSConnectionPool(host='nominatim.openstreetmap.org', port=443): Max retries exceeded with url: /search?q=Brasserie+de+l%27abbaye+Notre-Dame+de+Saint-R%C3%A9my&format=json&limit=1 (Caused by ReadTimeoutError(\"HTTPSConnectionPool(host='nominatim.openstreetmap.org', port=443): Read timed out. (read timeout=1)\"))\n",
      "Error processing Brasserie de l'abbaye Notre-Dame de Scourmont: HTTPSConnectionPool(host='nominatim.openstreetmap.org', port=443): Max retries exceeded with url: /search?q=Brasserie+de+l%27abbaye+Notre-Dame+de+Scourmont&format=json&limit=1 (Caused by ReadTimeoutError(\"HTTPSConnectionPool(host='nominatim.openstreetmap.org', port=443): Read timed out. (read timeout=1)\"))\n",
      "Error processing Brasserie de l'abbaye Notre-Dame du Sacré-Cœur de Westmalle: HTTPSConnectionPool(host='nominatim.openstreetmap.org', port=443): Max retries exceeded with url: /search?q=Brasserie+de+l%27abbaye+Notre-Dame+du+Sacr%C3%A9-C%C5%93ur+de+Westmalle&format=json&limit=1 (Caused by ReadTimeoutError(\"HTTPSConnectionPool(host='nominatim.openstreetmap.org', port=443): Read timed out. (read timeout=1)\"))\n",
      "Error processing Microbrasserie de l'abbaye Saint-Gérard de Brogne: HTTPSConnectionPool(host='nominatim.openstreetmap.org', port=443): Max retries exceeded with url: /search?q=Microbrasserie+de+l%27abbaye+Saint-G%C3%A9rard+de+Brogne&format=json&limit=1 (Caused by ReadTimeoutError(\"HTTPSConnectionPool(host='nominatim.openstreetmap.org', port=443): Read timed out. (read timeout=1)\"))\n",
      "Error processing Brasserie d'Achouffe (fait partie de Duvel Moortgat): HTTPSConnectionPool(host='nominatim.openstreetmap.org', port=443): Max retries exceeded with url: /search?q=Brasserie+d%27Achouffe+%28fait+partie+de+Duvel+Moortgat%29&format=json&limit=1 (Caused by ReadTimeoutError(\"HTTPSConnectionPool(host='nominatim.openstreetmap.org', port=443): Read timed out. (read timeout=1)\"))\n",
      "Error processing Brasserie Affligem (fait partie d'Alken-Maes<Heineken): HTTPSConnectionPool(host='nominatim.openstreetmap.org', port=443): Max retries exceeded with url: /search?q=Brasserie+Affligem+%28fait+partie+d%27Alken-Maes%3CHeineken%29&format=json&limit=1 (Caused by ReadTimeoutError(\"HTTPSConnectionPool(host='nominatim.openstreetmap.org', port=443): Read timed out. (read timeout=1)\"))\n",
      "Error processing Brasserie Alken (fait partie d'Alken-Maes<Heineken): HTTPSConnectionPool(host='nominatim.openstreetmap.org', port=443): Max retries exceeded with url: /search?q=Brasserie+Alken+%28fait+partie+d%27Alken-Maes%3CHeineken%29&format=json&limit=1 (Caused by ReadTimeoutError(\"HTTPSConnectionPool(host='nominatim.openstreetmap.org', port=443): Read timed out. (read timeout=1)\"))\n",
      "Error processing Brasserie d'Arlon Coopérative: HTTPSConnectionPool(host='nominatim.openstreetmap.org', port=443): Max retries exceeded with url: /search?q=Brasserie+d%27Arlon+Coop%C3%A9rative&format=json&limit=1 (Caused by ReadTimeoutError(\"HTTPSConnectionPool(host='nominatim.openstreetmap.org', port=443): Read timed out. (read timeout=1)\"))\n",
      "Error processing Brasserie Belle-Vue (fait partie de AB InBev): HTTPSConnectionPool(host='nominatim.openstreetmap.org', port=443): Max retries exceeded with url: /search?q=Brasserie+Belle-Vue+%28fait+partie+de+AB+InBev%29&format=json&limit=1 (Caused by ReadTimeoutError(\"HTTPSConnectionPool(host='nominatim.openstreetmap.org', port=443): Read timed out. (read timeout=1)\"))\n",
      "Error processing Brasserie Boon: HTTPSConnectionPool(host='nominatim.openstreetmap.org', port=443): Max retries exceeded with url: /search?q=Hal&format=json&limit=1 (Caused by ReadTimeoutError(\"HTTPSConnectionPool(host='nominatim.openstreetmap.org', port=443): Read timed out. (read timeout=1)\"))\n",
      "Error processing Brasserie Boon: HTTPSConnectionPool(host='nominatim.openstreetmap.org', port=443): Max retries exceeded with url: /search?q=Hal&format=json&limit=1 (Caused by ReadTimeoutError(\"HTTPSConnectionPool(host='nominatim.openstreetmap.org', port=443): Read timed out. (read timeout=1)\"))\n",
      "Error processing Brasserie Boon: HTTPSConnectionPool(host='nominatim.openstreetmap.org', port=443): Max retries exceeded with url: /search?q=Hal&format=json&limit=1 (Caused by ReadTimeoutError(\"HTTPSConnectionPool(host='nominatim.openstreetmap.org', port=443): Read timed out. (read timeout=1)\"))\n",
      "Error processing Brasserie La Botteresse: HTTPSConnectionPool(host='nominatim.openstreetmap.org', port=443): Max retries exceeded with url: /search?q=Brasserie+La+Botteresse&format=json&limit=1 (Caused by ReadTimeoutError(\"HTTPSConnectionPool(host='nominatim.openstreetmap.org', port=443): Read timed out. (read timeout=1)\"))\n",
      "Error processing Brasserie Bourgogne des Flandres (fait partie de John Martin SA): HTTPSConnectionPool(host='nominatim.openstreetmap.org', port=443): Max retries exceeded with url: /search?q=Brasserie+Bourgogne+des+Flandres+%28fait+partie+de+John+Martin+SA%29&format=json&limit=1 (Caused by ReadTimeoutError(\"HTTPSConnectionPool(host='nominatim.openstreetmap.org', port=443): Read timed out. (read timeout=1)\"))\n",
      "Error processing Brasserie du Brabant: HTTPSConnectionPool(host='nominatim.openstreetmap.org', port=443): Max retries exceeded with url: /search?q=Brasserie+du+Brabant&format=json&limit=1 (Caused by ReadTimeoutError(\"HTTPSConnectionPool(host='nominatim.openstreetmap.org', port=443): Read timed out. (read timeout=1)\"))\n",
      "Error processing Brasserie Brasse-Temps (Mons): HTTPSConnectionPool(host='nominatim.openstreetmap.org', port=443): Max retries exceeded with url: /search?q=Brasserie+Brasse-Temps+%28Mons%29&format=json&limit=1 (Caused by ReadTimeoutError(\"HTTPSConnectionPool(host='nominatim.openstreetmap.org', port=443): Read timed out. (read timeout=1)\"))\n",
      "Error processing Brasserie Brasse-Temps (Mons): HTTPSConnectionPool(host='nominatim.openstreetmap.org', port=443): Max retries exceeded with url: /search?q=Mons&format=json&limit=1 (Caused by ReadTimeoutError(\"HTTPSConnectionPool(host='nominatim.openstreetmap.org', port=443): Read timed out. (read timeout=1)\"))\n",
      "Error processing Brasserie C (Microbrasserie de la Principauté): HTTPSConnectionPool(host='nominatim.openstreetmap.org', port=443): Max retries exceeded with url: /search?q=Brasserie+C+%28Microbrasserie+de+la+Principaut%C3%A9%29&format=json&limit=1 (Caused by ReadTimeoutError(\"HTTPSConnectionPool(host='nominatim.openstreetmap.org', port=443): Read timed out. (read timeout=1)\"))\n",
      "Error processing Brasserie de Cambron: HTTPSConnectionPool(host='nominatim.openstreetmap.org', port=443): Max retries exceeded with url: /search?q=Brasserie+de+Cambron&format=json&limit=1 (Caused by ReadTimeoutError(\"HTTPSConnectionPool(host='nominatim.openstreetmap.org', port=443): Read timed out. (read timeout=1)\"))\n",
      "Error processing Brasserie des Carrières: HTTPSConnectionPool(host='nominatim.openstreetmap.org', port=443): Max retries exceeded with url: /search?q=Brasserie+des+Carri%C3%A8res&format=json&limit=1 (Caused by ReadTimeoutError(\"HTTPSConnectionPool(host='nominatim.openstreetmap.org', port=443): Read timed out. (read timeout=1)\"))\n",
      "Error processing Brasserie de Cazeau: HTTPSConnectionPool(host='nominatim.openstreetmap.org', port=443): Max retries exceeded with url: /search?q=Brasserie+de+Cazeau&format=json&limit=1 (Caused by ReadTimeoutError(\"HTTPSConnectionPool(host='nominatim.openstreetmap.org', port=443): Read timed out. (read timeout=1)\"))\n",
      "Error processing Brasserie du la Clochette: HTTPSConnectionPool(host='nominatim.openstreetmap.org', port=443): Max retries exceeded with url: /search?q=Brasserie+du+la+Clochette&format=json&limit=1 (Caused by ReadTimeoutError(\"HTTPSConnectionPool(host='nominatim.openstreetmap.org', port=443): Read timed out. (read timeout=1)\"))\n",
      "Error processing Brasserie De Bie: HTTPSConnectionPool(host='nominatim.openstreetmap.org', port=443): Max retries exceeded with url: /search?q=Brasserie+De+Bie&format=json&limit=1 (Caused by ReadTimeoutError(\"HTTPSConnectionPool(host='nominatim.openstreetmap.org', port=443): Read timed out. (read timeout=1)\"))\n",
      "Error processing Brasserie De Brabandere (ex Brasserie Bavik): HTTPSConnectionPool(host='nominatim.openstreetmap.org', port=443): Max retries exceeded with url: /search?q=Brasserie+De+Brabandere+%28ex+Brasserie+Bavik%29&format=json&limit=1 (Caused by ReadTimeoutError(\"HTTPSConnectionPool(host='nominatim.openstreetmap.org', port=443): Read timed out. (read timeout=1)\"))\n",
      "Error processing Gueuzerie De Cam: HTTPSConnectionPool(host='nominatim.openstreetmap.org', port=443): Max retries exceeded with url: /search?q=Gueuzerie+De+Cam&format=json&limit=1 (Caused by ReadTimeoutError(\"HTTPSConnectionPool(host='nominatim.openstreetmap.org', port=443): Read timed out. (read timeout=1)\"))\n",
      "Error processing Brasserie De Dochter van de Korenaar: HTTPSConnectionPool(host='nominatim.openstreetmap.org', port=443): Max retries exceeded with url: /search?q=Brasserie+De+Dochter+van+de+Korenaar&format=json&limit=1 (Caused by ReadTimeoutError(\"HTTPSConnectionPool(host='nominatim.openstreetmap.org', port=443): Read timed out. (read timeout=1)\"))\n",
      "Error processing Brasserie De Dolle Brouwers: HTTPSConnectionPool(host='nominatim.openstreetmap.org', port=443): Max retries exceeded with url: /search?q=Brasserie+De+Dolle+Brouwers&format=json&limit=1 (Caused by ReadTimeoutError(\"HTTPSConnectionPool(host='nominatim.openstreetmap.org', port=443): Read timed out. (read timeout=1)\"))\n",
      "Error processing Brasseurs de la Grand Place: HTTPSConnectionPool(host='nominatim.openstreetmap.org', port=443): Max retries exceeded with url: /search?q=Brasseurs+de+la+Grand+Place&format=json&limit=1 (Caused by ReadTimeoutError(\"HTTPSConnectionPool(host='nominatim.openstreetmap.org', port=443): Read timed out. (read timeout=1)\"))\n",
      "Error processing Brasserie De Hoorn (fait partie de Palm Belgian Craft Brewers): HTTPSConnectionPool(host='nominatim.openstreetmap.org', port=443): Max retries exceeded with url: /search?q=Brasserie+De+Hoorn+%28fait+partie+de+Palm+Belgian+Craft+Brewers%29&format=json&limit=1 (Caused by ReadTimeoutError(\"HTTPSConnectionPool(host='nominatim.openstreetmap.org', port=443): Read timed out. (read timeout=1)\"))\n",
      "Error processing Brasserie De Koninck (fait partie de Duvel Moortgat): HTTPSConnectionPool(host='nominatim.openstreetmap.org', port=443): Max retries exceeded with url: /search?q=Brasserie+De+Koninck+%28fait+partie+de+Duvel+Moortgat%29&format=json&limit=1 (Caused by ReadTimeoutError(\"HTTPSConnectionPool(host='nominatim.openstreetmap.org', port=443): Read timed out. (read timeout=1)\"))\n",
      "Error processing Brasserie Den Houten Molen: HTTPSConnectionPool(host='nominatim.openstreetmap.org', port=443): Max retries exceeded with url: /search?q=Brasserie+Den+Houten+Molen&format=json&limit=1 (Caused by ReadTimeoutError(\"HTTPSConnectionPool(host='nominatim.openstreetmap.org', port=443): Read timed out. (read timeout=1)\"))\n",
      "Error processing Brasserie Duvel (fait partie de Duvel Moortgat): HTTPSConnectionPool(host='nominatim.openstreetmap.org', port=443): Max retries exceeded with url: /search?q=Brasserie+Duvel+%28fait+partie+de+Duvel+Moortgat%29&format=json&limit=1 (Caused by ReadTimeoutError(\"HTTPSConnectionPool(host='nominatim.openstreetmap.org', port=443): Read timed out. (read timeout=1)\"))\n",
      "Error processing Brasserie d'Écaussinnes: HTTPSConnectionPool(host='nominatim.openstreetmap.org', port=443): Max retries exceeded with url: /search?q=Brasserie+d%27%C3%89caussinnes&format=json&limit=1 (Caused by ReadTimeoutError(\"HTTPSConnectionPool(host='nominatim.openstreetmap.org', port=443): Read timed out. (read timeout=1)\"))\n",
      "Error processing Brasserie de l'Ermitage: HTTPSConnectionPool(host='nominatim.openstreetmap.org', port=443): Max retries exceeded with url: /search?q=Brasserie+de+l%27Ermitage&format=json&limit=1 (Caused by ReadTimeoutError(\"HTTPSConnectionPool(host='nominatim.openstreetmap.org', port=443): Read timed out. (read timeout=1)\"))\n",
      "Error processing Brasserie La Ferme au Chêne: HTTPSConnectionPool(host='nominatim.openstreetmap.org', port=443): Max retries exceeded with url: /search?q=Brasserie+La+Ferme+au+Ch%C3%AAne&format=json&limit=1 (Caused by ReadTimeoutError(\"HTTPSConnectionPool(host='nominatim.openstreetmap.org', port=443): Read timed out. (read timeout=1)\"))\n",
      "Error processing Brasserie Forêt: HTTPSConnectionPool(host='nominatim.openstreetmap.org', port=443): Max retries exceeded with url: /search?q=Brasserie+For%C3%AAt&format=json&limit=1 (Caused by ReadTimeoutError(\"HTTPSConnectionPool(host='nominatim.openstreetmap.org', port=443): Read timed out. (read timeout=1)\"))\n",
      "Error processing Brasserie Jupiler ex Brasserie Piedbœuf (fait partie du groupe AB InBev): HTTPSConnectionPool(host='nominatim.openstreetmap.org', port=443): Max retries exceeded with url: /search?q=Brasserie+Jupiler+ex+Brasserie+Piedb%C5%93uf+%28fait+partie+du+groupe+AB+InBev%29&format=json&limit=1 (Caused by ReadTimeoutError(\"HTTPSConnectionPool(host='nominatim.openstreetmap.org', port=443): Read timed out. (read timeout=1)\"))\n",
      "Error processing Brasserie des Légendes (issue de la fusion de la Brasserie des Géants et de la Brasserie Ellezelloise): HTTPSConnectionPool(host='nominatim.openstreetmap.org', port=443): Max retries exceeded with url: /search?q=Brasserie+des+L%C3%A9gendes+%28issue+de+la+fusion+de+la+Brasserie+des+G%C3%A9ants+et+de+la+Brasserie+Ellezelloise%29&format=json&limit=1 (Caused by ReadTimeoutError(\"HTTPSConnectionPool(host='nominatim.openstreetmap.org', port=443): Read timed out. (read timeout=1)\"))\n",
      "Error processing Brasserie Liefmans (fait partie de Duvel Moortgat): HTTPSConnectionPool(host='nominatim.openstreetmap.org', port=443): Max retries exceeded with url: /search?q=Brasserie+Liefmans+%28fait+partie+de+Duvel+Moortgat%29&format=json&limit=1 (Caused by ReadTimeoutError(\"HTTPSConnectionPool(host='nominatim.openstreetmap.org', port=443): Read timed out. (read timeout=1)\"))\n",
      "Error processing Brasserie artisanale de Namur: HTTPSConnectionPool(host='nominatim.openstreetmap.org', port=443): Max retries exceeded with url: /search?q=Brasserie+artisanale+de+Namur&format=json&limit=1 (Caused by ReadTimeoutError(\"HTTPSConnectionPool(host='nominatim.openstreetmap.org', port=443): Read timed out. (read timeout=1)\"))\n",
      "Error processing Brasserie No Science: HTTPSConnectionPool(host='nominatim.openstreetmap.org', port=443): Max retries exceeded with url: /search?q=Brasserie+No+Science&format=json&limit=1 (Caused by ReadTimeoutError(\"HTTPSConnectionPool(host='nominatim.openstreetmap.org', port=443): Read timed out. (read timeout=1)\"))\n",
      "Error processing Brasserie Palm (fait partie de Palm Belgian Craft Brewers): HTTPSConnectionPool(host='nominatim.openstreetmap.org', port=443): Max retries exceeded with url: /search?q=Brasserie+Palm+%28fait+partie+de+Palm+Belgian+Craft+Brewers%29&format=json&limit=1 (Caused by ReadTimeoutError(\"HTTPSConnectionPool(host='nominatim.openstreetmap.org', port=443): Read timed out. (read timeout=1)\"))\n",
      "Error processing Brasserie Peak-Beer: HTTPSConnectionPool(host='nominatim.openstreetmap.org', port=443): Max retries exceeded with url: /search?q=Brasserie+Peak-Beer&format=json&limit=1 (Caused by ReadTimeoutError(\"HTTPSConnectionPool(host='nominatim.openstreetmap.org', port=443): Read timed out. (read timeout=1)\"))\n",
      "Error processing Brasserie Rodenbach (fait partie de Palm Belgian Craft Brewers): HTTPSConnectionPool(host='nominatim.openstreetmap.org', port=443): Max retries exceeded with url: /search?q=Brasserie+Rodenbach+%28fait+partie+de+Palm+Belgian+Craft+Brewers%29&format=json&limit=1 (Caused by ReadTimeoutError(\"HTTPSConnectionPool(host='nominatim.openstreetmap.org', port=443): Read timed out. (read timeout=1)\"))\n",
      "Error processing Brasserie de la Sambre: HTTPSConnectionPool(host='nominatim.openstreetmap.org', port=443): Max retries exceeded with url: /search?q=Brasserie+de+la+Sambre&format=json&limit=1 (Caused by ReadTimeoutError(\"HTTPSConnectionPool(host='nominatim.openstreetmap.org', port=443): Read timed out. (read timeout=1)\"))\n",
      "Error processing Brasserie Sint Canarus: HTTPSConnectionPool(host='nominatim.openstreetmap.org', port=443): Max retries exceeded with url: /search?q=Brasserie+Sint+Canarus&format=json&limit=1 (Caused by ReadTimeoutError(\"HTTPSConnectionPool(host='nominatim.openstreetmap.org', port=443): Read timed out. (read timeout=1)\"))\n",
      "Error processing Brasserie de la Station: HTTPSConnectionPool(host='nominatim.openstreetmap.org', port=443): Max retries exceeded with url: /search?q=Brasserie+de+la+Station&format=json&limit=1 (Caused by ReadTimeoutError(\"HTTPSConnectionPool(host='nominatim.openstreetmap.org', port=443): Read timed out. (read timeout=1)\"))\n",
      "Error processing Brasserie des Tchets: HTTPSConnectionPool(host='nominatim.openstreetmap.org', port=443): Max retries exceeded with url: /search?q=Brasserie+des+Tchets&format=json&limit=1 (Caused by ReadTimeoutError(\"HTTPSConnectionPool(host='nominatim.openstreetmap.org', port=443): Read timed out. (read timeout=1)\"))\n",
      "Error processing Brasserie Timmermans (fait partie de John Martin SA): HTTPSConnectionPool(host='nominatim.openstreetmap.org', port=443): Max retries exceeded with url: /search?q=Brasserie+Timmermans+%28fait+partie+de+John+Martin+SA%29&format=json&limit=1 (Caused by ReadTimeoutError(\"HTTPSConnectionPool(host='nominatim.openstreetmap.org', port=443): Read timed out. (read timeout=1)\"))\n"
     ]
    },
    {
     "ename": "KeyboardInterrupt",
     "evalue": "",
     "output_type": "error",
     "traceback": [
      "\u001b[0;31m---------------------------------------------------------------------------\u001b[0m",
      "\u001b[0;31mKeyboardInterrupt\u001b[0m                         Traceback (most recent call last)",
      "Cell \u001b[0;32mIn[72], line 18\u001b[0m\n\u001b[1;32m     15\u001b[0m \u001b[38;5;28;01mfor\u001b[39;00m _ \u001b[38;5;129;01min\u001b[39;00m \u001b[38;5;28mrange\u001b[39m(retries):\n\u001b[1;32m     16\u001b[0m     \u001b[38;5;28;01mtry\u001b[39;00m:\n\u001b[1;32m     17\u001b[0m         \u001b[38;5;66;03m# Try geocoding the brewery first\u001b[39;00m\n\u001b[0;32m---> 18\u001b[0m         location \u001b[38;5;241m=\u001b[39m \u001b[43mgeolocator\u001b[49m\u001b[38;5;241;43m.\u001b[39;49m\u001b[43mgeocode\u001b[49m\u001b[43m(\u001b[49m\u001b[43mbrewery\u001b[49m\u001b[43m)\u001b[49m\n\u001b[1;32m     19\u001b[0m         \u001b[38;5;28;01mif\u001b[39;00m location:\n\u001b[1;32m     20\u001b[0m             coordinates\u001b[38;5;241m.\u001b[39mappend((location\u001b[38;5;241m.\u001b[39mlatitude, location\u001b[38;5;241m.\u001b[39mlongitude))  \u001b[38;5;66;03m# Add coordinates as tuple\u001b[39;00m\n",
      "File \u001b[0;32m~/miniforge3/envs/scraping/lib/python3.13/site-packages/geopy/geocoders/nominatim.py:297\u001b[0m, in \u001b[0;36mNominatim.geocode\u001b[0;34m(self, query, exactly_one, timeout, limit, addressdetails, language, geometry, extratags, country_codes, viewbox, bounded, featuretype, namedetails)\u001b[0m\n\u001b[1;32m    295\u001b[0m logger\u001b[38;5;241m.\u001b[39mdebug(\u001b[38;5;124m\"\u001b[39m\u001b[38;5;132;01m%s\u001b[39;00m\u001b[38;5;124m.geocode: \u001b[39m\u001b[38;5;132;01m%s\u001b[39;00m\u001b[38;5;124m\"\u001b[39m, \u001b[38;5;28mself\u001b[39m\u001b[38;5;241m.\u001b[39m\u001b[38;5;18m__class__\u001b[39m\u001b[38;5;241m.\u001b[39m\u001b[38;5;18m__name__\u001b[39m, url)\n\u001b[1;32m    296\u001b[0m callback \u001b[38;5;241m=\u001b[39m partial(\u001b[38;5;28mself\u001b[39m\u001b[38;5;241m.\u001b[39m_parse_json, exactly_one\u001b[38;5;241m=\u001b[39mexactly_one)\n\u001b[0;32m--> 297\u001b[0m \u001b[38;5;28;01mreturn\u001b[39;00m \u001b[38;5;28;43mself\u001b[39;49m\u001b[38;5;241;43m.\u001b[39;49m\u001b[43m_call_geocoder\u001b[49m\u001b[43m(\u001b[49m\u001b[43murl\u001b[49m\u001b[43m,\u001b[49m\u001b[43m \u001b[49m\u001b[43mcallback\u001b[49m\u001b[43m,\u001b[49m\u001b[43m \u001b[49m\u001b[43mtimeout\u001b[49m\u001b[38;5;241;43m=\u001b[39;49m\u001b[43mtimeout\u001b[49m\u001b[43m)\u001b[49m\n",
      "File \u001b[0;32m~/miniforge3/envs/scraping/lib/python3.13/site-packages/geopy/geocoders/base.py:368\u001b[0m, in \u001b[0;36mGeocoder._call_geocoder\u001b[0;34m(self, url, callback, timeout, is_json, headers)\u001b[0m\n\u001b[1;32m    366\u001b[0m \u001b[38;5;28;01mtry\u001b[39;00m:\n\u001b[1;32m    367\u001b[0m     \u001b[38;5;28;01mif\u001b[39;00m is_json:\n\u001b[0;32m--> 368\u001b[0m         result \u001b[38;5;241m=\u001b[39m \u001b[38;5;28;43mself\u001b[39;49m\u001b[38;5;241;43m.\u001b[39;49m\u001b[43madapter\u001b[49m\u001b[38;5;241;43m.\u001b[39;49m\u001b[43mget_json\u001b[49m\u001b[43m(\u001b[49m\u001b[43murl\u001b[49m\u001b[43m,\u001b[49m\u001b[43m \u001b[49m\u001b[43mtimeout\u001b[49m\u001b[38;5;241;43m=\u001b[39;49m\u001b[43mtimeout\u001b[49m\u001b[43m,\u001b[49m\u001b[43m \u001b[49m\u001b[43mheaders\u001b[49m\u001b[38;5;241;43m=\u001b[39;49m\u001b[43mreq_headers\u001b[49m\u001b[43m)\u001b[49m\n\u001b[1;32m    369\u001b[0m     \u001b[38;5;28;01melse\u001b[39;00m:\n\u001b[1;32m    370\u001b[0m         result \u001b[38;5;241m=\u001b[39m \u001b[38;5;28mself\u001b[39m\u001b[38;5;241m.\u001b[39madapter\u001b[38;5;241m.\u001b[39mget_text(url, timeout\u001b[38;5;241m=\u001b[39mtimeout, headers\u001b[38;5;241m=\u001b[39mreq_headers)\n",
      "File \u001b[0;32m~/miniforge3/envs/scraping/lib/python3.13/site-packages/geopy/adapters.py:472\u001b[0m, in \u001b[0;36mRequestsAdapter.get_json\u001b[0;34m(self, url, timeout, headers)\u001b[0m\n\u001b[1;32m    471\u001b[0m \u001b[38;5;28;01mdef\u001b[39;00m\u001b[38;5;250m \u001b[39m\u001b[38;5;21mget_json\u001b[39m(\u001b[38;5;28mself\u001b[39m, url, \u001b[38;5;241m*\u001b[39m, timeout, headers):\n\u001b[0;32m--> 472\u001b[0m     resp \u001b[38;5;241m=\u001b[39m \u001b[38;5;28;43mself\u001b[39;49m\u001b[38;5;241;43m.\u001b[39;49m\u001b[43m_request\u001b[49m\u001b[43m(\u001b[49m\u001b[43murl\u001b[49m\u001b[43m,\u001b[49m\u001b[43m \u001b[49m\u001b[43mtimeout\u001b[49m\u001b[38;5;241;43m=\u001b[39;49m\u001b[43mtimeout\u001b[49m\u001b[43m,\u001b[49m\u001b[43m \u001b[49m\u001b[43mheaders\u001b[49m\u001b[38;5;241;43m=\u001b[39;49m\u001b[43mheaders\u001b[49m\u001b[43m)\u001b[49m\n\u001b[1;32m    473\u001b[0m     \u001b[38;5;28;01mtry\u001b[39;00m:\n\u001b[1;32m    474\u001b[0m         \u001b[38;5;28;01mreturn\u001b[39;00m resp\u001b[38;5;241m.\u001b[39mjson()\n",
      "File \u001b[0;32m~/miniforge3/envs/scraping/lib/python3.13/site-packages/geopy/adapters.py:482\u001b[0m, in \u001b[0;36mRequestsAdapter._request\u001b[0;34m(self, url, timeout, headers)\u001b[0m\n\u001b[1;32m    480\u001b[0m \u001b[38;5;28;01mdef\u001b[39;00m\u001b[38;5;250m \u001b[39m\u001b[38;5;21m_request\u001b[39m(\u001b[38;5;28mself\u001b[39m, url, \u001b[38;5;241m*\u001b[39m, timeout, headers):\n\u001b[1;32m    481\u001b[0m     \u001b[38;5;28;01mtry\u001b[39;00m:\n\u001b[0;32m--> 482\u001b[0m         resp \u001b[38;5;241m=\u001b[39m \u001b[38;5;28;43mself\u001b[39;49m\u001b[38;5;241;43m.\u001b[39;49m\u001b[43msession\u001b[49m\u001b[38;5;241;43m.\u001b[39;49m\u001b[43mget\u001b[49m\u001b[43m(\u001b[49m\u001b[43murl\u001b[49m\u001b[43m,\u001b[49m\u001b[43m \u001b[49m\u001b[43mtimeout\u001b[49m\u001b[38;5;241;43m=\u001b[39;49m\u001b[43mtimeout\u001b[49m\u001b[43m,\u001b[49m\u001b[43m \u001b[49m\u001b[43mheaders\u001b[49m\u001b[38;5;241;43m=\u001b[39;49m\u001b[43mheaders\u001b[49m\u001b[43m)\u001b[49m\n\u001b[1;32m    483\u001b[0m     \u001b[38;5;28;01mexcept\u001b[39;00m \u001b[38;5;167;01mException\u001b[39;00m \u001b[38;5;28;01mas\u001b[39;00m error:\n\u001b[1;32m    484\u001b[0m         message \u001b[38;5;241m=\u001b[39m \u001b[38;5;28mstr\u001b[39m(error)\n",
      "File \u001b[0;32m~/miniforge3/envs/scraping/lib/python3.13/site-packages/requests/sessions.py:602\u001b[0m, in \u001b[0;36mSession.get\u001b[0;34m(self, url, **kwargs)\u001b[0m\n\u001b[1;32m    594\u001b[0m \u001b[38;5;250m\u001b[39m\u001b[38;5;124mr\u001b[39m\u001b[38;5;124;03m\"\"\"Sends a GET request. Returns :class:`Response` object.\u001b[39;00m\n\u001b[1;32m    595\u001b[0m \n\u001b[1;32m    596\u001b[0m \u001b[38;5;124;03m:param url: URL for the new :class:`Request` object.\u001b[39;00m\n\u001b[1;32m    597\u001b[0m \u001b[38;5;124;03m:param \\*\\*kwargs: Optional arguments that ``request`` takes.\u001b[39;00m\n\u001b[1;32m    598\u001b[0m \u001b[38;5;124;03m:rtype: requests.Response\u001b[39;00m\n\u001b[1;32m    599\u001b[0m \u001b[38;5;124;03m\"\"\"\u001b[39;00m\n\u001b[1;32m    601\u001b[0m kwargs\u001b[38;5;241m.\u001b[39msetdefault(\u001b[38;5;124m\"\u001b[39m\u001b[38;5;124mallow_redirects\u001b[39m\u001b[38;5;124m\"\u001b[39m, \u001b[38;5;28;01mTrue\u001b[39;00m)\n\u001b[0;32m--> 602\u001b[0m \u001b[38;5;28;01mreturn\u001b[39;00m \u001b[38;5;28;43mself\u001b[39;49m\u001b[38;5;241;43m.\u001b[39;49m\u001b[43mrequest\u001b[49m\u001b[43m(\u001b[49m\u001b[38;5;124;43m\"\u001b[39;49m\u001b[38;5;124;43mGET\u001b[39;49m\u001b[38;5;124;43m\"\u001b[39;49m\u001b[43m,\u001b[49m\u001b[43m \u001b[49m\u001b[43murl\u001b[49m\u001b[43m,\u001b[49m\u001b[43m \u001b[49m\u001b[38;5;241;43m*\u001b[39;49m\u001b[38;5;241;43m*\u001b[39;49m\u001b[43mkwargs\u001b[49m\u001b[43m)\u001b[49m\n",
      "File \u001b[0;32m~/miniforge3/envs/scraping/lib/python3.13/site-packages/requests/sessions.py:589\u001b[0m, in \u001b[0;36mSession.request\u001b[0;34m(self, method, url, params, data, headers, cookies, files, auth, timeout, allow_redirects, proxies, hooks, stream, verify, cert, json)\u001b[0m\n\u001b[1;32m    584\u001b[0m send_kwargs \u001b[38;5;241m=\u001b[39m {\n\u001b[1;32m    585\u001b[0m     \u001b[38;5;124m\"\u001b[39m\u001b[38;5;124mtimeout\u001b[39m\u001b[38;5;124m\"\u001b[39m: timeout,\n\u001b[1;32m    586\u001b[0m     \u001b[38;5;124m\"\u001b[39m\u001b[38;5;124mallow_redirects\u001b[39m\u001b[38;5;124m\"\u001b[39m: allow_redirects,\n\u001b[1;32m    587\u001b[0m }\n\u001b[1;32m    588\u001b[0m send_kwargs\u001b[38;5;241m.\u001b[39mupdate(settings)\n\u001b[0;32m--> 589\u001b[0m resp \u001b[38;5;241m=\u001b[39m \u001b[38;5;28;43mself\u001b[39;49m\u001b[38;5;241;43m.\u001b[39;49m\u001b[43msend\u001b[49m\u001b[43m(\u001b[49m\u001b[43mprep\u001b[49m\u001b[43m,\u001b[49m\u001b[43m \u001b[49m\u001b[38;5;241;43m*\u001b[39;49m\u001b[38;5;241;43m*\u001b[39;49m\u001b[43msend_kwargs\u001b[49m\u001b[43m)\u001b[49m\n\u001b[1;32m    591\u001b[0m \u001b[38;5;28;01mreturn\u001b[39;00m resp\n",
      "File \u001b[0;32m~/miniforge3/envs/scraping/lib/python3.13/site-packages/requests/sessions.py:703\u001b[0m, in \u001b[0;36mSession.send\u001b[0;34m(self, request, **kwargs)\u001b[0m\n\u001b[1;32m    700\u001b[0m start \u001b[38;5;241m=\u001b[39m preferred_clock()\n\u001b[1;32m    702\u001b[0m \u001b[38;5;66;03m# Send the request\u001b[39;00m\n\u001b[0;32m--> 703\u001b[0m r \u001b[38;5;241m=\u001b[39m \u001b[43madapter\u001b[49m\u001b[38;5;241;43m.\u001b[39;49m\u001b[43msend\u001b[49m\u001b[43m(\u001b[49m\u001b[43mrequest\u001b[49m\u001b[43m,\u001b[49m\u001b[43m \u001b[49m\u001b[38;5;241;43m*\u001b[39;49m\u001b[38;5;241;43m*\u001b[39;49m\u001b[43mkwargs\u001b[49m\u001b[43m)\u001b[49m\n\u001b[1;32m    705\u001b[0m \u001b[38;5;66;03m# Total elapsed time of the request (approximately)\u001b[39;00m\n\u001b[1;32m    706\u001b[0m elapsed \u001b[38;5;241m=\u001b[39m preferred_clock() \u001b[38;5;241m-\u001b[39m start\n",
      "File \u001b[0;32m~/miniforge3/envs/scraping/lib/python3.13/site-packages/requests/adapters.py:667\u001b[0m, in \u001b[0;36mHTTPAdapter.send\u001b[0;34m(self, request, stream, timeout, verify, cert, proxies)\u001b[0m\n\u001b[1;32m    664\u001b[0m     timeout \u001b[38;5;241m=\u001b[39m TimeoutSauce(connect\u001b[38;5;241m=\u001b[39mtimeout, read\u001b[38;5;241m=\u001b[39mtimeout)\n\u001b[1;32m    666\u001b[0m \u001b[38;5;28;01mtry\u001b[39;00m:\n\u001b[0;32m--> 667\u001b[0m     resp \u001b[38;5;241m=\u001b[39m \u001b[43mconn\u001b[49m\u001b[38;5;241;43m.\u001b[39;49m\u001b[43murlopen\u001b[49m\u001b[43m(\u001b[49m\n\u001b[1;32m    668\u001b[0m \u001b[43m        \u001b[49m\u001b[43mmethod\u001b[49m\u001b[38;5;241;43m=\u001b[39;49m\u001b[43mrequest\u001b[49m\u001b[38;5;241;43m.\u001b[39;49m\u001b[43mmethod\u001b[49m\u001b[43m,\u001b[49m\n\u001b[1;32m    669\u001b[0m \u001b[43m        \u001b[49m\u001b[43murl\u001b[49m\u001b[38;5;241;43m=\u001b[39;49m\u001b[43murl\u001b[49m\u001b[43m,\u001b[49m\n\u001b[1;32m    670\u001b[0m \u001b[43m        \u001b[49m\u001b[43mbody\u001b[49m\u001b[38;5;241;43m=\u001b[39;49m\u001b[43mrequest\u001b[49m\u001b[38;5;241;43m.\u001b[39;49m\u001b[43mbody\u001b[49m\u001b[43m,\u001b[49m\n\u001b[1;32m    671\u001b[0m \u001b[43m        \u001b[49m\u001b[43mheaders\u001b[49m\u001b[38;5;241;43m=\u001b[39;49m\u001b[43mrequest\u001b[49m\u001b[38;5;241;43m.\u001b[39;49m\u001b[43mheaders\u001b[49m\u001b[43m,\u001b[49m\n\u001b[1;32m    672\u001b[0m \u001b[43m        \u001b[49m\u001b[43mredirect\u001b[49m\u001b[38;5;241;43m=\u001b[39;49m\u001b[38;5;28;43;01mFalse\u001b[39;49;00m\u001b[43m,\u001b[49m\n\u001b[1;32m    673\u001b[0m \u001b[43m        \u001b[49m\u001b[43massert_same_host\u001b[49m\u001b[38;5;241;43m=\u001b[39;49m\u001b[38;5;28;43;01mFalse\u001b[39;49;00m\u001b[43m,\u001b[49m\n\u001b[1;32m    674\u001b[0m \u001b[43m        \u001b[49m\u001b[43mpreload_content\u001b[49m\u001b[38;5;241;43m=\u001b[39;49m\u001b[38;5;28;43;01mFalse\u001b[39;49;00m\u001b[43m,\u001b[49m\n\u001b[1;32m    675\u001b[0m \u001b[43m        \u001b[49m\u001b[43mdecode_content\u001b[49m\u001b[38;5;241;43m=\u001b[39;49m\u001b[38;5;28;43;01mFalse\u001b[39;49;00m\u001b[43m,\u001b[49m\n\u001b[1;32m    676\u001b[0m \u001b[43m        \u001b[49m\u001b[43mretries\u001b[49m\u001b[38;5;241;43m=\u001b[39;49m\u001b[38;5;28;43mself\u001b[39;49m\u001b[38;5;241;43m.\u001b[39;49m\u001b[43mmax_retries\u001b[49m\u001b[43m,\u001b[49m\n\u001b[1;32m    677\u001b[0m \u001b[43m        \u001b[49m\u001b[43mtimeout\u001b[49m\u001b[38;5;241;43m=\u001b[39;49m\u001b[43mtimeout\u001b[49m\u001b[43m,\u001b[49m\n\u001b[1;32m    678\u001b[0m \u001b[43m        \u001b[49m\u001b[43mchunked\u001b[49m\u001b[38;5;241;43m=\u001b[39;49m\u001b[43mchunked\u001b[49m\u001b[43m,\u001b[49m\n\u001b[1;32m    679\u001b[0m \u001b[43m    \u001b[49m\u001b[43m)\u001b[49m\n\u001b[1;32m    681\u001b[0m \u001b[38;5;28;01mexcept\u001b[39;00m (ProtocolError, \u001b[38;5;167;01mOSError\u001b[39;00m) \u001b[38;5;28;01mas\u001b[39;00m err:\n\u001b[1;32m    682\u001b[0m     \u001b[38;5;28;01mraise\u001b[39;00m \u001b[38;5;167;01mConnectionError\u001b[39;00m(err, request\u001b[38;5;241m=\u001b[39mrequest)\n",
      "File \u001b[0;32m~/miniforge3/envs/scraping/lib/python3.13/site-packages/urllib3/connectionpool.py:787\u001b[0m, in \u001b[0;36mHTTPConnectionPool.urlopen\u001b[0;34m(self, method, url, body, headers, retries, redirect, assert_same_host, timeout, pool_timeout, release_conn, chunked, body_pos, preload_content, decode_content, **response_kw)\u001b[0m\n\u001b[1;32m    784\u001b[0m response_conn \u001b[38;5;241m=\u001b[39m conn \u001b[38;5;28;01mif\u001b[39;00m \u001b[38;5;129;01mnot\u001b[39;00m release_conn \u001b[38;5;28;01melse\u001b[39;00m \u001b[38;5;28;01mNone\u001b[39;00m\n\u001b[1;32m    786\u001b[0m \u001b[38;5;66;03m# Make the request on the HTTPConnection object\u001b[39;00m\n\u001b[0;32m--> 787\u001b[0m response \u001b[38;5;241m=\u001b[39m \u001b[38;5;28;43mself\u001b[39;49m\u001b[38;5;241;43m.\u001b[39;49m\u001b[43m_make_request\u001b[49m\u001b[43m(\u001b[49m\n\u001b[1;32m    788\u001b[0m \u001b[43m    \u001b[49m\u001b[43mconn\u001b[49m\u001b[43m,\u001b[49m\n\u001b[1;32m    789\u001b[0m \u001b[43m    \u001b[49m\u001b[43mmethod\u001b[49m\u001b[43m,\u001b[49m\n\u001b[1;32m    790\u001b[0m \u001b[43m    \u001b[49m\u001b[43murl\u001b[49m\u001b[43m,\u001b[49m\n\u001b[1;32m    791\u001b[0m \u001b[43m    \u001b[49m\u001b[43mtimeout\u001b[49m\u001b[38;5;241;43m=\u001b[39;49m\u001b[43mtimeout_obj\u001b[49m\u001b[43m,\u001b[49m\n\u001b[1;32m    792\u001b[0m \u001b[43m    \u001b[49m\u001b[43mbody\u001b[49m\u001b[38;5;241;43m=\u001b[39;49m\u001b[43mbody\u001b[49m\u001b[43m,\u001b[49m\n\u001b[1;32m    793\u001b[0m \u001b[43m    \u001b[49m\u001b[43mheaders\u001b[49m\u001b[38;5;241;43m=\u001b[39;49m\u001b[43mheaders\u001b[49m\u001b[43m,\u001b[49m\n\u001b[1;32m    794\u001b[0m \u001b[43m    \u001b[49m\u001b[43mchunked\u001b[49m\u001b[38;5;241;43m=\u001b[39;49m\u001b[43mchunked\u001b[49m\u001b[43m,\u001b[49m\n\u001b[1;32m    795\u001b[0m \u001b[43m    \u001b[49m\u001b[43mretries\u001b[49m\u001b[38;5;241;43m=\u001b[39;49m\u001b[43mretries\u001b[49m\u001b[43m,\u001b[49m\n\u001b[1;32m    796\u001b[0m \u001b[43m    \u001b[49m\u001b[43mresponse_conn\u001b[49m\u001b[38;5;241;43m=\u001b[39;49m\u001b[43mresponse_conn\u001b[49m\u001b[43m,\u001b[49m\n\u001b[1;32m    797\u001b[0m \u001b[43m    \u001b[49m\u001b[43mpreload_content\u001b[49m\u001b[38;5;241;43m=\u001b[39;49m\u001b[43mpreload_content\u001b[49m\u001b[43m,\u001b[49m\n\u001b[1;32m    798\u001b[0m \u001b[43m    \u001b[49m\u001b[43mdecode_content\u001b[49m\u001b[38;5;241;43m=\u001b[39;49m\u001b[43mdecode_content\u001b[49m\u001b[43m,\u001b[49m\n\u001b[1;32m    799\u001b[0m \u001b[43m    \u001b[49m\u001b[38;5;241;43m*\u001b[39;49m\u001b[38;5;241;43m*\u001b[39;49m\u001b[43mresponse_kw\u001b[49m\u001b[43m,\u001b[49m\n\u001b[1;32m    800\u001b[0m \u001b[43m\u001b[49m\u001b[43m)\u001b[49m\n\u001b[1;32m    802\u001b[0m \u001b[38;5;66;03m# Everything went great!\u001b[39;00m\n\u001b[1;32m    803\u001b[0m clean_exit \u001b[38;5;241m=\u001b[39m \u001b[38;5;28;01mTrue\u001b[39;00m\n",
      "File \u001b[0;32m~/miniforge3/envs/scraping/lib/python3.13/site-packages/urllib3/connectionpool.py:534\u001b[0m, in \u001b[0;36mHTTPConnectionPool._make_request\u001b[0;34m(self, conn, method, url, body, headers, retries, timeout, chunked, response_conn, preload_content, decode_content, enforce_content_length)\u001b[0m\n\u001b[1;32m    532\u001b[0m \u001b[38;5;66;03m# Receive the response from the server\u001b[39;00m\n\u001b[1;32m    533\u001b[0m \u001b[38;5;28;01mtry\u001b[39;00m:\n\u001b[0;32m--> 534\u001b[0m     response \u001b[38;5;241m=\u001b[39m \u001b[43mconn\u001b[49m\u001b[38;5;241;43m.\u001b[39;49m\u001b[43mgetresponse\u001b[49m\u001b[43m(\u001b[49m\u001b[43m)\u001b[49m\n\u001b[1;32m    535\u001b[0m \u001b[38;5;28;01mexcept\u001b[39;00m (BaseSSLError, \u001b[38;5;167;01mOSError\u001b[39;00m) \u001b[38;5;28;01mas\u001b[39;00m e:\n\u001b[1;32m    536\u001b[0m     \u001b[38;5;28mself\u001b[39m\u001b[38;5;241m.\u001b[39m_raise_timeout(err\u001b[38;5;241m=\u001b[39me, url\u001b[38;5;241m=\u001b[39murl, timeout_value\u001b[38;5;241m=\u001b[39mread_timeout)\n",
      "File \u001b[0;32m~/miniforge3/envs/scraping/lib/python3.13/site-packages/urllib3/connection.py:516\u001b[0m, in \u001b[0;36mHTTPConnection.getresponse\u001b[0;34m(self)\u001b[0m\n\u001b[1;32m    513\u001b[0m _shutdown \u001b[38;5;241m=\u001b[39m \u001b[38;5;28mgetattr\u001b[39m(\u001b[38;5;28mself\u001b[39m\u001b[38;5;241m.\u001b[39msock, \u001b[38;5;124m\"\u001b[39m\u001b[38;5;124mshutdown\u001b[39m\u001b[38;5;124m\"\u001b[39m, \u001b[38;5;28;01mNone\u001b[39;00m)\n\u001b[1;32m    515\u001b[0m \u001b[38;5;66;03m# Get the response from http.client.HTTPConnection\u001b[39;00m\n\u001b[0;32m--> 516\u001b[0m httplib_response \u001b[38;5;241m=\u001b[39m \u001b[38;5;28;43msuper\u001b[39;49m\u001b[43m(\u001b[49m\u001b[43m)\u001b[49m\u001b[38;5;241;43m.\u001b[39;49m\u001b[43mgetresponse\u001b[49m\u001b[43m(\u001b[49m\u001b[43m)\u001b[49m\n\u001b[1;32m    518\u001b[0m \u001b[38;5;28;01mtry\u001b[39;00m:\n\u001b[1;32m    519\u001b[0m     assert_header_parsing(httplib_response\u001b[38;5;241m.\u001b[39mmsg)\n",
      "File \u001b[0;32m~/miniforge3/envs/scraping/lib/python3.13/http/client.py:1430\u001b[0m, in \u001b[0;36mHTTPConnection.getresponse\u001b[0;34m(self)\u001b[0m\n\u001b[1;32m   1428\u001b[0m \u001b[38;5;28;01mtry\u001b[39;00m:\n\u001b[1;32m   1429\u001b[0m     \u001b[38;5;28;01mtry\u001b[39;00m:\n\u001b[0;32m-> 1430\u001b[0m         \u001b[43mresponse\u001b[49m\u001b[38;5;241;43m.\u001b[39;49m\u001b[43mbegin\u001b[49m\u001b[43m(\u001b[49m\u001b[43m)\u001b[49m\n\u001b[1;32m   1431\u001b[0m     \u001b[38;5;28;01mexcept\u001b[39;00m \u001b[38;5;167;01mConnectionError\u001b[39;00m:\n\u001b[1;32m   1432\u001b[0m         \u001b[38;5;28mself\u001b[39m\u001b[38;5;241m.\u001b[39mclose()\n",
      "File \u001b[0;32m~/miniforge3/envs/scraping/lib/python3.13/http/client.py:331\u001b[0m, in \u001b[0;36mHTTPResponse.begin\u001b[0;34m(self)\u001b[0m\n\u001b[1;32m    329\u001b[0m \u001b[38;5;66;03m# read until we get a non-100 response\u001b[39;00m\n\u001b[1;32m    330\u001b[0m \u001b[38;5;28;01mwhile\u001b[39;00m \u001b[38;5;28;01mTrue\u001b[39;00m:\n\u001b[0;32m--> 331\u001b[0m     version, status, reason \u001b[38;5;241m=\u001b[39m \u001b[38;5;28;43mself\u001b[39;49m\u001b[38;5;241;43m.\u001b[39;49m\u001b[43m_read_status\u001b[49m\u001b[43m(\u001b[49m\u001b[43m)\u001b[49m\n\u001b[1;32m    332\u001b[0m     \u001b[38;5;28;01mif\u001b[39;00m status \u001b[38;5;241m!=\u001b[39m CONTINUE:\n\u001b[1;32m    333\u001b[0m         \u001b[38;5;28;01mbreak\u001b[39;00m\n",
      "File \u001b[0;32m~/miniforge3/envs/scraping/lib/python3.13/http/client.py:292\u001b[0m, in \u001b[0;36mHTTPResponse._read_status\u001b[0;34m(self)\u001b[0m\n\u001b[1;32m    291\u001b[0m \u001b[38;5;28;01mdef\u001b[39;00m\u001b[38;5;250m \u001b[39m\u001b[38;5;21m_read_status\u001b[39m(\u001b[38;5;28mself\u001b[39m):\n\u001b[0;32m--> 292\u001b[0m     line \u001b[38;5;241m=\u001b[39m \u001b[38;5;28mstr\u001b[39m(\u001b[38;5;28;43mself\u001b[39;49m\u001b[38;5;241;43m.\u001b[39;49m\u001b[43mfp\u001b[49m\u001b[38;5;241;43m.\u001b[39;49m\u001b[43mreadline\u001b[49m\u001b[43m(\u001b[49m\u001b[43m_MAXLINE\u001b[49m\u001b[43m \u001b[49m\u001b[38;5;241;43m+\u001b[39;49m\u001b[43m \u001b[49m\u001b[38;5;241;43m1\u001b[39;49m\u001b[43m)\u001b[49m, \u001b[38;5;124m\"\u001b[39m\u001b[38;5;124miso-8859-1\u001b[39m\u001b[38;5;124m\"\u001b[39m)\n\u001b[1;32m    293\u001b[0m     \u001b[38;5;28;01mif\u001b[39;00m \u001b[38;5;28mlen\u001b[39m(line) \u001b[38;5;241m>\u001b[39m _MAXLINE:\n\u001b[1;32m    294\u001b[0m         \u001b[38;5;28;01mraise\u001b[39;00m LineTooLong(\u001b[38;5;124m\"\u001b[39m\u001b[38;5;124mstatus line\u001b[39m\u001b[38;5;124m\"\u001b[39m)\n",
      "File \u001b[0;32m~/miniforge3/envs/scraping/lib/python3.13/socket.py:719\u001b[0m, in \u001b[0;36mSocketIO.readinto\u001b[0;34m(self, b)\u001b[0m\n\u001b[1;32m    717\u001b[0m     \u001b[38;5;28;01mraise\u001b[39;00m \u001b[38;5;167;01mOSError\u001b[39;00m(\u001b[38;5;124m\"\u001b[39m\u001b[38;5;124mcannot read from timed out object\u001b[39m\u001b[38;5;124m\"\u001b[39m)\n\u001b[1;32m    718\u001b[0m \u001b[38;5;28;01mtry\u001b[39;00m:\n\u001b[0;32m--> 719\u001b[0m     \u001b[38;5;28;01mreturn\u001b[39;00m \u001b[38;5;28;43mself\u001b[39;49m\u001b[38;5;241;43m.\u001b[39;49m\u001b[43m_sock\u001b[49m\u001b[38;5;241;43m.\u001b[39;49m\u001b[43mrecv_into\u001b[49m\u001b[43m(\u001b[49m\u001b[43mb\u001b[49m\u001b[43m)\u001b[49m\n\u001b[1;32m    720\u001b[0m \u001b[38;5;28;01mexcept\u001b[39;00m timeout:\n\u001b[1;32m    721\u001b[0m     \u001b[38;5;28mself\u001b[39m\u001b[38;5;241m.\u001b[39m_timeout_occurred \u001b[38;5;241m=\u001b[39m \u001b[38;5;28;01mTrue\u001b[39;00m\n",
      "File \u001b[0;32m~/miniforge3/envs/scraping/lib/python3.13/ssl.py:1304\u001b[0m, in \u001b[0;36mSSLSocket.recv_into\u001b[0;34m(self, buffer, nbytes, flags)\u001b[0m\n\u001b[1;32m   1300\u001b[0m     \u001b[38;5;28;01mif\u001b[39;00m flags \u001b[38;5;241m!=\u001b[39m \u001b[38;5;241m0\u001b[39m:\n\u001b[1;32m   1301\u001b[0m         \u001b[38;5;28;01mraise\u001b[39;00m \u001b[38;5;167;01mValueError\u001b[39;00m(\n\u001b[1;32m   1302\u001b[0m           \u001b[38;5;124m\"\u001b[39m\u001b[38;5;124mnon-zero flags not allowed in calls to recv_into() on \u001b[39m\u001b[38;5;132;01m%s\u001b[39;00m\u001b[38;5;124m\"\u001b[39m \u001b[38;5;241m%\u001b[39m\n\u001b[1;32m   1303\u001b[0m           \u001b[38;5;28mself\u001b[39m\u001b[38;5;241m.\u001b[39m\u001b[38;5;18m__class__\u001b[39m)\n\u001b[0;32m-> 1304\u001b[0m     \u001b[38;5;28;01mreturn\u001b[39;00m \u001b[38;5;28;43mself\u001b[39;49m\u001b[38;5;241;43m.\u001b[39;49m\u001b[43mread\u001b[49m\u001b[43m(\u001b[49m\u001b[43mnbytes\u001b[49m\u001b[43m,\u001b[49m\u001b[43m \u001b[49m\u001b[43mbuffer\u001b[49m\u001b[43m)\u001b[49m\n\u001b[1;32m   1305\u001b[0m \u001b[38;5;28;01melse\u001b[39;00m:\n\u001b[1;32m   1306\u001b[0m     \u001b[38;5;28;01mreturn\u001b[39;00m \u001b[38;5;28msuper\u001b[39m()\u001b[38;5;241m.\u001b[39mrecv_into(buffer, nbytes, flags)\n",
      "File \u001b[0;32m~/miniforge3/envs/scraping/lib/python3.13/ssl.py:1138\u001b[0m, in \u001b[0;36mSSLSocket.read\u001b[0;34m(self, len, buffer)\u001b[0m\n\u001b[1;32m   1136\u001b[0m \u001b[38;5;28;01mtry\u001b[39;00m:\n\u001b[1;32m   1137\u001b[0m     \u001b[38;5;28;01mif\u001b[39;00m buffer \u001b[38;5;129;01mis\u001b[39;00m \u001b[38;5;129;01mnot\u001b[39;00m \u001b[38;5;28;01mNone\u001b[39;00m:\n\u001b[0;32m-> 1138\u001b[0m         \u001b[38;5;28;01mreturn\u001b[39;00m \u001b[38;5;28;43mself\u001b[39;49m\u001b[38;5;241;43m.\u001b[39;49m\u001b[43m_sslobj\u001b[49m\u001b[38;5;241;43m.\u001b[39;49m\u001b[43mread\u001b[49m\u001b[43m(\u001b[49m\u001b[38;5;28;43mlen\u001b[39;49m\u001b[43m,\u001b[49m\u001b[43m \u001b[49m\u001b[43mbuffer\u001b[49m\u001b[43m)\u001b[49m\n\u001b[1;32m   1139\u001b[0m     \u001b[38;5;28;01melse\u001b[39;00m:\n\u001b[1;32m   1140\u001b[0m         \u001b[38;5;28;01mreturn\u001b[39;00m \u001b[38;5;28mself\u001b[39m\u001b[38;5;241m.\u001b[39m_sslobj\u001b[38;5;241m.\u001b[39mread(\u001b[38;5;28mlen\u001b[39m)\n",
      "\u001b[0;31mKeyboardInterrupt\u001b[0m: "
     ]
    }
   ],
   "source": [
    "from geopy.geocoders import Nominatim\n",
    "import time\n",
    "\n",
    "geolocator = Nominatim(user_agent=\"myGeocoder\", timeout=1) # have to try using different timeout values\n",
    "\n",
    "coordinates = []\n",
    "\n",
    "for index, row in breweries.iterrows():\n",
    "    brewery = row[\"Brasserie\"]\n",
    "    commune = row[\"Commune\"]\n",
    "    province = row[\"Province\"]\n",
    "    \n",
    "    retries = 3\n",
    "    for i in range(retries):\n",
    "        try:\n",
    "            location = geolocator.geocode(brewery) # first we try getting coords of the brewery (most precise)\n",
    "            if location:\n",
    "                coordinates.append((location.latitude, location.longitude))\n",
    "                break # when found coordinates break loop\n",
    "            else:\n",
    "                location = geolocator.geocode(commune) # moving onto commune\n",
    "                if location:\n",
    "                    coordinates.append((location.latitude, location.longitude))\n",
    "                    break\n",
    "                else:\n",
    "                    coordinates.append(None) # nothing found, might add manually\n",
    "                    break\n",
    "        except Exception as e:\n",
    "            print(f\"Error processing {brewery}: {e}\")\n",
    "            time.sleep(5)\n",
    "\n",
    "breweries[\"coordinates\"] = coordinates\n",
    "print(breweries.head())"
   ]
  }
 ],
 "metadata": {
  "kernelspec": {
   "display_name": "scraping",
   "language": "python",
   "name": "python3"
  },
  "language_info": {
   "codemirror_mode": {
    "name": "ipython",
    "version": 3
   },
   "file_extension": ".py",
   "mimetype": "text/x-python",
   "name": "python",
   "nbconvert_exporter": "python",
   "pygments_lexer": "ipython3",
   "version": "3.13.2"
  }
 },
 "nbformat": 4,
 "nbformat_minor": 2
}
